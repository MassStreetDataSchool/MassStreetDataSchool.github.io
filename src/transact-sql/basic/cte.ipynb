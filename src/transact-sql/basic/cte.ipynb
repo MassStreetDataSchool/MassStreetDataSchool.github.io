{
 "cells": [
  {
   "cell_type": "markdown",
   "metadata": {},
   "source": [
    "<a href=\"https://massstreetuniversity.com/\"><img src=\"https://tutorials.massstreetuniversity.com/images/logo.png\" alt=\"School Logo\"></a><br><br><br>\n",
    "<a href=\"http://tutorials.massstreetuniversity.com/transact-sql/\">Tutorial Home</a> | <a href=\"https://tutorials.massstreetuniversity.com/transact-sql/basic/deleting-data.html\">Previous</a> | <a href=\"https://tutorials.massstreetuniversity.com/transact-sql/basic/derived-tables.html\">Next</a>"
   ]
  },
  {
   "cell_type": "markdown",
   "metadata": {},
   "source": [
    "<h1>Lesson 20. Common Table Expressions (CTEs)</h1>"
   ]
  },
  {
   "cell_type": "markdown",
   "metadata": {},
   "source": [
    "CTEs are virtual datasets that you can create. When you create your CTE, it can be treated just like a table.\n",
    "\n",
    "The use case for CTEs is when you want to encapsulate business logic. Sometimes queries get too hairy and it is easier to just separate the datasets so the query is easier to write.\n",
    "\n",
    "The name of the columns that define the output of your CTE do not have to match the columns of the SQL statement used to create the CTE. Sometimes it is nice that they are the same. Other times, it is nice to have them different, especially if you are running a calculation on a particular column that winds up redefining the column definition. A good example would be running SUM() on DollarAmount. That column now represents total dollar amount and now the original column name is not very informative."
   ]
  },
  {
   "cell_type": "markdown",
   "metadata": {},
   "source": [
    "<h1>CTE Syntax</h1>"
   ]
  },
  {
   "cell_type": "code",
   "execution_count": null,
   "metadata": {},
   "outputs": [],
   "source": [
    ";\n",
    "WITH CTEName(Column1, Column2,...ColumnN)\n",
    "AS(\n",
    "--SQL statement that encapsulates complex business logic\n",
    ")\n",
    "--The main SQL statement that joins on the CTE"
   ]
  },
  {
   "cell_type": "markdown",
   "metadata": {},
   "source": [
    "<h1>Examples</h1>"
   ]
  },
  {
   "cell_type": "markdown",
   "metadata": {},
   "source": [
    "<strong>Basic CTE Example</strong>"
   ]
  },
  {
   "cell_type": "code",
   "execution_count": null,
   "metadata": {},
   "outputs": [],
   "source": [
    "USE AdventureWorks2016\n",
    "\n",
    ";\n",
    "WITH PersonWithNoMiddleName(BusinessEntityID, FirstName, LastName)\n",
    "AS(\n",
    "SELECT BusinessEntityID, FirstName, LastName\n",
    "FROM Person.Person\n",
    "WHERE MiddleName IS NULL\n",
    ")\n",
    "SELECT \n",
    "pwnmn.FirstName,\n",
    "pwnmn.LastName,\n",
    "e.EmailAddress\n",
    "FROM Person.EmailAddress e\n",
    "JOIN PersonWithNoMiddleName pwnmn\n",
    "ON pwnmn.BusinessEntityID = e.BusinessEntityID"
   ]
  },
  {
   "cell_type": "markdown",
   "metadata": {},
   "source": [
    "Copyright © 2020, Mass Street Analytics, LLC. All Rights Reserved."
   ]
  }
 ],
 "metadata": {
  "kernelspec": {
   "display_name": "Python 3",
   "language": "python",
   "name": "python3"
  },
  "language_info": {
   "codemirror_mode": {
    "name": "ipython",
    "version": 3
   },
   "file_extension": ".py",
   "mimetype": "text/x-python",
   "name": "python",
   "nbconvert_exporter": "python",
   "pygments_lexer": "ipython3",
   "version": "3.7.3"
  }
 },
 "nbformat": 4,
 "nbformat_minor": 2
}
