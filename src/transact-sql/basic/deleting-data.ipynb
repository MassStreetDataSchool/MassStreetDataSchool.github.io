{
 "cells": [
  {
   "cell_type": "markdown",
   "metadata": {},
   "source": [
    "<a href=\"https://massstreetuniversity.com/\"><img src=\"https://tutorials.massstreetuniversity.com/images/logo.png\" alt=\"School Logo\"></a><br><br><br>\n",
    "<a href=\"http://tutorials.massstreetuniversity.com/transact-sql/\">Tutorial Home</a> | <a href=\"https://tutorials.massstreetuniversity.com/transact-sql/basic/updating-data.html\">Previous</a> | <a href=\"https://tutorials.massstreetuniversity.com/transact-sql/basic/cte.html\">Next</a>"
   ]
  },
  {
   "cell_type": "markdown",
   "metadata": {},
   "source": [
    "<h1>Lesson 19. Deleting Data</h1>"
   ]
  },
  {
   "cell_type": "markdown",
   "metadata": {},
   "source": [
    "Deleting data is a dangerous operation. Like INSERT, DELETE operates on entire rows. You need to be extremely careful with its usage. It is not hard to blow away an entire table because coding got monotonous and your attention drifted. In order to prevent this catastrophe from happening, I recommend that you verify what you are deleting with a SELECT statement before you write your DELETE."
   ]
  },
  {
   "cell_type": "markdown",
   "metadata": {},
   "source": [
    "<h1>DELETE Syntax</h1>"
   ]
  },
  {
   "cell_type": "code",
   "execution_count": null,
   "metadata": {},
   "outputs": [],
   "source": [
    "DELETE --That is it. Just delete.\n",
    "\n",
    "FROM --The table you want to delete from.\n",
    "\n",
    "WHERE --The thing that saves you from being fired."
   ]
  },
  {
   "cell_type": "markdown",
   "metadata": {},
   "source": [
    "<h1>Examples</h1>"
   ]
  },
  {
   "cell_type": "markdown",
   "metadata": {},
   "source": [
    "<strong>Example Deletion Of One Record</strong>"
   ]
  },
  {
   "cell_type": "code",
   "execution_count": null,
   "metadata": {},
   "outputs": [],
   "source": [
    "USE demo\n",
    "\n",
    "DECLARE @Person AS TABLE (ID INT, FName NVARCHAR(100), LNAME NVARCHAR(100))\n",
    "\n",
    "INSERT INTO @Person(ID, FName, LNAME)\n",
    "SELECT 1,'Bob', 'Wakefield'\n",
    "UNION\n",
    "SELECT 2,'Vanna','White'\n",
    "UNION\n",
    "SELECT 3,'Pat','Sajak'\n",
    "\n",
    "\n",
    "SELECT *\n",
    "FROM @Person\n",
    "\n",
    "--Begin delete process\n",
    "DELETE \n",
    "FROM @Person\n",
    "WHERE ID = 1\n",
    "\n",
    "SELECT *\n",
    "FROM @Person"
   ]
  },
  {
   "cell_type": "markdown",
   "metadata": {},
   "source": [
    "Copyright © 2020, Mass Street Analytics, LLC. All Rights Reserved."
   ]
  }
 ],
 "metadata": {
  "kernelspec": {
   "display_name": "Python 3",
   "language": "python",
   "name": "python3"
  },
  "language_info": {
   "codemirror_mode": {
    "name": "ipython",
    "version": 3
   },
   "file_extension": ".py",
   "mimetype": "text/x-python",
   "name": "python",
   "nbconvert_exporter": "python",
   "pygments_lexer": "ipython3",
   "version": "3.7.3"
  }
 },
 "nbformat": 4,
 "nbformat_minor": 2
}
