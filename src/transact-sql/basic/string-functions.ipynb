{
 "cells": [
  {
   "cell_type": "markdown",
   "metadata": {},
   "source": [
    "<a href=\"https://massstreetuniversity.com/\"><img src=\"https://tutorials.massstreetuniversity.com/images/logo.png\" alt=\"School Logo\"></a><br><br><br>\n",
    "<a href=\"http://tutorials.massstreetuniversity.com/transact-sql/\">Tutorial Home</a> | <a href=\"https://tutorials.massstreetuniversity.com/transact-sql/basic/aliases.html\">Previous</a> | <a href=\"https://tutorials.massstreetuniversity.com/transact-sql/basic/calculated-fields.html\">Next</a>"
   ]
  },
  {
   "cell_type": "markdown",
   "metadata": {},
   "source": [
    "<h1>Lesson 9. String Functions</h1>"
   ]
  },
  {
   "cell_type": "markdown",
   "metadata": {},
   "source": [
    "If you work in analytics, you are going to be spending a lot of time manipulating strings. You are pretty much going to use ALL the string functions at some point.\n",
    "\n",
    "This is an opinionated list of frequently used string functions.\n",
    "\n",
    "<table width=\"100%\" border=\"1\" align=\"center\">\n",
    "  <tbody>\n",
    "      <th scope=\"col\">Function</th>\n",
    "      <th scope=\"col\">Explanation</th>\n",
    "    <tr>\n",
    "      <td valign=\"top\">CONCAT</td>\n",
    "      <td valign=\"top\">Lets you combine string values.</td>\n",
    "    </tr>\n",
    "    <tr>\n",
    "      <td valign=\"top\">LEN</td>\n",
    "      <td valign=\"top\"> Lets you count the number of characters a string has. Does not count trailing spaces.</td>\n",
    "    </tr>\n",
    "    <tr>\n",
    "      <td valign=\"top\">LEFT</td>\n",
    "      <td valign=\"top\"> Lets you select a specified number of characters from the left.</td>\n",
    "    </tr>\n",
    "    <tr>\n",
    "      <td valign=\"top\">RIGHT</td>\n",
    "      <td valign=\"top\"> Lets you select a specified number of characters from the right.</td>\n",
    "    </tr>\n",
    "    <tr>\n",
    "      <td valign=\"top\">LTRIM</td>\n",
    "      <td valign=\"top\"> Lets you remove spaces from the start of a string.</td>\n",
    "    </tr>\n",
    "    <tr>\n",
    "      <td valign=\"top\">RTRIM</td>\n",
    "      <td valign=\"top\"> Lets you remove spaces from the end of a string.</td>\n",
    "    </tr>\n",
    "    <tr>\n",
    "      <td valign=\"top\">REPLACE</td>\n",
    "      <td valign=\"top\"> Lets you replace a string in a string with another string.</td>\n",
    "    </tr>\n",
    "    <tr>\n",
    "      <td valign=\"top\">SUBSTRING</td>\n",
    "      <td valign=\"top\"> Lets you select a specified number of characters from any starting point in a string.</td>\n",
    "    </tr>\n",
    "  </tbody\n",
    "></table>"
   ]
  },
  {
   "cell_type": "markdown",
   "metadata": {},
   "source": [
    "<h1>Examples</h1>"
   ]
  },
  {
   "cell_type": "markdown",
   "metadata": {},
   "source": [
    "<strong>Example Of String Function Usage</strong>\n",
    "\n",
    "Here is example usage of the functions above. Some functions like RTRIM are hard to determine if anything is happening because the data in AdventureWorks is very clean.\n",
    "\n",
    "Parameter values are 1 based meaning that the index starts at 1."
   ]
  },
  {
   "cell_type": "code",
   "execution_count": null,
   "metadata": {},
   "outputs": [],
   "source": [
    "USE AdventureWorks2016\n",
    "\n",
    "SELECT\n",
    "FirstName,\n",
    "MiddleName,\n",
    "LastName,\n",
    "CONCAT(FirstName,MiddleName,LastName) AS SmooshedTogether\n",
    "FROM Person.Person\n",
    "\n",
    "SELECT \n",
    "Description,\n",
    "LEN(Description) AS CountOfCharactersInDescription\n",
    "FROM Production.ProductDescription\n",
    "\n",
    "SELECT \n",
    "Description,\n",
    "LEFT(Description,20) AS Left20Chars\n",
    "FROM Production.ProductDescription\n",
    "\n",
    "SELECT \n",
    "Description,\n",
    "RIGHT(Description,20) AS Right20Chars\n",
    "FROM Production.ProductDescription\n",
    "\n",
    "SELECT \n",
    "Description,\n",
    "LTRIM(Description) AS LeadingSpaceRemoved\n",
    "FROM Production.ProductDescription\n",
    "\n",
    "SELECT \n",
    "Description,\n",
    "RTRIM(Description) AS TrailingSpaceRemoved\n",
    "FROM Production.ProductDescription\n",
    "\n",
    "SELECT \n",
    "Description,\n",
    "REPLACE(Description,'large', 'small') AS DescriptionChanged\n",
    "FROM Production.ProductDescription\n",
    "WHERE ProductDescriptionID = 4\n",
    "\n",
    "SELECT \n",
    "Description,\n",
    "SUBSTRING(Description, 10, 15) AS RandomSubstringSelection\n",
    "FROM Production.ProductDescription"
   ]
  },
  {
   "cell_type": "markdown",
   "metadata": {},
   "source": [
    "Copyright © 2020, Mass Street Analytics, LLC. All Rights Reserved."
   ]
  }
 ],
 "metadata": {
  "kernelspec": {
   "display_name": "Python 3",
   "language": "python",
   "name": "python3"
  },
  "language_info": {
   "codemirror_mode": {
    "name": "ipython",
    "version": 3
   },
   "file_extension": ".py",
   "mimetype": "text/x-python",
   "name": "python",
   "nbconvert_exporter": "python",
   "pygments_lexer": "ipython3",
   "version": "3.7.3"
  }
 },
 "nbformat": 4,
 "nbformat_minor": 2
}
