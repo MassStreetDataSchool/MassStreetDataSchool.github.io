{
 "cells": [
  {
   "cell_type": "markdown",
   "metadata": {},
   "source": [
    "<a href=\"https://massstreetuniversity.com/\"><img src=\"https://tutorials.massstreetuniversity.com/images/logo.png\" alt=\"School Logo\"></a><br><br><br>\n",
    "<a href=\"http://tutorials.massstreetuniversity.com/transact-sql/\">Tutorial Home</a> | <a href=\"https://tutorials.massstreetuniversity.com/transact-sql/basic/creating-data.html\">Previous</a> | <a href=\"https://tutorials.massstreetuniversity.com/transact-sql/basic/deleting-data.html\">Next</a>"
   ]
  },
  {
   "cell_type": "markdown",
   "metadata": {},
   "source": [
    "<h1>Lesson 18. Updating Data</h1>"
   ]
  },
  {
   "cell_type": "markdown",
   "metadata": {},
   "source": [
    "You update data with the SQL UPDATE statement. When you update data and you only want to update a single row, make sure you have a filter on your query of exactly what you are updating, otherwise you are going to wind up updating the entire table."
   ]
  },
  {
   "cell_type": "markdown",
   "metadata": {},
   "source": [
    "<h1>UPDATE Syntax</h1>"
   ]
  },
  {
   "cell_type": "code",
   "execution_count": null,
   "metadata": {},
   "outputs": [],
   "source": [
    "UPDATE --the table you want to update\n",
    "\n",
    "SET --the new value in the column you want to change\n",
    "\n",
    "WHERE --The conditions you specify"
   ]
  },
  {
   "cell_type": "markdown",
   "metadata": {},
   "source": [
    "<h1>Examples</h1>"
   ]
  },
  {
   "cell_type": "markdown",
   "metadata": {},
   "source": [
    "<strong>Simple Update Example</strong>"
   ]
  },
  {
   "cell_type": "code",
   "execution_count": null,
   "metadata": {},
   "outputs": [],
   "source": [
    "USE Demo\n",
    "\n",
    "DECLARE @Person AS TABLE (ID INT, FName NVARCHAR(100), LNAME NVARCHAR(100))\n",
    "\n",
    "INSERT INTO @Person(ID, FName, LNAME)\n",
    "SELECT 1,'Bob', 'Wakefield'\n",
    "UNION\n",
    "SELECT 2,'Vanna','White'\n",
    "UNION\n",
    "SELECT 3,'Pat','Sajak'\n",
    "\n",
    "\n",
    "SELECT *\n",
    "FROM @Person\n",
    "WHERE ID = 1\n",
    "\n",
    "--Begin update process\n",
    "UPDATE @Person\n",
    "SET LNAME = 'Johnson'\n",
    "WHERE ID = 1\n",
    "\n",
    "SELECT *\n",
    "FROM @Person\n",
    "WHERE ID = 1"
   ]
  },
  {
   "cell_type": "markdown",
   "metadata": {},
   "source": [
    "Copyright © 2020, Mass Street Analytics, LLC. All Rights Reserved."
   ]
  }
 ],
 "metadata": {
  "kernelspec": {
   "display_name": "Python 3",
   "language": "python",
   "name": "python3"
  },
  "language_info": {
   "codemirror_mode": {
    "name": "ipython",
    "version": 3
   },
   "file_extension": ".py",
   "mimetype": "text/x-python",
   "name": "python",
   "nbconvert_exporter": "python",
   "pygments_lexer": "ipython3",
   "version": "3.7.3"
  }
 },
 "nbformat": 4,
 "nbformat_minor": 2
}
