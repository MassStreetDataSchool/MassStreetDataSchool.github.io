{
 "cells": [
  {
   "cell_type": "markdown",
   "metadata": {},
   "source": [
    "<a href=\"https://massstreetuniversity.com/\"><img src=\"https://tutorials.massstreetuniversity.com/images/logo.png\" alt=\"School Logo\"></a><br><br><br>\n",
    "<a href=\"http://tutorials.massstreetuniversity.com/transact-sql/\">Tutorial Home</a> | <a href=\"https://tutorials.massstreetuniversity.com/transact-sql/basic/complex-data-filtering.html\">Previous</a> | <a href=\"https://tutorials.massstreetuniversity.com/transact-sql/basic/string-functions.html\">Next</a>"
   ]
  },
  {
   "cell_type": "markdown",
   "metadata": {},
   "source": [
    "<h1>Lesson 8. Aliases</h1>"
   ]
  },
  {
   "cell_type": "markdown",
   "metadata": {},
   "source": [
    "Aliases are a way of renaming things. This comes in handy in a variety of ways. There are two kinds of aliases.\n",
    "\n",
    "<strong>Column Aliases</strong>\n",
    "\n",
    "Column aliases let you rename a column by using the SQL keyword AS. There are a few reasons you would want to rename a column.\n",
    "\n",
    "<ol>\n",
    "<li>When you create a column based on a calculation, SQL Server does not automatically give it a name. You have to do that.</li><br>\n",
    "<li>When you are creating views for users you do not want to use ugly database names. You can rename the column to something that will show up pretty in the user’s BI tool.</li><br>\n",
    "<li>Sometimes you want to rename things for your own personal sanity. When you are pulling data from more than one table and those tables have the same column names, it can become confusing in a hurry.</li><br>\n",
    "</ol>\n",
    "\n",
    "In the case of scenario two, you may want to create a column name with a space in it. To do that, you have to wrap your alias in brackets.\n",
    "\n",
    "<strong>Table Aliases</strong>\n",
    "\n",
    "Table aliases let you rename tables. There are a lot of reasons to do this. Those reasons will become apparent when you start pulling data from more than one table. A table alias makes it easier to refer to a table and helps you keep columns straight.\n",
    "\n",
    "To alias a table, just put what you want to call the table behind the table name in the FROM clause."
   ]
  },
  {
   "cell_type": "markdown",
   "metadata": {},
   "source": [
    "<h1>Examples</h1>"
   ]
  },
  {
   "cell_type": "markdown",
   "metadata": {},
   "source": [
    "<strong>Column Alias Example</strong>"
   ]
  },
  {
   "cell_type": "code",
   "execution_count": null,
   "metadata": {},
   "outputs": [],
   "source": [
    "USE AdventureWorks2016\n",
    "\n",
    "SELECT\n",
    "Name AS [Product Name],\n",
    "ProductNumber AS [Product Number]\n",
    "FROM Production.Product"
   ]
  },
  {
   "cell_type": "markdown",
   "metadata": {},
   "source": [
    "<strong>Table Alias Example</strong>"
   ]
  },
  {
   "cell_type": "code",
   "execution_count": null,
   "metadata": {},
   "outputs": [],
   "source": [
    "USE AdventureWorks2016\n",
    "\n",
    "SELECT\n",
    "p.ProductID,\n",
    "p.Name,\n",
    "p.ProductNumber\n",
    "FROM Production.Product p"
   ]
  },
  {
   "cell_type": "markdown",
   "metadata": {},
   "source": [
    "Copyright © 2020, Mass Street Analytics, LLC. All Rights Reserved."
   ]
  }
 ],
 "metadata": {
  "kernelspec": {
   "display_name": "Python 3",
   "language": "python",
   "name": "python3"
  },
  "language_info": {
   "codemirror_mode": {
    "name": "ipython",
    "version": 3
   },
   "file_extension": ".py",
   "mimetype": "text/x-python",
   "name": "python",
   "nbconvert_exporter": "python",
   "pygments_lexer": "ipython3",
   "version": "3.7.3"
  }
 },
 "nbformat": 4,
 "nbformat_minor": 2
}
