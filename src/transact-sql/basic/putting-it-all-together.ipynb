{
 "cells": [
  {
   "cell_type": "markdown",
   "metadata": {},
   "source": [
    "<a href=\"https://massstreetuniversity.com/\"><img src=\"https://tutorials.massstreetuniversity.com/images/logo.png\" alt=\"School Logo\"></a><br><br><br>\n",
    "<a href=\"http://tutorials.massstreetuniversity.com/transact-sql/\">Tutorial Home</a> | <a href=\"https://tutorials.massstreetuniversity.com/transact-sql/basic/derived-tables.html\">Previous</a> | <a href=\"https://tutorials.massstreetuniversity.com/transact-sql/advanced/selecting-unique-values.html\">Next</a>"
   ]
  },
  {
   "cell_type": "markdown",
   "metadata": {},
   "source": [
    "<h1>Lesson 22. Putting It All Together</h1>"
   ]
  },
  {
   "cell_type": "markdown",
   "metadata": {},
   "source": [
    "Below are some examples of how all the concepts we learned about in the basic section work together."
   ]
  },
  {
   "cell_type": "markdown",
   "metadata": {},
   "source": [
    "<h1>Examples</h1>"
   ]
  },
  {
   "cell_type": "markdown",
   "metadata": {},
   "source": [
    "<strong> Joining More Than Two Tables</strong>"
   ]
  },
  {
   "cell_type": "code",
   "execution_count": null,
   "metadata": {},
   "outputs": [],
   "source": [
    "USE AdventureWorks2016\n",
    "\n",
    "SELECT\n",
    "p.FirstName,\n",
    "p.LastName,\n",
    "soh.OrderDate,\n",
    "sod.LineTotal\n",
    "FROM Person.Person p\n",
    "JOIN Sales.SalesPerson sp\n",
    "ON p.BusinessEntityID = sp.BusinessEntityID\n",
    "JOIN Sales.SalesOrderHeader soh\n",
    "ON sp.BusinessEntityID = soh.SalesPersonID\n",
    "JOIN Sales.SalesOrderDetail sod\n",
    "ON soh.SalesOrderID = sod.SalesOrderDetailID"
   ]
  },
  {
   "cell_type": "markdown",
   "metadata": {},
   "source": [
    "<strong> String Functions And Aliases</strong>"
   ]
  },
  {
   "cell_type": "code",
   "execution_count": null,
   "metadata": {},
   "outputs": [],
   "source": [
    "USE AdventureWorks2016\n",
    "\n",
    "SELECT\n",
    "CONCAT(p.FirstName, ' ',p.LastName) AS SalesPerson,\n",
    "DATEPART(month,soh.OrderDate) AS MonthOfSale,\n",
    "sod.LineTotal AS TotalSales\n",
    "FROM Person.Person p\n",
    "JOIN Sales.SalesPerson sp\n",
    "ON p.BusinessEntityID = sp.BusinessEntityID\n",
    "JOIN Sales.SalesOrderHeader soh\n",
    "ON sp.BusinessEntityID = soh.SalesPersonID\n",
    "JOIN Sales.SalesOrderDetail sod\n",
    "ON soh.SalesOrderID = sod.SalesOrderDetailID"
   ]
  },
  {
   "cell_type": "markdown",
   "metadata": {},
   "source": [
    "<strong> Grouping, Summarizing, And Ordering</strong>"
   ]
  },
  {
   "cell_type": "code",
   "execution_count": null,
   "metadata": {},
   "outputs": [],
   "source": [
    "USE AdventureWorks2016\n",
    "\n",
    "SELECT\n",
    "CONCAT(p.FirstName, ' ',p.LastName) AS SalesPerson,\n",
    "DATEPART(month,soh.OrderDate) AS MonthOfSale,\n",
    "SUM(sod.LineTotal) AS TotalSales\n",
    "FROM Person.Person p\n",
    "JOIN Sales.SalesPerson sp\n",
    "ON p.BusinessEntityID = sp.BusinessEntityID\n",
    "JOIN Sales.SalesOrderHeader soh\n",
    "ON sp.BusinessEntityID = soh.SalesPersonID\n",
    "JOIN Sales.SalesOrderDetail sod\n",
    "ON soh.SalesOrderID = sod.SalesOrderDetailID\n",
    "GROUP BY p.LastName, p.FirstName, DATEPART(month,soh.OrderDate)\n",
    "ORDER BY p.LastName, p.FirstName, DATEPART(month,soh.OrderDate)"
   ]
  },
  {
   "cell_type": "markdown",
   "metadata": {},
   "source": [
    "<strong> Subquery</strong>"
   ]
  },
  {
   "cell_type": "code",
   "execution_count": null,
   "metadata": {},
   "outputs": [],
   "source": [
    "USE AdventureWorks2016\n",
    "\n",
    "SELECT\n",
    "CONCAT(p.FirstName, ' ',p.LastName) AS SalesPerson,\n",
    "DATEPART(month,soh.OrderDate) AS MonthOfSale,\n",
    "SUM(sod.LineTotal) AS TotalSales\n",
    "FROM Person.Person p\n",
    "JOIN Sales.SalesPerson sp\n",
    "ON p.BusinessEntityID = sp.BusinessEntityID\n",
    "JOIN Sales.SalesOrderHeader soh\n",
    "ON sp.BusinessEntityID = soh.SalesPersonID\n",
    "JOIN Sales.SalesOrderDetail sod\n",
    "ON soh.SalesOrderID = sod.SalesOrderDetailID\n",
    "WHERE 1 = 1\n",
    "AND sod.CarrierTrackingNumber IN (SELECT CarrierTrackingNumber FROM Sales.SalesOrderDetail WHERE CarrierTrackingNumber IS NOT NULL)\n",
    "GROUP BY p.LastName, p.FirstName, DATEPART(month,soh.OrderDate)\n",
    "ORDER BY p.LastName, p.FirstName, DATEPART(month,soh.OrderDate)"
   ]
  },
  {
   "cell_type": "markdown",
   "metadata": {},
   "source": [
    "<strong> CTEs</strong>"
   ]
  },
  {
   "cell_type": "code",
   "execution_count": null,
   "metadata": {},
   "outputs": [],
   "source": [
    "USE AdventureWorks2016\n",
    "\n",
    ";\n",
    "WITH PersonWithNoMiddleName(BusinessEntityID, FirstName, LastName)\n",
    "AS(\n",
    "SELECT BusinessEntityID, FirstName, LastName\n",
    "FROM Person.Person\n",
    "WHERE MiddleName IS NULL\n",
    ")\n",
    "SELECT\n",
    "CONCAT(p.FirstName, ' ',p.LastName) AS SalesPerson,\n",
    "DATEPART(month,soh.OrderDate) AS MonthOfSale,\n",
    "SUM(sod.LineTotal) AS TotalSales\n",
    "FROM Person.Person p\n",
    "JOIN Sales.SalesPerson sp\n",
    "ON p.BusinessEntityID = sp.BusinessEntityID\n",
    "JOIN Sales.SalesOrderHeader soh\n",
    "ON sp.BusinessEntityID = soh.SalesPersonID\n",
    "JOIN Sales.SalesOrderDetail sod\n",
    "ON soh.SalesOrderID = sod.SalesOrderDetailID\n",
    "JOIN PersonWithNoMiddleName pwnmn\n",
    "ON pwnmn.BusinessEntityID = p.BusinessEntityID\n",
    "WHERE 1 = 1\n",
    "AND sod.CarrierTrackingNumber IN (SELECT CarrierTrackingNumber FROM Sales.SalesOrderDetail WHERE CarrierTrackingNumber IS NOT NULL)\n",
    "GROUP BY p.LastName, p.FirstName, DATEPART(month,soh.OrderDate)\n",
    "ORDER BY p.LastName, p.FirstName, DATEPART(month,soh.OrderDate)"
   ]
  },
  {
   "cell_type": "markdown",
   "metadata": {},
   "source": [
    "Copyright © 2020, Mass Street Analytics, LLC. All Rights Reserved."
   ]
  }
 ],
 "metadata": {
  "kernelspec": {
   "display_name": "Python 3",
   "language": "python",
   "name": "python3"
  },
  "language_info": {
   "codemirror_mode": {
    "name": "ipython",
    "version": 3
   },
   "file_extension": ".py",
   "mimetype": "text/x-python",
   "name": "python",
   "nbconvert_exporter": "python",
   "pygments_lexer": "ipython3",
   "version": "3.7.3"
  }
 },
 "nbformat": 4,
 "nbformat_minor": 2
}
