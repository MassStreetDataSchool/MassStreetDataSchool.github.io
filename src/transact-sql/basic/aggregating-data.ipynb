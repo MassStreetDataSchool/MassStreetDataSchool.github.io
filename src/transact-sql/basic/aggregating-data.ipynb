{
 "cells": [
  {
   "cell_type": "markdown",
   "metadata": {},
   "source": [
    "<a href=\"https://massstreetuniversity.com/\"><img src=\"https://tutorials.massstreetuniversity.com/images/logo.png\" alt=\"School Logo\"></a><br><br><br>\n",
    "<a href=\"http://tutorials.massstreetuniversity.com/transact-sql/\">Tutorial Home</a> | <a href=\"https://tutorials.massstreetuniversity.com/transact-sql/basic/aggregate-functions.html\">Previous</a> | <a href=\"https://tutorials.massstreetuniversity.com/transact-sql/basic/joining-tables.html\">Next</a>"
   ]
  },
  {
   "cell_type": "markdown",
   "metadata": {},
   "source": [
    "<h1>Lesson 13. Grouping And Summarizing Data</h1>"
   ]
  },
  {
   "cell_type": "markdown",
   "metadata": {},
   "source": [
    "In the section on aggregate functions, all of the examples ran operations on the entire table. While that is sometimes useful information, executives usually want to see totals of things by logical groups. \n",
    "\n",
    "For example, an executive may want to see total sales by all the stores in the organization. This is where GROUP BY and HAVING come into play.\n",
    "\n",
    "GROUP BY the columns you want to group on.\n",
    "\n",
    "HAVING the conditions you specify.\n",
    "\n",
    "A peculiar rule of GROUP BY is you can specify any column in the table in the GROUP BY clause. Having a select statement that is nothing but the aggregate value is totally legal. But you can NOT have a column in your SELECT clause that is NOT in your GROUP BY clause.\n",
    "\n",
    "The difference between HAVING and WHERE is that HAVING is for specifying conditions on the aggregate value. So, you can say give me all the average values grouped by store where the average is greater than some arbitrary value."
   ]
  },
  {
   "cell_type": "markdown",
   "metadata": {},
   "source": [
    "<h1>Examples</h1>"
   ]
  },
  {
   "cell_type": "markdown",
   "metadata": {},
   "source": [
    "<strong>Three Examples Of Grouping And Summarizing Data</strong>"
   ]
  },
  {
   "cell_type": "code",
   "execution_count": null,
   "metadata": {},
   "outputs": [],
   "source": [
    "USE AdventureWorks2016\n",
    "\n",
    "--this is valid SQL\n",
    "SELECT SUM(LineTotal)\n",
    "FROM Sales.SalesOrderDetail\n",
    "GROUP BY ProductID\n",
    "\n",
    "--this is a syntax violation\n",
    "SELECT UnitPrice, SUM(LineTotal)\n",
    "FROM Sales.SalesOrderDetail\n",
    "GROUP BY ProductID\n",
    "\n",
    "SELECT ProductID, SUM(LineTotal) AS SumOfOrders\n",
    "FROM Sales.SalesOrderDetail\n",
    "GROUP BY ProductID\n",
    "HAVING SUM(LineTotal) > 100000"
   ]
  },
  {
   "cell_type": "markdown",
   "metadata": {},
   "source": [
    "Copyright © 2020, Mass Street Analytics, LLC. All Rights Reserved."
   ]
  }
 ],
 "metadata": {
  "kernelspec": {
   "display_name": "Python 3",
   "language": "python",
   "name": "python3"
  },
  "language_info": {
   "codemirror_mode": {
    "name": "ipython",
    "version": 3
   },
   "file_extension": ".py",
   "mimetype": "text/x-python",
   "name": "python",
   "nbconvert_exporter": "python",
   "pygments_lexer": "ipython3",
   "version": "3.7.3"
  }
 },
 "nbformat": 4,
 "nbformat_minor": 2
}
