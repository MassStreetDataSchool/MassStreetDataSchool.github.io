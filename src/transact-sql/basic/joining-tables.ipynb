{
 "cells": [
  {
   "cell_type": "markdown",
   "metadata": {},
   "source": [
    "<a href=\"https://massstreetuniversity.com/\"><img src=\"https://tutorials.massstreetuniversity.com/images/logo.png\" alt=\"School Logo\"></a><br><br><br>\n",
    "<a href=\"http://tutorials.massstreetuniversity.com/transact-sql/\">Tutorial Home</a> | <a href=\"https://tutorials.massstreetuniversity.com/transact-sql/basic/aggregating-data.html\">Previous</a> | <a href=\"https://tutorials.massstreetuniversity.com/transact-sql/basic/combining-queries.html\">Next</a>"
   ]
  },
  {
   "cell_type": "markdown",
   "metadata": {},
   "source": [
    "<h1>Lesson 14. Querying More Than One Table</h1>"
   ]
  },
  {
   "cell_type": "markdown",
   "metadata": {},
   "source": [
    "In this section, your query skills are going to take a quantum leap from interesting to useful. \n",
    "\n",
    "Databases are collections of tables that are built in a manner such that they store data in the form of a relationship. Unless you are looking at a flat reporting table, the only way you are going to get what you need is by creating queries that combine information from more than one table.\n",
    "\n",
    "There are many kinds of relationships in a database. Talking about them all is beyond the scope of this tutorial. We will talk about how to identify relationships so you can figure out how to query a table. \n",
    "\n",
    "Table relationships are set up as parent child. In the most common example, the records in a parent table have one to many related records in a child table.\n",
    "\n",
    "Relationships are defined by keys. In SSMS, you can expand the columns of a table and see that there will be a key icon denoting that column as a key of some sort. There are two kinds of keys you need to be aware of.\n",
    "\n",
    "Primary keys. Denoted in SSMS by the PK indicator in the column display. These keys are unique identifiers of tables.\n",
    "\n",
    "Foreign keys. Denoted in SSMS by the FK indicator in the column display. These keys are the primary keys of a child table’s parent table. If the database is designed properly, the column will be the same name in both tables.\n",
    "\n",
    "You join tables by connecting them by their keys using the JOIN ON clause. \n",
    "\n",
    "<ol>\n",
    "<li>JOIN the table you would like to add to the query.</li><br>\n",
    "<li>ON the primary key and foreign key of the tables.</li><br>\n",
    "</ol>\n",
    "\n",
    "Now you can see why aliases come in handy. When you join more than one table, you have to fully qualify column names so SQL Server knows which column in which table you are referring to. It would be annoying to have to write out the table name so many times.\n",
    "\n",
    "There are different kinds of joins and more than one join syntax. From a syntax perspective, I will be teaching you my preferred way to write joins."
   ]
  },
  {
   "cell_type": "markdown",
   "metadata": {},
   "source": [
    "<h1>JOIN Syntax</h1>"
   ]
  },
  {
   "cell_type": "code",
   "execution_count": null,
   "metadata": {},
   "outputs": [],
   "source": [
    "SELECT *\n",
    "FROM table1 t1\n",
    "JOIN table2 t2\n",
    "ON t1.KeyName = t2.KeyName"
   ]
  },
  {
   "cell_type": "markdown",
   "metadata": {},
   "source": [
    "<h1>Examples</h1>"
   ]
  },
  {
   "cell_type": "markdown",
   "metadata": {},
   "source": [
    "<strong>Inner Join</strong>\n",
    "\n",
    "Returns only matching records between the parent and child. I write my statements so the parent table is above the child. That way I can quickly see what the relationship is."
   ]
  },
  {
   "cell_type": "code",
   "execution_count": null,
   "metadata": {},
   "outputs": [],
   "source": [
    "USE AdventureWorks2016\n",
    "\n",
    "SELECT *\n",
    "FROM Sales.SalesOrderHeader soh\n",
    "JOIN Sales.SalesOrderDetail sod\n",
    "ON soh.SalesOrderID = sod.SalesOrderID"
   ]
  },
  {
   "cell_type": "markdown",
   "metadata": {},
   "source": [
    "<strong>Left And Right Outer Join</strong>\n",
    "\n",
    "The next two examples will demonstrate how to get all of the records from one table and only matching records from the other. This comes in handy when you want to see where there are records with no match or when the join between two tables is interesting but not necessarily an absolute reporting requirement.\n",
    "\n",
    "The left and right notation refers to which table you want to return all records from. If you want all records from the left table, then you write the query so that table is on the left side of the equality in the ON clause and vice versa.\n",
    "\n",
    "In the example below, you can see how the JOIN clause is modified. Technically, the word OUTER is not mandatory, but I write it anyway because on the job it really helps the JOIN clause stick out in a 1,000 line stored procedure.\n",
    "\n",
    "Here I only show a LEFT OUTER JOIN because the way I write SQL statements makes writing a RIGHT OUTER JOIN a rare occurrence. Rare as in I cannot even think of a time when I did it."
   ]
  },
  {
   "cell_type": "code",
   "execution_count": null,
   "metadata": {},
   "outputs": [],
   "source": [
    "USE AdventureWorks2016\n",
    "\n",
    "\n",
    "SELECT \n",
    "p.FirstName,\n",
    "p.LastName,\n",
    "e.JobTitle,\n",
    "e.HireDate\n",
    "FROM Person.Person p\n",
    "LEFT OUTER JOIN HumanResources.Employee e\n",
    "ON p.BusinessEntityID = e.BusinessEntityID"
   ]
  },
  {
   "cell_type": "markdown",
   "metadata": {},
   "source": [
    "<strong>Joins I Never Use</strong>\n",
    "\n",
    "There are more joins that I wanted to make you aware of but, honestly, I rarely, if ever, use these joins in actual practice.\n",
    "\n",
    "FULL OUTER JOIN – Get all the records from the left and right table regardless of any matching.\n",
    "\n",
    "CROSS JOIN – This is what is called a Cartesian product. This type of join gets you every possible combination of join between two tables. Put another way, every single record in one table joined to every single record in another table. I actually will use CROSS JOIN from time to time. It comes in handy when you need to populate a junk dimension and you already know every single value that will go in the table.\n",
    "\n",
    "Self-Join – This is more conceptual than an actual JOIN clause. Self joins exist, but, if you have to do them, then in all likelihood, the table you are working with was poorly designed."
   ]
  },
  {
   "cell_type": "markdown",
   "metadata": {},
   "source": [
    "Copyright © 2020, Mass Street Analytics, LLC. All Rights Reserved."
   ]
  }
 ],
 "metadata": {
  "kernelspec": {
   "display_name": "Python 3",
   "language": "python",
   "name": "python3"
  },
  "language_info": {
   "codemirror_mode": {
    "name": "ipython",
    "version": 3
   },
   "file_extension": ".py",
   "mimetype": "text/x-python",
   "name": "python",
   "nbconvert_exporter": "python",
   "pygments_lexer": "ipython3",
   "version": "3.7.3"
  }
 },
 "nbformat": 4,
 "nbformat_minor": 2
}
