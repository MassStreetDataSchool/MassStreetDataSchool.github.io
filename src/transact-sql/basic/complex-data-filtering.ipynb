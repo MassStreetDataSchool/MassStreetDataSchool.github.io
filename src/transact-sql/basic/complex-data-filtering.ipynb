{
 "cells": [
  {
   "cell_type": "markdown",
   "metadata": {},
   "source": [
    "<a href=\"https://massstreetuniversity.com/\"><img src=\"https://tutorials.massstreetuniversity.com/images/logo.png\" alt=\"School Logo\"></a><br><br><br>\n",
    "<a href=\"http://tutorials.massstreetuniversity.com/transact-sql/\">Tutorial Home</a> | <a href=\"https://tutorials.massstreetuniversity.com/transact-sql/basic/sorting-data.html\">Previous</a> | <a href=\"https://tutorials.massstreetuniversity.com/transact-sql/basic/aliases.html\">Next</a>"
   ]
  },
  {
   "cell_type": "markdown",
   "metadata": {},
   "source": [
    "<h1>Lesson 7. Complex Data Filtering</h1>"
   ]
  },
  {
   "cell_type": "markdown",
   "metadata": {},
   "source": [
    "Data can be filtered in a lot of different ways. You can be very specific in order to get exactly what you want. \n",
    "\n",
    "Filters are built with logic operators. The logic operators in SQL are very much like the logic operators you will find in any language."
   ]
  },
  {
   "cell_type": "markdown",
   "metadata": {},
   "source": [
    "<u><strong>Filtering Individual Columns</strong></u>\n",
    "\n",
    "The following are the logic operators for filtering individual columns.\n",
    "\n",
    "<table width=\"100%\" border=\"1\" align=\"center\">\n",
    "  <tbody>\n",
    "    <tr>\n",
    "      <th scope=\"col\" valign=\"top\">Operator</th>\n",
    "      <th scope=\"col\" valign=\"top\">Operator Description</th>\n",
    "    </tr>\n",
    "    <tr>\n",
    "      <td valign=\"top\">=</td>\n",
    "      <td valign=\"top\">Equals</td>\n",
    "    </tr>\n",
    "    <tr>\n",
    "      <td valign=\"top\">&lt;&gt;</td>\n",
    "      <td valign=\"top\">Does not equal</td>\n",
    "    </tr>\n",
    "    <tr>\n",
    "      <td valign=\"top\">&lt;</td>\n",
    "      <td valign=\"top\">Less than</td>\n",
    "    </tr>\n",
    "    <tr>\n",
    "      <td valign=\"top\">&gt;</td>\n",
    "      <td valign=\"top\">Greater than</td>\n",
    "    </tr>\n",
    "    <tr>\n",
    "      <td valign=\"top\">&lt;=</td>\n",
    "      <td valign=\"top\">Less than or equal to</td>\n",
    "    </tr>\n",
    "    <tr>\n",
    "      <td valign=\"top\">&gt;=</td>\n",
    "      <td valign=\"top\">Greater than or equal to</td>\n",
    "    </tr>\n",
    "    <tr>\n",
    "      <td valign=\"top\">!=</td>\n",
    "      <td valign=\"top\">Does not equal</td>\n",
    "    </tr>\n",
    "    <tr>\n",
    "      <td valign=\"top\">!&lt;</td>\n",
    "      <td valign=\"top\">Is not less than</td>\n",
    "    </tr>\n",
    "    <tr>\n",
    "      <td valign=\"top\">!&gt;</td>\n",
    "      <td valign=\"top\">Is not greater than</td>\n",
    "    </tr>\n",
    "    <tr>\n",
    "      <td valign=\"top\">BETWEEN, AND</td>\n",
    "      <td valign=\"top\">Is between two values inclusive of those values</td>\n",
    "    </tr>\n",
    "    <tr>\n",
    "      <td valign=\"top\">NOT BETWEEN, AND</td>\n",
    "      <td valign=\"top\">Is not between two values inclusive of those values</td>\n",
    "    </tr>\n",
    "    <tr>\n",
    "      <td valign=\"top\">IS NULL</td>\n",
    "      <td valign=\"top\">Where the value is null</td>\n",
    "    </tr>\n",
    "    <tr>\n",
    "      <td valign=\"top\">IS NOT NULL</td>\n",
    "      <td valign=\"top\">Where the value is not null</td>\n",
    "    </tr>\n",
    "  </tbody>\n",
    "</table>"
   ]
  },
  {
   "cell_type": "markdown",
   "metadata": {},
   "source": [
    "<u><strong>Combining Individual Filters</strong></u>\n",
    "\n",
    "Combining filters requires the use of two additional operators.\n",
    "\n",
    "<ol>\n",
    "<li>AND for when you want both conditions to be true</li><br>\n",
    "<li>OR for when you want either condition to be true</li><br>\n",
    "</ol>\n",
    "\n",
    "Combining filters can be quite complex and confusing. For readability and your own sanity, I recommend that you keep everything straight by using parentheses to clearly group your logic."
   ]
  },
  {
   "cell_type": "markdown",
   "metadata": {},
   "source": [
    "<h1>Examples</h1>"
   ]
  },
  {
   "cell_type": "markdown",
   "metadata": {},
   "source": [
    "<strong>A Full Set Of Filtering Examples</strong>"
   ]
  },
  {
   "cell_type": "code",
   "execution_count": null,
   "metadata": {},
   "outputs": [],
   "source": [
    "USE AdventureWorks2016\n",
    "\n",
    "SELECT *\n",
    "FROM Production.Product\n",
    "WHERE 1 = 1\n",
    "\n",
    "SELECT *\n",
    "FROM Production.Product\n",
    "WHERE 1 = 1\n",
    "AND SafetyStockLevel = 1000\n",
    "\n",
    "SELECT *\n",
    "FROM Production.Product\n",
    "WHERE 1 = 1\n",
    "AND SafetyStockLevel != 1000\n",
    "\n",
    "SELECT *\n",
    "FROM Production.Product\n",
    "WHERE 1 = 1\n",
    "AND ReorderPoint >= 600\n",
    "\n",
    "SELECT *\n",
    "FROM Production.Product\n",
    "WHERE 1 = 1\n",
    "AND SafetyStockLevel != 1000\n",
    "\n",
    "SELECT *\n",
    "FROM Production.Product\n",
    "WHERE 1 = 1\n",
    "AND ListPrice BETWEEN 50 AND 100\n",
    "\n",
    "SELECT *\n",
    "FROM Production.Product\n",
    "WHERE 1 = 1\n",
    "AND Size IS NOT NULL\n",
    "AND MakeFlag = 1\n",
    "\n",
    "SELECT *\n",
    "FROM Production.Product\n",
    "WHERE 1 = 1\n",
    "AND Size IS NOT NULL\n",
    "OR Color = 'Black'\n",
    "\n",
    "SELECT *\n",
    "FROM Production.Product\n",
    "WHERE 1 = 1\n",
    "AND (ReorderPoint > 350 AND ListPrice <> 0)\n",
    "OR (Color = 'Black' AND ListPrice = 0)"
   ]
  },
  {
   "cell_type": "markdown",
   "metadata": {},
   "source": [
    "Copyright © 2020, Mass Street Analytics, LLC. All Rights Reserved."
   ]
  }
 ],
 "metadata": {
  "kernelspec": {
   "display_name": "Python 3",
   "language": "python",
   "name": "python3"
  },
  "language_info": {
   "codemirror_mode": {
    "name": "ipython",
    "version": 3
   },
   "file_extension": ".py",
   "mimetype": "text/x-python",
   "name": "python",
   "nbconvert_exporter": "python",
   "pygments_lexer": "ipython3",
   "version": "3.7.3"
  }
 },
 "nbformat": 4,
 "nbformat_minor": 2
}
