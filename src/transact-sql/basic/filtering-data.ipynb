{
 "cells": [
  {
   "cell_type": "markdown",
   "metadata": {},
   "source": [
    "<a href=\"https://massstreetuniversity.com/\"><img src=\"https://tutorials.massstreetuniversity.com/images/logo.png\" alt=\"School Logo\"></a><br><br><br>\n",
    "<a href=\"http://tutorials.massstreetuniversity.com/transact-sql/\">Tutorial Home</a> | <a href=\"https://tutorials.massstreetuniversity.com/transact-sql/basic/your-first-query.html\">Previous</a> | <a href=\"https://tutorials.massstreetuniversity.com/transact-sql/basic/sorting-data.html\">Next</a>"
   ]
  },
  {
   "cell_type": "markdown",
   "metadata": {},
   "source": [
    "<h1>Lesson 5. Filtering Data</h1>"
   ]
  },
  {
   "cell_type": "markdown",
   "metadata": {},
   "source": [
    "The WHERE clause is how you filter the data that you want to look at. A basic filter consists of a column name that you want to filter on and the conditions of the filter.\n",
    "\n",
    "When we filter on string values, you have to enclose the condition in ''. Other data types do not require this, and you will learn which ones over time.\n",
    "\n",
    "I want you to get into the habit of writing ablation testing ready queries. You will learn what that is later. For now, every query with a filter should have at least two filters. The first filter should always be setting 1 = 1.\n",
    "\n",
    "Since you are going to have at least two filters, that means we need to tell SQL Server that we want to filter on the first AND the second condition. We do that by using the AND logic operator."
   ]
  },
  {
   "cell_type": "markdown",
   "metadata": {},
   "source": [
    "<h1>Examples</h1>"
   ]
  },
  {
   "cell_type": "markdown",
   "metadata": {},
   "source": [
    "<strong>Filter On String Value</strong>"
   ]
  },
  {
   "cell_type": "code",
   "execution_count": null,
   "metadata": {},
   "outputs": [],
   "source": [
    "USE AdventureWorks2016\n",
    "\n",
    "SELECT *\n",
    "FROM Purchasing.Vendor\n",
    "WHERE 1 = 1\n",
    "AND AccountNumber = 'RECREATI0001'"
   ]
  },
  {
   "cell_type": "markdown",
   "metadata": {},
   "source": [
    "<strong>Filter On Non-String Data Type</strong>"
   ]
  },
  {
   "cell_type": "code",
   "execution_count": null,
   "metadata": {},
   "outputs": [],
   "source": [
    "USE AdventureWorks2016\n",
    "\n",
    "SELECT *\n",
    "FROM Purchasing.Vendor\n",
    "WHERE 1 = 1\n",
    "AND ActiveFlag = 1"
   ]
  },
  {
   "cell_type": "markdown",
   "metadata": {},
   "source": [
    "Copyright © 2020, Mass Street Analytics, LLC. All Rights Reserved."
   ]
  }
 ],
 "metadata": {
  "kernelspec": {
   "display_name": "Python 3",
   "language": "python",
   "name": "python3"
  },
  "language_info": {
   "codemirror_mode": {
    "name": "ipython",
    "version": 3
   },
   "file_extension": ".py",
   "mimetype": "text/x-python",
   "name": "python",
   "nbconvert_exporter": "python",
   "pygments_lexer": "ipython3",
   "version": "3.7.3"
  }
 },
 "nbformat": 4,
 "nbformat_minor": 2
}
