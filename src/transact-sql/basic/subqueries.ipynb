{
 "cells": [
  {
   "cell_type": "markdown",
   "metadata": {},
   "source": [
    "<a href=\"https://massstreetuniversity.com/\"><img src=\"https://tutorials.massstreetuniversity.com/images/logo.png\" alt=\"School Logo\"></a><br><br><br>\n",
    "<a href=\"http://tutorials.massstreetuniversity.com/transact-sql/\">Tutorial Home</a> | <a href=\"https://tutorials.massstreetuniversity.com/transact-sql/basic/combining-queries.html\">Previous</a> | <a href=\"https://tutorials.massstreetuniversity.com/transact-sql/basic/creating-data.html\">Next</a>"
   ]
  },
  {
   "cell_type": "markdown",
   "metadata": {},
   "source": [
    "<h1>Lesson 16. Subqueries</h1>"
   ]
  },
  {
   "cell_type": "markdown",
   "metadata": {},
   "source": [
    "You can use the output of a query to power another query. This is called a subquery.\n",
    "\n",
    "The only rule here is that your subquery has to have one, and only one, output column.*\n",
    "\n",
    "You use subqueries in WHERE clauses in conjunction with the IN operator.\n",
    "\n",
    "The use case for this is when you are looking for data that is not necessarily directly related, so there is no join to be performed. This also comes in handy when your filter needs a series of values and not just one value on the right side of the equality.\n",
    "\n",
    "*Technically, you can have more than one column by concatenating the columns together."
   ]
  },
  {
   "cell_type": "markdown",
   "metadata": {},
   "source": [
    "<h1>Examples</h1>"
   ]
  },
  {
   "cell_type": "markdown",
   "metadata": {},
   "source": [
    "<strong>A Simplistic Subquery Example</strong>\n",
    "\n",
    "The below example is simplistic. We will do a more complex example in putting it all together."
   ]
  },
  {
   "cell_type": "code",
   "execution_count": null,
   "metadata": {},
   "outputs": [],
   "source": [
    "USE AdventureWorks2016\n",
    "\n",
    "SELECT *\n",
    "FROM Sales.SalesOrderDetail\n",
    "WHERE ProductID IN (SELECT ProductID FROM Production.Product WHERE MakeFlag = 1)"
   ]
  },
  {
   "cell_type": "markdown",
   "metadata": {},
   "source": [
    "Copyright © 2020, Mass Street Analytics, LLC. All Rights Reserved."
   ]
  }
 ],
 "metadata": {
  "kernelspec": {
   "display_name": "Python 3",
   "language": "python",
   "name": "python3"
  },
  "language_info": {
   "codemirror_mode": {
    "name": "ipython",
    "version": 3
   },
   "file_extension": ".py",
   "mimetype": "text/x-python",
   "name": "python",
   "nbconvert_exporter": "python",
   "pygments_lexer": "ipython3",
   "version": "3.7.3"
  }
 },
 "nbformat": 4,
 "nbformat_minor": 2
}
