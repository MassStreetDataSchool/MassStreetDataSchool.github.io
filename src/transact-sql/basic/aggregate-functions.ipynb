{
 "cells": [
  {
   "cell_type": "markdown",
   "metadata": {},
   "source": [
    "<a href=\"https://massstreetuniversity.com/\"><img src=\"https://tutorials.massstreetuniversity.com/images/logo.png\" alt=\"School Logo\"></a><br><br><br>\n",
    "<a href=\"http://tutorials.massstreetuniversity.com/transact-sql/\">Tutorial Home</a> | <a href=\"https://tutorials.massstreetuniversity.com/transact-sql/basic/case-statement.html\">Previous</a> | <a href=\"https://tutorials.massstreetuniversity.com/transact-sql/basic/aggregating-data.html\">Next</a>"
   ]
  },
  {
   "cell_type": "markdown",
   "metadata": {},
   "source": [
    "<h1>Lesson 12. Aggregate Functions</h1>"
   ]
  },
  {
   "cell_type": "markdown",
   "metadata": {},
   "source": [
    "While the basic arithmetic operators like + and – are technically built in functions, SQL Server has math functions for more complex operations. The functions usually operate on the entire column of data, and we will be using them when we talk about grouping and summarizing data.\n",
    "\n",
    "Below is an opinionated list of commonly used aggregate functions.\n",
    "\n",
    "<table width=\"100%\" border=\"1\" align=\"center\">\n",
    "  <tbody>\n",
    "      <th scope=\"col\">Function</th>\n",
    "      <th scope=\"col\">Explanation</th>\n",
    "    <tr>\n",
    "      <td valign=\"top\">MAX</td>\n",
    "      <td valign=\"top\">Lets you find the maximum value in a column.</td>\n",
    "    </tr>\n",
    "    <tr>\n",
    "      <td valign=\"top\">MIN</td>\n",
    "      <td valign=\"top\">Lets you find the minimum value in a column.</td>\n",
    "    </tr>\n",
    "    <tr>\n",
    "      <td valign=\"top\">AVG</td>\n",
    "      <td valign=\"top\">Lets you find the average value of the column.</td>\n",
    "    </tr>\n",
    "    <tr>\n",
    "      <td valign=\"top\">COUNT*</td>\n",
    "      <td valign=\"top\"> Lets you count the number of records in the result set.</td>\n",
    "    </tr>\n",
    "    <tr>\n",
    "      <td valign=\"top\">SUM</td>\n",
    "      <td valign=\"top\">Lets you find the total of the values in the column.</td>\n",
    "    </tr>\n",
    "  </tbody>\n",
    "</table>\n",
    "\n",
    "*Normally these functions are used on a single column. COUNT is the exception to that rule. Technically, you can use the wildcard operator for the function’s parameter and I frequently do, however, from a performance perspective, you should use one column. Any column will do but it is good habit to use the table’s primary key."
   ]
  },
  {
   "cell_type": "markdown",
   "metadata": {},
   "source": [
    "<h1>Examples</h1>"
   ]
  },
  {
   "cell_type": "markdown",
   "metadata": {},
   "source": [
    "<strong>Aggregate Function Usage</strong>"
   ]
  },
  {
   "cell_type": "code",
   "execution_count": null,
   "metadata": {},
   "outputs": [],
   "source": [
    "USE AdventureWorks2016\n",
    "\n",
    "SELECT MAX(LineTotal) AS BiggestLineTotal\n",
    "FROM Sales.SalesOrderDetail\n",
    " \n",
    "SELECT MIN(LineTotal) AS SmallestLineTotal\n",
    "FROM Sales.SalesOrderDetail\n",
    "\n",
    "SELECT AVG(LineTotal) AS AverageLineTotal\n",
    "FROM Sales.SalesOrderDetail\n",
    "\n",
    "SELECT COUNT(SalesOrderDetailID) AS TotalRecordsInTable\n",
    "FROM Sales.SalesOrderDetail\n",
    "\n",
    "SELECT SUM(LineTotal) AS TotalOfTheOrdersInTheTable\n",
    "FROM Sales.SalesOrderDetail"
   ]
  },
  {
   "cell_type": "markdown",
   "metadata": {},
   "source": [
    "Copyright © 2020, Mass Street Analytics, LLC. All Rights Reserved."
   ]
  }
 ],
 "metadata": {
  "kernelspec": {
   "display_name": "Python 3",
   "language": "python",
   "name": "python3"
  },
  "language_info": {
   "codemirror_mode": {
    "name": "ipython",
    "version": 3
   },
   "file_extension": ".py",
   "mimetype": "text/x-python",
   "name": "python",
   "nbconvert_exporter": "python",
   "pygments_lexer": "ipython3",
   "version": "3.7.3"
  }
 },
 "nbformat": 4,
 "nbformat_minor": 2
}
