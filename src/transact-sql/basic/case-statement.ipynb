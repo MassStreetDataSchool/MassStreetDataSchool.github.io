{
 "cells": [
  {
   "cell_type": "markdown",
   "metadata": {},
   "source": [
    "<a href=\"https://massstreetuniversity.com/\"><img src=\"https://tutorials.massstreetuniversity.com/images/logo.png\" alt=\"School Logo\"></a><br><br><br>\n",
    "<a href=\"http://tutorials.massstreetuniversity.com/transact-sql/\">Tutorial Home</a> | <a href=\"https://tutorials.massstreetuniversity.com/transact-sql/basic/calculated-fields.html\">Previous</a> | <a href=\"https://tutorials.massstreetuniversity.com/transact-sql/basic/aggregate-functions.html\">Next</a>"
   ]
  },
  {
   "cell_type": "markdown",
   "metadata": {},
   "source": [
    "<h1>Lesson 11. Displaying Data Based On Conditions (Case Statement)</h1>"
   ]
  },
  {
   "cell_type": "markdown",
   "metadata": {},
   "source": [
    "Sometimes the data you want to output will depend on data in other columns. You can do that with a CASE statement in your SELECT clause.\n",
    "\n",
    "The CASE statement comes in two flavors, but my personal preference is to always use what is called the searched CASE expression.\n",
    "\n",
    "SQL Server evaluates the CASE statement in a lazy way. It does not check all conditions. It starts from the first condition and works its way down until a condition evaluates to true."
   ]
  },
  {
   "cell_type": "markdown",
   "metadata": {},
   "source": [
    "<h1>CASE Syntax</h1>"
   ]
  },
  {
   "cell_type": "code",
   "execution_count": null,
   "metadata": {},
   "outputs": [],
   "source": [
    "CASE\n",
    "WHEN [boolean expression] THEN [display this] --you can have as many of these as necessary\n",
    "ELSE [display this] --when no conditions are met, display this\n",
    "END"
   ]
  },
  {
   "cell_type": "markdown",
   "metadata": {},
   "source": [
    "<h1>Examples</h1>"
   ]
  },
  {
   "cell_type": "markdown",
   "metadata": {},
   "source": [
    "<strong>Two Examples Of CASE Statements</strong>"
   ]
  },
  {
   "cell_type": "code",
   "execution_count": null,
   "metadata": {},
   "outputs": [],
   "source": [
    "USE AdventureWorks2016\n",
    "\n",
    "SELECT \n",
    "ProductNumber,\n",
    "Name AS ProductName,\n",
    "Color,\n",
    "CASE\n",
    "WHEN Color IS NOT NULL THEN Color\n",
    "ELSE 'Color Is Not Avalable'\n",
    "END AS ProductColor\n",
    "FROM Production.Product\n",
    "\n",
    "SELECT \n",
    "SalesOrderDetailID,\n",
    "OrderQty,\n",
    "LineTotal,\n",
    "CASE\n",
    "WHEN LineTotal BETWEEN 0 AND 1000 THEN 'These guys are cheap.'\n",
    "WHEN LineTotal BETWEEN 1000 AND 20000 THEN 'These guys are alright.'\n",
    "WHEN LineTotal > 20000 THEN 'These guys are big spenders'\n",
    "ELSE 'Who the heck are these guys'\n",
    "END AS CommentsFromTheCMO\n",
    "FROM Sales.SalesOrderDetail"
   ]
  },
  {
   "cell_type": "markdown",
   "metadata": {},
   "source": [
    "Copyright © 2020, Mass Street Analytics, LLC. All Rights Reserved."
   ]
  }
 ],
 "metadata": {
  "kernelspec": {
   "display_name": "Python 3",
   "language": "python",
   "name": "python3"
  },
  "language_info": {
   "codemirror_mode": {
    "name": "ipython",
    "version": 3
   },
   "file_extension": ".py",
   "mimetype": "text/x-python",
   "name": "python",
   "nbconvert_exporter": "python",
   "pygments_lexer": "ipython3",
   "version": "3.7.3"
  }
 },
 "nbformat": 4,
 "nbformat_minor": 2
}
