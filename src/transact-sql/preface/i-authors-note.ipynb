{
 "cells": [
  {
   "cell_type": "markdown",
   "metadata": {},
   "source": [
    "<a href=\"https://massstreetuniversity.com/\"><img src=\"https://tutorials.massstreetuniversity.com/images/logo.png\" alt=\"School Logo\"></a><br><br><br>\n",
    "<a href=\"https://tutorials.massstreetuniversity.com/transact-sql/\">Tutorial Home</a> | <a href=\"https://tutorials.massstreetuniversity.com/transact-sql/preface/ii-tutorial-overview.html\">Next</a>"
   ]
  },
  {
   "cell_type": "markdown",
   "metadata": {},
   "source": [
    "<h1>Section I. A Note From The Author</h1>"
   ]
  },
  {
   "cell_type": "markdown",
   "metadata": {},
   "source": [
    "I started writing SQL professionally in 2001 after I read Ben Forta’s book “Sams Teach Yourself SQL in 10 Minutes.” I literally read the book over the weekend and went to work Monday writing database software.\n",
    "\n",
    "That book launched my data engineering career even though we did not call it data engineering back then. Database programmer, business intelligence developer, SQL developer, reports developer, data engineer. Whatever you want to call it, I have been doing it for almost twenty years all because I read a 258-page book. Yes, I still have it. Yes, it is sitting right here as I write this.\n",
    "\n",
    "In this book, I am actually going to teach you more than Ben Forta taught me in that weekend two decades ago. I am going to give you everything he taught me plus every important thing I learned about writing database software in the past twenty years.\n",
    "\n",
    "Basically, what is about to happen here is, you are Neo. I am Tank. I am about to upload a career’s worth of information into your brain in a very short amount of time.\n",
    "\n",
    "-Bob"
   ]
  },
  {
   "cell_type": "markdown",
   "metadata": {},
   "source": [
    "Copyright © 2020, Mass Street Analytics, LLC. All Rights Reserved."
   ]
  }
 ],
 "metadata": {
  "kernelspec": {
   "display_name": "Python 3",
   "language": "python",
   "name": "python3"
  },
  "language_info": {
   "codemirror_mode": {
    "name": "ipython",
    "version": 3
   },
   "file_extension": ".py",
   "mimetype": "text/x-python",
   "name": "python",
   "nbconvert_exporter": "python",
   "pygments_lexer": "ipython3",
   "version": "3.7.3"
  }
 },
 "nbformat": 4,
 "nbformat_minor": 2
}
