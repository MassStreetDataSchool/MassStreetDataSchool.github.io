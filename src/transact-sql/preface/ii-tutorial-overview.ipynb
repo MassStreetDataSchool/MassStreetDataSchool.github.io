{
 "cells": [
  {
   "cell_type": "markdown",
   "metadata": {},
   "source": [
    "<a href=\"https://massstreetuniversity.com/\"><img src=\"https://tutorials.massstreetuniversity.com/images/logo.png\" alt=\"School Logo\"></a><br><br><br>\n",
    "<a href=\"https://tutorials.massstreetuniversity.com/transact-sql/\">Tutorial Home</a> | <a href=\"https://tutorials.massstreetuniversity.com/transact-sql/preface/i-authors-note.html\">Previous</a> | <a href=\"https://tutorials.massstreetuniversity.com/transact-sql/preface/iii-running-the-examples.html\">Next</a>"
   ]
  },
  {
   "cell_type": "markdown",
   "metadata": {},
   "source": [
    "<h1>Section II. Tutorial Overview</h1>"
   ]
  },
  {
   "cell_type": "markdown",
   "metadata": {},
   "source": [
    "Transact SQL, often shortened to T-SQL, is Microsoft’s proprietary implementation of ANSI standard SQL. Transact SQL adds more power and programming functionality to ANSI SQL and is used exclusively with the SQL Server database management system.\n",
    "\n",
    "Basic T-SQL shares many elements with ANSI SQL and we do not make a distinction in this tutorial.\n",
    "\n",
    "One thing you need to understand is that SQL, especially Transact SQL, is a legit programming language. It is relatively simplistic compared to the likes of Python, but it is fairly powerful none the less, and you cannot afford to be a lazy programmer. Most of the concepts from computer science 101 will apply.\n",
    "\n",
    "This tutorial is organized in three parts.\n",
    "\n",
    "<strong>Language Basics</strong>\n",
    "\n",
    "This section takes you through foundational T-SQL.\n",
    "\n",
    "<strong>Advanced Topics</strong>\n",
    "\n",
    "This section takes you into the heavier programming aspects of T-SQL. Here you will start to dive into issues of writing high performance code.\n",
    "\n",
    "<strong>Solutions To Real World Problems</strong>\n",
    "\n",
    "This is a highly opinionated section where I share my solutions to recurring problems that I have tackled over the past 20 years. Fortunately, all this stuff was kept in various forums, emails, and Stack Overflow in addition to the stuff I keep at the top of my head.\n",
    "\n",
    "If you are brand new to T-SQL and SQL Server, much of this section may go over your head. That is ok. File it away for later.\n",
    " \n",
    "This section is basically me uploading two decades of coding experience to the internet. I am not saying the way I do things is the correct way. I am saying that this is what I did and feel free to steal and adapt to your use case."
   ]
  },
  {
   "cell_type": "markdown",
   "metadata": {},
   "source": [
    "Copyright © 2020, Mass Street Analytics, LLC. All Rights Reserved."
   ]
  }
 ],
 "metadata": {
  "kernelspec": {
   "display_name": "Python 3",
   "language": "python",
   "name": "python3"
  },
  "language_info": {
   "codemirror_mode": {
    "name": "ipython",
    "version": 3
   },
   "file_extension": ".py",
   "mimetype": "text/x-python",
   "name": "python",
   "nbconvert_exporter": "python",
   "pygments_lexer": "ipython3",
   "version": "3.7.3"
  }
 },
 "nbformat": 4,
 "nbformat_minor": 2
}
