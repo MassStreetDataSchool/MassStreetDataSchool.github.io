{
 "cells": [
  {
   "cell_type": "markdown",
   "metadata": {},
   "source": [
    "<a href=\"https://massstreetuniversity.com/\"><img src=\"https://tutorials.massstreetuniversity.com/images/logo.png\" alt=\"School Logo\"></a><br><br><br>\n",
    "<a href=\"https://tutorials.massstreetuniversity.com/transact-sql/\">Tutorial Home</a> | <a href=\"https://tutorials.massstreetuniversity.com/transact-sql/preface/ii-tutorial-overview.html\">Previous</a> | <a href=\"https://tutorials.massstreetuniversity.com/transact-sql/preface/iv-how-to-report-an-issue.html\">Next</a>"
   ]
  },
  {
   "cell_type": "markdown",
   "metadata": {},
   "source": [
    "<h1>Section III. Running The Examples</h1>"
   ]
  },
  {
   "cell_type": "markdown",
   "metadata": {},
   "source": [
    "All code examples have been run on SQL Server 2016 against the 2016 backup of the AdventureWorks database. \n",
    "\n",
    "You need five things to run these examples.\n",
    "\n",
    "<ol>\n",
    "<li>A copy of SQL Server Developer Edition which can be downloaded for free from the Microsoft website.</li><br>\n",
    "<li>A copy of the 2016 version of the AdventureWorks database. Instructions on how to download and install the database files can be found <a href=\"https://github.com/MassStreetUniversity/sql-server-samples/tree/master/samples/databases/adventure-works\">here</a>.</li><br>\n",
    "<li>Once you have the database installed, you need to create another database called \"demo\". This database will be used when we need to create things and we do not want to mess up AdventureWorks.</li><br>\n",
    "<li>Some of the examples use example datasets. Those can be downloaded from the MSU website <a href=\"https://massstreetuniversity.com/practice-datasets/\">here</a>.</li><br>\n",
    "<li>The last thing you need is the code. You can cut and paste code right from the screen, or you can download it from the GitHub repo <a href=\"https://github.com/MassStreetUniversity/tutorial-transact-sql\">here</a>.</li><br>\n",
    "</ol>"
   ]
  },
  {
   "cell_type": "markdown",
   "metadata": {},
   "source": [
    "Copyright © 2020, Mass Street Analytics, LLC. All Rights Reserved."
   ]
  }
 ],
 "metadata": {
  "kernelspec": {
   "display_name": "Python 3",
   "language": "python",
   "name": "python3"
  },
  "language_info": {
   "codemirror_mode": {
    "name": "ipython",
    "version": 3
   },
   "file_extension": ".py",
   "mimetype": "text/x-python",
   "name": "python",
   "nbconvert_exporter": "python",
   "pygments_lexer": "ipython3",
   "version": "3.7.3"
  }
 },
 "nbformat": 4,
 "nbformat_minor": 2
}
