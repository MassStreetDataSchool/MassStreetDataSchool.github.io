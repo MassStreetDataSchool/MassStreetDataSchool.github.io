{
 "cells": [
  {
   "cell_type": "markdown",
   "metadata": {},
   "source": [
    "<a href=\"https://massstreetuniversity.com/\"><img src=\"https://tutorials.massstreetuniversity.com/images/logo.png\" alt=\"School Logo\"></a><br><br><br>\n",
    "<a href=\"https://tutorials.massstreetuniversity.com/transact-sql/\">Tutorial Home</a> | <a href=\"https://tutorials.massstreetuniversity.com/transact-sql/preface/v-student-lounge.html\">Previous</a> | <a href=\"https://tutorials.massstreetuniversity.com/transact-sql/basic/1-hello-world.html\">Next</a>"
   ]
  },
  {
   "cell_type": "markdown",
   "metadata": {},
   "source": [
    "<h1>Section VI. Supplimentery Material</h1>"
   ]
  },
  {
   "cell_type": "markdown",
   "metadata": {},
   "source": [
    "Here are some other resources you can use to learn the material in this tutorial."
   ]
  },
  {
   "cell_type": "markdown",
   "metadata": {},
   "source": [
    "<strong>Ebook Format</strong>\n",
    "\n",
    "This tutorial is available in ebook format and is coming soon."
   ]
  },
  {
   "cell_type": "markdown",
   "metadata": {},
   "source": [
    "<strong>Free Seminars</strong>\n",
    "\n",
    "The free seminar SQL Crash Course for Data Science pairs well with this tutorial. It is a six hour commitment. \n",
    "\n",
    "The seminar is taught in PostgreSQL which uses a variant of SQL called PL/pgSQL. So you can learn a different flavor of SQL, in addition to learning how SQL and Python work together in a data science context. \n",
    "\n",
    "For anybody on the data science track, I would recommend that you do take the seminar as well as the tutorial. Click the image to learn more."
   ]
  },
  {
   "cell_type": "markdown",
   "metadata": {},
   "source": [
    "<div class=\"course\">                \n",
    "        <a href=\"https://massstreetuniversity.com/course/sql-crash-course/\" target=\"_blank\"><img width=\"678\" height=\"485\" src=\"https://massstreetuniversity.com/wp-content/uploads/2019/07/UdemyBanner_SQLCrashCourse-678x485.jpg\" class=\"img-fluid wp-post-image\" alt=\"SQL Crash Course for Data Science\"></a>\n",
    "        <div class=\"post-content\">\n",
    "            <h4>SMNR002</h4>\n",
    "            <h3 class=\"post-title\"><a href=\"https://massstreetuniversity.com/course/sql-crash-course/\" target=\"_blank\">SQL Crash Course for Data Science</a></h3>\n",
    "            <h4><a href=\"https://massstreetuniversity.com/course/sql-crash-course/\" target=\"_blank\">Learn SQL and data science fast with hands on labs!</a></h4>\n",
    "        </div>                                                              \n",
    "    </div>"
   ]
  },
  {
   "cell_type": "markdown",
   "metadata": {},
   "source": [
    "<strong>Blog Post</strong>\n",
    "\n",
    "Below are some blog posts that will be relevant in this tutorial and later.\n",
    "\n",
    "<a href=\"https://massstreetuniversity.com/2020/06/16/the-job-market-for-medium-data-skills/\">The Job Market for Medium Data® Skills</a>\n",
    "\n",
    "<a href=\"https://massstreetuniversity.com/2020/06/22/data-as-a-competitive-necessity/\">Data as a Competitive Necessity</a>\n",
    "\n",
    "<a href=\"https://datadrivenperspectives.com/the-benefits-of-using-python-and-t-sql-over-ssis-for-etl-ca50c6e11819\">The Benefits Of Using Python And T-SQL Over SSIS For ETL</a>\n",
    "\n",
    "<a href=\"https://massstreetuniversity.com/2020/07/14/why-do-you-need-an-etl-framework/\">Why Do You Need An ETL Framework?</a>"
   ]
  },
  {
   "cell_type": "markdown",
   "metadata": {},
   "source": [
    "Copyright © 2020, Mass Street Analytics, LLC. All Rights Reserved."
   ]
  }
 ],
 "metadata": {
  "kernelspec": {
   "display_name": "Python 3",
   "language": "python",
   "name": "python3"
  },
  "language_info": {
   "codemirror_mode": {
    "name": "ipython",
    "version": 3
   },
   "file_extension": ".py",
   "mimetype": "text/x-python",
   "name": "python",
   "nbconvert_exporter": "python",
   "pygments_lexer": "ipython3",
   "version": "3.7.3"
  }
 },
 "nbformat": 4,
 "nbformat_minor": 2
}
