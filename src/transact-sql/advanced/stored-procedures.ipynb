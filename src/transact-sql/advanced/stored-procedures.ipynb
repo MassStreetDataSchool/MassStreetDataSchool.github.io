{
 "cells": [
  {
   "cell_type": "markdown",
   "metadata": {},
   "source": [
    "<a href=\"https://massstreetuniversity.com/\"><img src=\"https://tutorials.massstreetuniversity.com/images/logo.png\" alt=\"School Logo\"></a><br><br><br>\n",
    "<a href=\"http://tutorials.massstreetuniversity.com/transact-sql/\">Tutorial Home</a> | <a href=\"https://tutorials.massstreetuniversity.com/transact-sql/advanced/user-defined-functions.html\">Previous</a> | <a href=\"https://tutorials.massstreetuniversity.com/transact-sql/advanced/bulk-insert.html\">Next</a>"
   ]
  },
  {
   "cell_type": "markdown",
   "metadata": {},
   "source": [
    "<h1>Lesson 38. Stored Procedures</h1>"
   ]
  },
  {
   "cell_type": "markdown",
   "metadata": {},
   "source": [
    "Everything that you have been reading about has been leading up to this section. \n",
    "\n",
    "Stored Procedures are the workhorse object of SQL Server. They are how you get things done like loading data warehouses.\n",
    "\n",
    "Like views, stored procedures are code that can be executed over and over. Unlike views, you can use programmability elements like variables and control flow. You can even pass variables into a stored procedure.\n",
    "\n",
    "As an example, let’s go back and use the example from MERGE and turn it into a stored proc."
   ]
  },
  {
   "cell_type": "markdown",
   "metadata": {},
   "source": [
    "<h1>Examples</h1>"
   ]
  },
  {
   "cell_type": "markdown",
   "metadata": {},
   "source": [
    "<strong>Stored Procedure Creation</strong>\n",
    "\n",
    "First, let's create and populate some sample data."
   ]
  },
  {
   "cell_type": "code",
   "execution_count": null,
   "metadata": {},
   "outputs": [],
   "source": [
    "USE demo\n",
    "\n",
    "DROP TABLE IF EXISTS Person\n",
    "DROP TABLE IF EXISTS PersonStageTable\n",
    "\n",
    "CREATE TABLE Person(\n",
    "PersonID BIGINT NOT NULL,\n",
    "FirstName NVARCHAR(50) NULL,\n",
    "LastName NVARCHAR(50) NULL,\n",
    "SourceSystemKey NVARCHAR(50) NULL,\n",
    ")\n",
    "\n",
    "CREATE TABLE PersonStageTable(\n",
    "PersonID BIGINT NOT NULL,\n",
    "FirstName NVARCHAR(50) NULL,\n",
    "LastName NVARCHAR(50) NULL,\n",
    "SourceSystemKey NVARCHAR(50) NULL,\n",
    ")\n",
    "\n",
    "INSERT INTO Person(PersonID, FirstName, LastName, SourceSystemKey)\n",
    "SELECT 1, 'Bob', 'Wakefield',1\n",
    "\n",
    "INSERT INTO PersonStageTable(PersonID, FirstName, LastName, SourceSystemKey)\n",
    "SELECT 1,'Bob','Johnson',1\n",
    "UNION \n",
    "SELECT 2,'Sally','Ride',2\n",
    "\n",
    "SELECT * FROM Person\n",
    "\n",
    "SELECT * FROM PersonStageTable"
   ]
  },
  {
   "cell_type": "markdown",
   "metadata": {},
   "source": [
    "Now let's create our proc."
   ]
  },
  {
   "cell_type": "code",
   "execution_count": null,
   "metadata": {},
   "outputs": [],
   "source": [
    "USE demo\n",
    "\n",
    "GO\n",
    "\n",
    "DROP PROCEDURE IF EXISTS usp_LoadPersonTable\n",
    "\n",
    "GO\n",
    "\n",
    "CREATE PROCEDURE usp_LoadPersonTable AS\n",
    "\n",
    "BEGIN\n",
    "\n",
    "MERGE Person AS target\n",
    "USING (\n",
    "SELECT\n",
    "PersonID,\n",
    "FirstName,\n",
    "LastName,\n",
    "SourceSystemKey\n",
    "FROM PersonStageTable\n",
    ") AS source\n",
    "ON (target.SourceSystemKey = source.SourceSystemKey)\n",
    "\n",
    "WHEN NOT MATCHED THEN\n",
    "INSERT (\n",
    "PersonID,\n",
    "FirstName,\n",
    "LastName,\n",
    "SourceSystemKey\n",
    ")\n",
    "VALUES (\n",
    "PersonID,\n",
    "FirstName,\n",
    "LastName,\n",
    "SourceSystemKey\n",
    ")\n",
    "\n",
    "WHEN MATCHED THEN\n",
    "UPDATE\n",
    "SET\n",
    "target.PersonID = source.PersonID,\n",
    "target.FirstName = source.FirstName,\n",
    "target.LastName = source.LastName,\n",
    "target.SourceSystemKey = source.SourceSystemKey\n",
    ";\n",
    "\n",
    "END"
   ]
  },
  {
   "cell_type": "markdown",
   "metadata": {},
   "source": [
    "Now let's run it and see if Bob's last name got changed."
   ]
  },
  {
   "cell_type": "code",
   "execution_count": null,
   "metadata": {},
   "outputs": [],
   "source": [
    "USE demo\n",
    "\n",
    "EXEC usp_LoadPersonTable\n",
    "\n",
    "SELECT * FROM Person"
   ]
  },
  {
   "cell_type": "markdown",
   "metadata": {},
   "source": [
    "Always clean up after yourself when creating examples."
   ]
  },
  {
   "cell_type": "code",
   "execution_count": null,
   "metadata": {},
   "outputs": [],
   "source": [
    "USE demo\n",
    "\n",
    "DROP PROCEDURE usp_LoadPersonTable\n",
    "DROP TABLE Person\n",
    "DROP TABLE PersonStageTable"
   ]
  },
  {
   "cell_type": "markdown",
   "metadata": {},
   "source": [
    "Copyright © 2020, Mass Street Analytics, LLC. All Rights Reserved."
   ]
  }
 ],
 "metadata": {
  "kernelspec": {
   "display_name": "Python 3",
   "language": "python",
   "name": "python3"
  },
  "language_info": {
   "codemirror_mode": {
    "name": "ipython",
    "version": 3
   },
   "file_extension": ".py",
   "mimetype": "text/x-python",
   "name": "python",
   "nbconvert_exporter": "python",
   "pygments_lexer": "ipython3",
   "version": "3.7.3"
  }
 },
 "nbformat": 4,
 "nbformat_minor": 2
}
