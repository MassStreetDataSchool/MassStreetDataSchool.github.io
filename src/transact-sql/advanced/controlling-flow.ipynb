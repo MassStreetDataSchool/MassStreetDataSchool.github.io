{
 "cells": [
  {
   "cell_type": "markdown",
   "metadata": {},
   "source": [
    "<a href=\"https://massstreetuniversity.com/\"><img src=\"https://tutorials.massstreetuniversity.com/images/logo.png\" alt=\"School Logo\"></a><br><br><br>\n",
    "<a href=\"http://tutorials.massstreetuniversity.com/transact-sql/\">Tutorial Home</a> | <a href=\"https://tutorials.massstreetuniversity.com/transact-sql/advanced/variables.html\">Previous</a> | <a href=\"https://tutorials.massstreetuniversity.com/transact-sql/advanced/looping.html\">Next</a>"
   ]
  },
  {
   "cell_type": "markdown",
   "metadata": {},
   "source": [
    "<h1>Lesson 31. Controlling Flow</h1>"
   ]
  },
  {
   "cell_type": "markdown",
   "metadata": {},
   "source": [
    "In the next two lessons, we are going to learn about IF..ELSE and WHILE. These are standard control flow elements that you will find in any programming language. However, I personally rarely find a use for them in a business intelligence context. \n",
    "\n",
    "But they are major parts of the T-SQL programming language, so, just in case, here is how to control program execution with IF..ELSE."
   ]
  },
  {
   "cell_type": "markdown",
   "metadata": {},
   "source": [
    "<h1>IF ELSE Syntax</h1>"
   ]
  },
  {
   "cell_type": "code",
   "execution_count": null,
   "metadata": {},
   "outputs": [],
   "source": [
    "IF <logic condition>\n",
    "BEGIN\n",
    "--Do some action.\n",
    "END\n",
    "ELSE\n",
    "BEGIN\n",
    "--Do some alternative action.\n",
    "END"
   ]
  },
  {
   "cell_type": "markdown",
   "metadata": {},
   "source": [
    "<h1>Examples</h1>"
   ]
  },
  {
   "cell_type": "markdown",
   "metadata": {},
   "source": [
    "<strong>A Basic IF ELSE Example</strong>"
   ]
  },
  {
   "cell_type": "code",
   "execution_count": null,
   "metadata": {},
   "outputs": [],
   "source": [
    "USE demo\n",
    "\n",
    "DECLARE @i TINYINT = 1\n",
    "\n",
    "IF @i = 1\n",
    "BEGIN\n",
    "PRINT 'The variable value is 1.'\n",
    "END\n",
    "ELSE\n",
    "BEGIN\n",
    "PRINT 'The variable value is not 1.'\n",
    "END"
   ]
  },
  {
   "cell_type": "markdown",
   "metadata": {},
   "source": [
    "Copyright © 2020, Mass Street Analytics, LLC. All Rights Reserved."
   ]
  }
 ],
 "metadata": {
  "kernelspec": {
   "display_name": "Python 3",
   "language": "python",
   "name": "python3"
  },
  "language_info": {
   "codemirror_mode": {
    "name": "ipython",
    "version": 3
   },
   "file_extension": ".py",
   "mimetype": "text/x-python",
   "name": "python",
   "nbconvert_exporter": "python",
   "pygments_lexer": "ipython3",
   "version": "3.7.3"
  }
 },
 "nbformat": 4,
 "nbformat_minor": 2
}
