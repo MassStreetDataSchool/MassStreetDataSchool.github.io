{
 "cells": [
  {
   "cell_type": "markdown",
   "metadata": {},
   "source": [
    "<a href=\"https://massstreetuniversity.com/\"><img src=\"http://tutorials.massstreetuniversity.com/images/logo.png\" alt=\"School Logo\"></a><br><br><br>\n",
    "<a href=\"http://tutorials.massstreetuniversity.com/transact-sql/\">Tutorial Home</a>"
   ]
  },
  {
   "cell_type": "markdown",
   "metadata": {},
   "source": [
    "<h1>Creating Tables</h1>"
   ]
  },
  {
   "cell_type": "markdown",
   "metadata": {},
   "source": [
    "You can use SSMS to create, modify, and drop tables. However, after a while, you will discover that SSMS can be kind of clunky to deal with and writing code for these tasks is much faster. \n",
    "\n",
    "I use a combination of both. I use T-SQL to do basic table creation. Then I will use SSMS to do things like adding keys, indexes, and relationships."
   ]
  },
  {
   "cell_type": "markdown",
   "metadata": {},
   "source": [
    "<strong>Examples</strong>"
   ]
  },
  {
   "cell_type": "code",
   "execution_count": null,
   "metadata": {},
   "outputs": [],
   "source": [
    "USE demo\n",
    "\n",
    "CREATE TABLE Person(\n",
    "PersonID BIGINT NOT NULL,\n",
    "FirstName NVARCHAR(50) NULL,\n",
    "LastName NVARCHAR(50) NULL,\n",
    ")"
   ]
  },
  {
   "cell_type": "markdown",
   "metadata": {},
   "source": [
    "Copyright © 2020, Mass Street Analytics, LLC. All Rights Reserved."
   ]
  }
 ],
 "metadata": {
  "kernelspec": {
   "display_name": "Python 3",
   "language": "python",
   "name": "python3"
  },
  "language_info": {
   "codemirror_mode": {
    "name": "ipython",
    "version": 3
   },
   "file_extension": ".py",
   "mimetype": "text/x-python",
   "name": "python",
   "nbconvert_exporter": "python",
   "pygments_lexer": "ipython3",
   "version": "3.7.3"
  }
 },
 "nbformat": 4,
 "nbformat_minor": 2
}
