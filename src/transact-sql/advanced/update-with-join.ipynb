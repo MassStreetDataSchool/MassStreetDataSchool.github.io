{
 "cells": [
  {
   "cell_type": "markdown",
   "metadata": {},
   "source": [
    "<a href=\"https://massstreetuniversity.com/\"><img src=\"https://tutorials.massstreetuniversity.com/images/logo.png\" alt=\"School Logo\"></a><br><br><br>\n",
    "<a href=\"http://tutorials.massstreetuniversity.com/transact-sql/\">Tutorial Home</a> | <a href=\"https://tutorials.massstreetuniversity.com/transact-sql/advanced/selecting-unique-values.html\">Previous</a> | <a href=\"https://tutorials.massstreetuniversity.com/transact-sql/advanced/data-types.html\">Next</a>"
   ]
  },
  {
   "cell_type": "markdown",
   "metadata": {},
   "source": [
    "<h1>Lesson 24. Updating Data With A Join</h1>"
   ]
  },
  {
   "cell_type": "markdown",
   "metadata": {},
   "source": [
    "Sometimes you need to update data, but the columns necessary to identify what needs to be updated cannot be solely found in the target table. In that scenario, you can use a JOIN to get the columns or other information you need.\n",
    "\n",
    "The syntax for an UPDATE with a JOIN is wildly different than a plain vanilla join.\n"
   ]
  },
  {
   "cell_type": "markdown",
   "metadata": {},
   "source": [
    "<h1>UPDATE JOIN Syntax</h1>"
   ]
  },
  {
   "cell_type": "code",
   "execution_count": null,
   "metadata": {},
   "outputs": [],
   "source": [
    "UPDATE [target table alias]\n",
    "SET [target column] = [new value]\n",
    "FROM [target table]\n",
    "JOIN [other table]\n",
    "ON [target table key] = [other table key]\n",
    "WHERE [conditions that you specify]"
   ]
  },
  {
   "cell_type": "markdown",
   "metadata": {},
   "source": [
    "<h1>Examples</h1>"
   ]
  },
  {
   "cell_type": "markdown",
   "metadata": {},
   "source": [
    "<strong>Changing A User’s Last Name</strong>"
   ]
  },
  {
   "cell_type": "markdown",
   "metadata": {},
   "source": [
    "Scenario: Barb is getting married and is taking her husband’s last name, so her last name needs to be changed in the system.\n",
    "\n",
    "The problem is, we only know Barb as Barb and lord knows how many Barbaras there are in the massive multinational we all work at. We can’t just update ALL the Barbs in the Person table and hope ONE of them is right!\n",
    "\n",
    "We do have Barb’s globally unique ID called a national ID number though. It’s 969985265. But that value isn’t stored in the Person table. That’s in the employee table. UPDATE with JOIN to the rescue!"
   ]
  },
  {
   "cell_type": "code",
   "execution_count": null,
   "metadata": {},
   "outputs": [],
   "source": [
    "USE AdventureWorks2016\n",
    "\n",
    "\n",
    "--Here is how we find Barb using her national ID number.\n",
    "SELECT \n",
    "p.FirstName,\n",
    "p.LastName,\n",
    "e.NationalIDNumber,\n",
    "e.Gender\n",
    "FROM Person.Person p\n",
    "JOIN HumanResources.Employee e\n",
    "ON p.BusinessEntityID = e.BusinessEntityID\n",
    "WHERE e.NationalIDNumber = '969985265'\n",
    "\n",
    "--now to update Barb's last name of Decker to her new last name Mudd.\n",
    "UPDATE p\n",
    "SET \n",
    "p.LastName = 'Mudd',\n",
    "p.ModifiedDate = CURRENT_TIMESTAMP --don't get in a hurry and forget to populate audit columns\n",
    "FROM Person.Person p\n",
    "JOIN HumanResources.Employee e\n",
    "ON p.BusinessEntityID = e.BusinessEntityID\n",
    "WHERE e.NationalIDNumber = '969985265'\n",
    "\n",
    "--Let's confirm the change was made.\n",
    "SELECT \n",
    "p.FirstName,\n",
    "p.LastName,\n",
    "e.NationalIDNumber,\n",
    "e.Gender\n",
    "FROM Person.Person p\n",
    "JOIN HumanResources.Employee e\n",
    "ON p.BusinessEntityID = e.BusinessEntityID\n",
    "WHERE e.NationalIDNumber = '969985265'"
   ]
  },
  {
   "cell_type": "markdown",
   "metadata": {},
   "source": [
    "Copyright © 2020, Mass Street Analytics, LLC. All Rights Reserved."
   ]
  }
 ],
 "metadata": {
  "kernelspec": {
   "display_name": "Python 3",
   "language": "python",
   "name": "python3"
  },
  "language_info": {
   "codemirror_mode": {
    "name": "ipython",
    "version": 3
   },
   "file_extension": ".py",
   "mimetype": "text/x-python",
   "name": "python",
   "nbconvert_exporter": "python",
   "pygments_lexer": "ipython3",
   "version": "3.7.3"
  }
 },
 "nbformat": 4,
 "nbformat_minor": 2
}
