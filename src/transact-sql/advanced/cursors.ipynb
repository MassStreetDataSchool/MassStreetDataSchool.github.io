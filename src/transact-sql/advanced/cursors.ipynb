{
 "cells": [
  {
   "cell_type": "markdown",
   "metadata": {},
   "source": [
    "<a href=\"https://massstreetuniversity.com/\"><img src=\"https://tutorials.massstreetuniversity.com/images/logo.png\" alt=\"School Logo\"></a><br><br><br>\n",
    "<a href=\"http://tutorials.massstreetuniversity.com/transact-sql/\">Tutorial Home</a> | <a href=\"https://tutorials.massstreetuniversity.com/transact-sql/advanced/dynamic-sql.html\">Previous</a> | <a href=\"https://tutorials.massstreetuniversity.com/transact-sql/solutions/list-all-tables.html\">Next</a>"
   ]
  },
  {
   "cell_type": "markdown",
   "metadata": {},
   "source": [
    "<h1>Lesson 44. Cursors</h1>"
   ]
  },
  {
   "cell_type": "markdown",
   "metadata": {},
   "source": [
    "Cursors are the devil and they should only be used in one scenario which I talk about in the lesson titled <a href=\"solutions/only-use-for-cursors.html\">The Only Bloody Good Reason To Use Cursors (AKA Moving Large Amounts Of Data Between Tables)</a>.\n",
    "\n",
    "But I do talk about them, so I am going to show you how to create one here.\n",
    "\n",
    "Cursors are a really inefficient way to loop, so they should only be used in those cases where your process is so inefficient that a cursor is the only thing less efficient than your process. A good example of this is loading large amounts of data between tables.\n",
    "\n",
    "When you have this scenario, you can split the load into batches that can be committed to the server in smaller amounts. This takes the load off several elements of SQL Server internal mechanisms, most notably the log. Every SQL Server operation is logged so, in the case of a rollback, things can be returned to the state they were in prior to your operation. When you commit smaller batches of data, the log does not get filled up so fast.\n",
    "\n",
    "When you create a cursor, you need to pick something to partition your dataset by. I usually use dates. Just the year will do, but in the case of extra-large amounts of data, I may have to partition by month as well. However, you have to be careful with this because partitioning by year AND month may actually make the load last longer than just using the year."
   ]
  },
  {
   "cell_type": "markdown",
   "metadata": {},
   "source": [
    "<h1>Examples</h1>"
   ]
  },
  {
   "cell_type": "markdown",
   "metadata": {},
   "source": [
    "<strong>Generic Cursor Example</strong>\n",
    "\n",
    "The below example of creating a cursor is generic. We will do a specific example later. "
   ]
  },
  {
   "cell_type": "code",
   "execution_count": null,
   "metadata": {},
   "outputs": [],
   "source": [
    "USE demo\n",
    "\n",
    "DECLARE @Year INT\n",
    "DECLARE @Month INT\n",
    "\n",
    "DECLARE BatchingCursor CURSOR FOR\n",
    "SELECT DISTINCT YEAR([SomeDateField]),MONTH([SomeDateField])\n",
    "FROM [Sometable];\n",
    "\n",
    "\n",
    "OPEN BatchingCursor;\n",
    "FETCH NEXT FROM BatchingCursor INTO @Year, @Month;\n",
    "WHILE @@FETCH_STATUS = 0\n",
    "BEGIN\n",
    "\n",
    "BEGIN TRANSACTION\n",
    "--All logic goes in here\n",
    "--Any select statements from [Sometable] need to be suffixed with:\n",
    "--WHERE Year([SomeDateField])=@Year AND Month([SomeDateField])=@Month   \n",
    "COMMIT TRANSACTION\n",
    "\n",
    "FETCH NEXT FROM BatchingCursor INTO @Year, @Month;\n",
    "END;\n",
    "CLOSE BatchingCursor;\n",
    "DEALLOCATE BatchingCursor;\n",
    "GO"
   ]
  },
  {
   "cell_type": "markdown",
   "metadata": {},
   "source": [
    "Copyright © 2020, Mass Street Analytics, LLC. All Rights Reserved."
   ]
  }
 ],
 "metadata": {
  "kernelspec": {
   "display_name": "Python 3",
   "language": "python",
   "name": "python3"
  },
  "language_info": {
   "codemirror_mode": {
    "name": "ipython",
    "version": 3
   },
   "file_extension": ".py",
   "mimetype": "text/x-python",
   "name": "python",
   "nbconvert_exporter": "python",
   "pygments_lexer": "ipython3",
   "version": "3.7.3"
  }
 },
 "nbformat": 4,
 "nbformat_minor": 2
}
