{
 "cells": [
  {
   "cell_type": "markdown",
   "metadata": {},
   "source": [
    "<a href=\"https://massstreetuniversity.com/\"><img src=\"https://tutorials.massstreetuniversity.com/images/logo.png\" alt=\"School Logo\"></a><br><br><br>\n",
    "<a href=\"http://tutorials.massstreetuniversity.com/transact-sql/\">Tutorial Home</a> | <a href=\"https://tutorials.massstreetuniversity.com/transact-sql/advanced/looping.html\">Previous</a> | <a href=\"https://tutorials.massstreetuniversity.com/transact-sql/advanced/temp-tables.html\">Next</a>"
   ]
  },
  {
   "cell_type": "markdown",
   "metadata": {},
   "source": [
    "<h1>Lesson 33. Error Processing</h1>"
   ]
  },
  {
   "cell_type": "markdown",
   "metadata": {},
   "source": [
    "Error processing is important in any programming language. Weird things will happen, and your code has to be ready to handle weirdness. Sometimes you know what weirdness to expect like a variable value being NULL, and you have to program what to do in that instance. Other times, the user will do something unexpected and you have to write a general error handler.\n",
    "\n",
    "In any case, the point of error processing is to keep the program going when an error happens. The general process is:\n",
    "<ol>\n",
    "<li>Trap the error.</li><br>\n",
    "<li>Perform alternative task.</li><br>\n",
    "<li>Report the error.</li><br>\n",
    "</ol>\n",
    "\n",
    "T-SQL has a way to trap errors with the standard TRY CATCH approach that you will find in most major\n",
    "programming languages. The general syntax of a TRY CATCH block is:<br>\n",
    "<br>\n",
    "BEGIN TRY<br>\n",
    "--Process that may create an error<br>\n",
    "END TRY<br>\n",
    "BEGIN CATCH<br>\n",
    "--Process to handle error<br>\n",
    "END CATCH<br>\n",
    "\n",
    "T-SQL has a handful of functions that help with error reporting.\n",
    "\n",
    "<table width=\"50%\" border=\"1\" align=\"center\">\n",
    "  <tbody>\n",
    "    <tr>\n",
    "      <th scope=\"col\">Function Name</th>\n",
    "      <th scope=\"col\">Function Definition</th>\n",
    "    </tr>\n",
    "\t   <tr>\n",
    "      <td valign=\"top\">ERROR_LINE </td>\n",
    "      <td valign=\"top\"><p>The line number the error occurred on.</p></td>\n",
    "    </tr>\n",
    "\t    <tr>\n",
    "      <td valign=\"top\">ERROR_MESSAGE </td>\n",
    "      <td valign=\"top\"><p>Plain language description of the error.</p></td>\n",
    "    </tr>\n",
    "\t     <tr>\n",
    "      <td valign=\"top\">ERROR_NUMBER </td>\n",
    "      <td valign=\"top\"><p>The number of the error.</p></td>\n",
    "    </tr>\n",
    "\t     <tr>\n",
    "      <td valign=\"top\">ERROR_PROCEDURE </td>\n",
    "      <td valign=\"top\">The  name of the function or stored procedure that produced the error.</td>\n",
    "    </tr>\n",
    "\t     <tr>\n",
    "      <td valign=\"top\">ERROR_SEVERITY </td>\n",
    "      <td valign=\"top\"><p>The severity value of the error.</p></td>\n",
    "    </tr>\n",
    "\t     <tr>\n",
    "      <td valign=\"top\">ERROR_STATE </td>\n",
    "      <td valign=\"top\"><p>The state number of the error.</p></td>\n",
    "    </tr>\n",
    "    </tbody>\n",
    "</table>\n",
    "\n",
    "The error number, state, and severity are particularly useful. There is a long list of database engine errors that correspond to a number. You can check for that value in an equality when building your error handling logic.\n",
    "\n",
    "It is rare when I do error processing. When I build data warehouse load processes, each stored procedure I write performs a single task. An example would be a stored procedure that does nothing but load a single dimension table. The entire load process is engineered so that an error brings the entire thing to a halt. I do this to prevent train wrecks. Load processing is a series of events that have to happen in order. When a load processes in any other way than intended, then the train wreck metaphor becomes readily apparent.\n",
    "\n",
    "Since my processes run in SQL Server Agent, any errors are logged without me having to write code. However, from time to time, I do have to write errors. Recently, I had to write code that was going to be leveraged by an application written in .NET. In this case, reporting errors was necessary so they could be reported to the user."
   ]
  },
  {
   "cell_type": "markdown",
   "metadata": {},
   "source": [
    "<h1>Examples</h1>"
   ]
  },
  {
   "cell_type": "markdown",
   "metadata": {},
   "source": [
    "<strong>Trapping Divide By Zero</strong>"
   ]
  },
  {
   "cell_type": "code",
   "execution_count": null,
   "metadata": {},
   "outputs": [],
   "source": [
    "USE demo\n",
    "\n",
    "BEGIN TRY\n",
    "Print 1/0\n",
    "END TRY\n",
    "BEGIN CATCH\n",
    "PRINT 'Error '+CAST(ERROR_NUMBER()AS NVARCHAR(6))+' '+ERROR_MESSAGE()\n",
    "END CATCH"
   ]
  },
  {
   "cell_type": "markdown",
   "metadata": {},
   "source": [
    "<strong>Creating A Custom Error Message</strong>"
   ]
  },
  {
   "cell_type": "code",
   "execution_count": null,
   "metadata": {},
   "outputs": [],
   "source": [
    "USE demo\n",
    "\n",
    "DECLARE @UserInput INT\n",
    "\n",
    "BEGIN TRY\n",
    "SET @UserInput = 'Wakefield'\n",
    "END TRY\n",
    "BEGIN CATCH\n",
    "PRINT 'Please input an integer value.'\n",
    "END CATCH"
   ]
  },
  {
   "cell_type": "markdown",
   "metadata": {},
   "source": [
    "Copyright © 2020, Mass Street Analytics, LLC. All Rights Reserved."
   ]
  }
 ],
 "metadata": {
  "kernelspec": {
   "display_name": "Python 3",
   "language": "python",
   "name": "python3"
  },
  "language_info": {
   "codemirror_mode": {
    "name": "ipython",
    "version": 3
   },
   "file_extension": ".py",
   "mimetype": "text/x-python",
   "name": "python",
   "nbconvert_exporter": "python",
   "pygments_lexer": "ipython3",
   "version": "3.7.3"
  }
 },
 "nbformat": 4,
 "nbformat_minor": 2
}
