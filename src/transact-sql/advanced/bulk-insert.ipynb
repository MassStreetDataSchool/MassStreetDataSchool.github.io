{
 "cells": [
  {
   "cell_type": "markdown",
   "metadata": {},
   "source": [
    "<a href=\"https://massstreetuniversity.com/\"><img src=\"https://tutorials.massstreetuniversity.com/images/logo.png\" alt=\"School Logo\"></a><br><br><br>\n",
    "<a href=\"http://tutorials.massstreetuniversity.com/transact-sql/\">Tutorial Home</a> | <a href=\"https://tutorials.massstreetuniversity.com/transact-sql/advanced/stored-procedures.html\">Previous</a> | <a href=\"https://tutorials.massstreetuniversity.com/transact-sql/advanced/loading-tables-with-merge.html\">Next</a>"
   ]
  },
  {
   "cell_type": "markdown",
   "metadata": {},
   "source": [
    "<h1>Lesson 39. BULK INSERT</h1>"
   ]
  },
  {
   "cell_type": "markdown",
   "metadata": {},
   "source": [
    "There are numerous ways to get data into SQL Server. One of the fastest and least clunky-to-set-up ways is by using the BULK INSERT statement to ingest large CSVs.\n",
    "\n",
    "When you use BULK INSERT, the table that you are importing data into has to match the schema of the file you are importing. I teach you how to work around this limitation in the lesson titled <a href=\"../solutions/load-large-files.html\">Large CSVs Into Data Warehouse Staging Tables</a>."
   ]
  },
  {
   "cell_type": "markdown",
   "metadata": {},
   "source": [
    "<h1>BULK INSERT Syntax</h1>"
   ]
  },
  {
   "cell_type": "code",
   "execution_count": null,
   "metadata": {},
   "outputs": [],
   "source": [
    "BULK INSERT YourSchema.YourTable\n",
    "FROM 'FullyQualifiedFilePath\\YourFile.csv'"
   ]
  },
  {
   "cell_type": "markdown",
   "metadata": {},
   "source": [
    "<h1>Examples</h1>"
   ]
  },
  {
   "cell_type": "markdown",
   "metadata": {},
   "source": [
    "<strong>Basic Bulk Insert Example</strong>\n",
    "\n",
    "In this example, we will use the \"Customer Signature for Churn Analysis\" dataset. Not every dataset you import is going to be clean and perfect. Sometimes you have to give instructions to BULK INSERT. In this case, we have to specify how the columns are separated in the file, and we need to tell it to skip the header row."
   ]
  },
  {
   "cell_type": "code",
   "execution_count": null,
   "metadata": {},
   "outputs": [],
   "source": [
    "USE demo\n",
    "\n",
    "DROP TABLE IF EXISTS CustomerSignature\n",
    "\n",
    "CREATE TABLE CustomerSignature(\n",
    "recordID NVARCHAR(255) NULL,\n",
    "state NVARCHAR(255) NULL,\n",
    "account_length NVARCHAR(255) NULL,\n",
    "area_code NVARCHAR(255) NULL,\n",
    "international_plan NVARCHAR(255) NULL,\n",
    "voice_mail_plan NVARCHAR(255) NULL,\n",
    "number_vmail_messages NVARCHAR(255) NULL,\n",
    "total_day_minutes NVARCHAR(255) NULL,\n",
    "total_day_calls NVARCHAR(255) NULL,\n",
    "total_day_charge NVARCHAR(255) NULL,\n",
    "total_eve_minutes NVARCHAR(255) NULL,\n",
    "total_eve_calls NVARCHAR(255) NULL,\n",
    "total_eve_charge NVARCHAR(255) NULL,\n",
    "total_night_minutes NVARCHAR(255) NULL,\n",
    "total_night_calls NVARCHAR(255) NULL,\n",
    "total_night_charge NVARCHAR(255) NULL,\n",
    "total_intl_minutes NVARCHAR(255) NULL,\n",
    "total_intl_calls NVARCHAR(255) NULL,\n",
    "total_intl_charge NVARCHAR(255) NULL,\n",
    "number_customer_service_calls NVARCHAR(255) NULL,\n",
    "churn NVARCHAR(255) NULL,\n",
    "customer_id NVARCHAR(255) NULL\n",
    ")\n",
    "\n",
    "BULK INSERT CustomerSignature\n",
    "FROM 'E:\\customer_data_edited.csv'\n",
    "WITH (\n",
    "FIELDTERMINATOR = ',',\n",
    "FIRSTROW = 2\n",
    ");\n",
    "\n",
    "SELECT * FROM CustomerSignature\n",
    "\n",
    "DROP TABLE CustomerSignature"
   ]
  },
  {
   "cell_type": "markdown",
   "metadata": {},
   "source": [
    "Copyright © 2020, Mass Street Analytics, LLC. All Rights Reserved."
   ]
  }
 ],
 "metadata": {
  "kernelspec": {
   "display_name": "Python 3",
   "language": "python",
   "name": "python3"
  },
  "language_info": {
   "codemirror_mode": {
    "name": "ipython",
    "version": 3
   },
   "file_extension": ".py",
   "mimetype": "text/x-python",
   "name": "python",
   "nbconvert_exporter": "python",
   "pygments_lexer": "ipython3",
   "version": "3.7.3"
  }
 },
 "nbformat": 4,
 "nbformat_minor": 2
}
