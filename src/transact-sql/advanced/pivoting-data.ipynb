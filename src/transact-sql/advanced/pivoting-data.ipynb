{
 "cells": [
  {
   "cell_type": "markdown",
   "metadata": {},
   "source": [
    "<a href=\"https://massstreetuniversity.com/\"><img src=\"http://tutorials.massstreetuniversity.com/images/logo.png\" alt=\"School Logo\"></a><br><br><br>\n",
    "<a href=\"http://tutorials.massstreetuniversity.com/transact-sql/\">Tutorial Home</a>"
   ]
  },
  {
   "cell_type": "markdown",
   "metadata": {},
   "source": [
    "<h1>Pivoting Data</h1>"
   ]
  },
  {
   "cell_type": "markdown",
   "metadata": {},
   "source": [
    "As functions go, PIVOT is actually pretty wack. I am only bringing it up here because I talk about it again in the solutions section.\n",
    "\n",
    "This function is so wack, I’m not going to put ANY work into this lesson. I’m going to straight phone it in and just use the exact same code example from the MS documentation.\n",
    "\n",
    "You have my full permission to make a Thug Life gif out of my professional picture."
   ]
  },
  {
   "cell_type": "markdown",
   "metadata": {},
   "source": [
    "<strong>Examples</strong>"
   ]
  },
  {
   "cell_type": "code",
   "execution_count": null,
   "metadata": {},
   "outputs": [],
   "source": [
    "USE AdventureWorks2016\n",
    "\n",
    "-- Pivot table with one row and five columns  \n",
    "SELECT 'AverageCost' AS Cost_Sorted_By_Production_Days,   \n",
    "[0], [1], [2], [3], [4]  \n",
    "FROM  \n",
    "(SELECT DaysToManufacture, StandardCost   \n",
    "    FROM Production.Product) AS SourceTable  \n",
    "PIVOT  \n",
    "(  \n",
    "AVG(StandardCost)  \n",
    "FOR DaysToManufacture IN ([0], [1], [2], [3], [4])  \n",
    ") AS PivotTable;"
   ]
  },
  {
   "cell_type": "markdown",
   "metadata": {},
   "source": [
    "Copyright © 2020, Mass Street Analytics, LLC. All Rights Reserved."
   ]
  }
 ],
 "metadata": {
  "kernelspec": {
   "display_name": "Python 3",
   "language": "python",
   "name": "python3"
  },
  "language_info": {
   "codemirror_mode": {
    "name": "ipython",
    "version": 3
   },
   "file_extension": ".py",
   "mimetype": "text/x-python",
   "name": "python",
   "nbconvert_exporter": "python",
   "pygments_lexer": "ipython3",
   "version": "3.7.3"
  }
 },
 "nbformat": 4,
 "nbformat_minor": 2
}
