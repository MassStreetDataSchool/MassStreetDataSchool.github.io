{
 "cells": [
  {
   "cell_type": "markdown",
   "metadata": {},
   "source": [
    "<a href=\"https://massstreetuniversity.com/\"><img src=\"https://tutorials.massstreetuniversity.com/images/logo.png\" alt=\"School Logo\"></a><br><br><br>\n",
    "<a href=\"http://tutorials.massstreetuniversity.com/transact-sql/\">Tutorial Home</a> | <a href=\"https://tutorials.massstreetuniversity.com/transact-sql/advanced/temp-tables.html\">Previous</a> | <a href=\"https://tutorials.massstreetuniversity.com/transact-sql/advanced/indexed-views.html\">Next</a>"
   ]
  },
  {
   "cell_type": "markdown",
   "metadata": {},
   "source": [
    "<h1>Lesson 35. Views</h1>"
   ]
  },
  {
   "cell_type": "markdown",
   "metadata": {},
   "source": [
    "Views are T-SQL statements that are actually stored on SQL Server and can be called repeatedly without having to write the same code over and over. \n",
    "\n",
    "Views can be used just like a table. As such, they have numerous use cases such as simplifying code, or creating a denormalized dataset that can be read by BI tools like Power BI or Tableau.\n",
    "\n",
    "Views are just SQL statements and do not allow any of the programming aspects of T-SQL such as variables or looping.\n",
    "\n",
    "To see views in SSMS object explorer, expand the database you are working in and then expand the views folder. If you do this for the AdventureWorks database, you can see numerous views."
   ]
  },
  {
   "cell_type": "markdown",
   "metadata": {},
   "source": [
    "<h1>Examples</h1>"
   ]
  },
  {
   "cell_type": "markdown",
   "metadata": {},
   "source": [
    "<strong>Creating A View</strong>"
   ]
  },
  {
   "cell_type": "code",
   "execution_count": null,
   "metadata": {},
   "outputs": [],
   "source": [
    "USE AdventureWorks2016\n",
    "GO\n",
    "\n",
    "DROP VIEW IF EXISTS SalesReport\n",
    "\n",
    "GO\n",
    "\n",
    "CREATE VIEW SalesReport AS\n",
    "\n",
    "SELECT\n",
    "CONCAT(p.FirstName, ' ',p.LastName) AS SalesPerson,\n",
    "DATENAME(MONTH,soh.OrderDate) AS MonthOfSale,\n",
    "DATEPART(YEAR,soh.OrderDate) AS YearOfSale,\n",
    "SUM(sod.LineTotal) AS TotalSales\n",
    "FROM Person.Person p\n",
    "JOIN Sales.SalesPerson sp\n",
    "ON p.BusinessEntityID = sp.BusinessEntityID\n",
    "JOIN Sales.SalesOrderHeader soh\n",
    "ON sp.BusinessEntityID = soh.SalesPersonID\n",
    "JOIN Sales.SalesOrderDetail sod\n",
    "ON soh.SalesOrderID = sod.SalesOrderDetailID\n",
    "GROUP BY p.LastName, p.FirstName, DATENAME(month,soh.OrderDate), DATEPART(YEAR,soh.OrderDate)"
   ]
  },
  {
   "cell_type": "markdown",
   "metadata": {},
   "source": [
    "<strong>Using A View</strong>"
   ]
  },
  {
   "cell_type": "code",
   "execution_count": null,
   "metadata": {},
   "outputs": [],
   "source": [
    "USE AdventureWorks2016\n",
    "\n",
    "SELECT *\n",
    "FROM SalesReport\n",
    "ORDER BY SalesPerson"
   ]
  },
  {
   "cell_type": "markdown",
   "metadata": {},
   "source": [
    "<strong> Dropping A View</strong>"
   ]
  },
  {
   "cell_type": "code",
   "execution_count": null,
   "metadata": {},
   "outputs": [],
   "source": [
    "USE AdventureWorks2016\n",
    "\n",
    "DROP VIEW IF EXISTS SalesReport"
   ]
  },
  {
   "cell_type": "markdown",
   "metadata": {},
   "source": [
    "Copyright © 2020, Mass Street Analytics, LLC. All Rights Reserved."
   ]
  }
 ],
 "metadata": {
  "kernelspec": {
   "display_name": "Python 3",
   "language": "python",
   "name": "python3"
  },
  "language_info": {
   "codemirror_mode": {
    "name": "ipython",
    "version": 3
   },
   "file_extension": ".py",
   "mimetype": "text/x-python",
   "name": "python",
   "nbconvert_exporter": "python",
   "pygments_lexer": "ipython3",
   "version": "3.7.3"
  }
 },
 "nbformat": 4,
 "nbformat_minor": 2
}
