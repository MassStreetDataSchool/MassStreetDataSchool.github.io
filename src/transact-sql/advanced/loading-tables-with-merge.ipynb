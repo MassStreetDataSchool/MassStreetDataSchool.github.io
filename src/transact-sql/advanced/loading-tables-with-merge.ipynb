{
 "cells": [
  {
   "cell_type": "markdown",
   "metadata": {},
   "source": [
    "<a href=\"https://massstreetuniversity.com/\"><img src=\"https://tutorials.massstreetuniversity.com/images/logo.png\" alt=\"School Logo\"></a><br><br><br>\n",
    "<a href=\"http://tutorials.massstreetuniversity.com/transact-sql/\">Tutorial Home</a> | <a href=\"https://tutorials.massstreetuniversity.com/transact-sql/advanced/bulk-insert.html\">Previous</a> | <a href=\"https://tutorials.massstreetuniversity.com/transact-sql/advanced/partitioning-a-dataset.html\">Next</a>"
   ]
  },
  {
   "cell_type": "markdown",
   "metadata": {},
   "source": [
    "<h1>Lesson 40. Loading Tables With MERGE</h1>"
   ]
  },
  {
   "cell_type": "markdown",
   "metadata": {},
   "source": [
    "The MERGE clause is the most powerful SQL clause known to man. With MERGE, you can take data from one table and load it into another table. Unlike INSERT INTO SELECT, MERGE gives you way more power in how you go about doing that.\n",
    "\n",
    "With great power comes great complexity and a full explanation of SQL MERGE is FAR outside the scope of this tutorial. \n",
    "\n",
    "The most common use case I have for MERGE is loading Type II slowly changing dimensions in data warehouses. I talk about this extensively in the section titled <a href=\"../solutions/load-typeII-dimension.html\">Loading A Type II Slowly Changing Dimension With SQL Merge</a>.\n",
    "\n",
    "The process of using MERGE works like this.\n",
    "\n",
    "<ol>\n",
    "<li>Identify the table you will load data into.</li><br>\n",
    "<li>Identify the table that you will use as the source of your data.</li><br>\n",
    "<li>Identify how records in those two tables are connected.</li><br>\n",
    "<li>Give instructions on what to do when records do not match.</li><br>\n",
    "<li>Give instructions on what to do when records do match.</li><br>\n",
    "</ol>"
   ]
  },
  {
   "cell_type": "markdown",
   "metadata": {},
   "source": [
    "<h1>Examples</h1>"
   ]
  },
  {
   "cell_type": "markdown",
   "metadata": {},
   "source": [
    "<strong>A Basic MERGE Example</strong>"
   ]
  },
  {
   "cell_type": "code",
   "execution_count": null,
   "metadata": {},
   "outputs": [],
   "source": [
    "USE demo\n",
    "\n",
    "DROP TABLE IF EXISTS Person\n",
    "DROP TABLE IF EXISTS PersonStageTable\n",
    "\n",
    "CREATE TABLE Person(\n",
    "PersonID BIGINT NOT NULL,\n",
    "FirstName NVARCHAR(50) NULL,\n",
    "LastName NVARCHAR(50) NULL,\n",
    "SourceSystemKey NVARCHAR(50) NULL,\n",
    ")\n",
    "\n",
    "CREATE TABLE PersonStageTable(\n",
    "PersonID BIGINT NOT NULL,\n",
    "FirstName NVARCHAR(50) NULL,\n",
    "LastName NVARCHAR(50) NULL,\n",
    "SourceSystemKey NVARCHAR(50) NULL,\n",
    ")\n",
    "\n",
    "INSERT INTO Person(PersonID, FirstName, LastName, SourceSystemKey)\n",
    "SELECT 1, 'Bob', 'Wakefield',1\n",
    "\n",
    "INSERT INTO PersonStageTable(PersonID, FirstName, LastName, SourceSystemKey)\n",
    "SELECT 1,'Bob','Johnson',1\n",
    "UNION \n",
    "SELECT 2,'Sally','Ride',2\n",
    "\n",
    "SELECT * FROM Person\n",
    "\n",
    "SELECT * FROM PersonStageTable\n",
    "\n",
    "\n",
    "--*****Merge example beings here.*****\n",
    "\n",
    "MERGE Person AS target\n",
    "USING (\n",
    "SELECT\n",
    "PersonID,\n",
    "FirstName,\n",
    "LastName,\n",
    "SourceSystemKey\n",
    "FROM PersonStageTable\n",
    ") AS source\n",
    "ON (target.SourceSystemKey = source.SourceSystemKey)\n",
    "\n",
    "WHEN NOT MATCHED THEN\n",
    "INSERT (\n",
    "PersonID,\n",
    "FirstName,\n",
    "LastName,\n",
    "SourceSystemKey\n",
    ")\n",
    "VALUES (\n",
    "PersonID,\n",
    "FirstName,\n",
    "LastName,\n",
    "SourceSystemKey\n",
    ")\n",
    "\n",
    "WHEN MATCHED THEN\n",
    "UPDATE\n",
    "SET\n",
    "target.PersonID = source.PersonID,\n",
    "target.FirstName = source.FirstName,\n",
    "target.LastName = source.LastName,\n",
    "target.SourceSystemKey = source.SourceSystemKey\n",
    ";\n",
    "\n",
    "SELECT * FROM Person\n",
    "\n",
    "DROP TABLE Person\n",
    "DROP TABLE PersonStageTable"
   ]
  },
  {
   "cell_type": "markdown",
   "metadata": {},
   "source": [
    "Copyright © 2020, Mass Street Analytics, LLC. All Rights Reserved."
   ]
  }
 ],
 "metadata": {
  "kernelspec": {
   "display_name": "Python 3",
   "language": "python",
   "name": "python3"
  },
  "language_info": {
   "codemirror_mode": {
    "name": "ipython",
    "version": 3
   },
   "file_extension": ".py",
   "mimetype": "text/x-python",
   "name": "python",
   "nbconvert_exporter": "python",
   "pygments_lexer": "ipython3",
   "version": "3.7.3"
  }
 },
 "nbformat": 4,
 "nbformat_minor": 2
}
