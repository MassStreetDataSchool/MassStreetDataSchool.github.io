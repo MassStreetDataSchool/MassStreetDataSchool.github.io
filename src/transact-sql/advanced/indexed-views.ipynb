{
 "cells": [
  {
   "cell_type": "markdown",
   "metadata": {},
   "source": [
    "<a href=\"https://massstreetuniversity.com/\"><img src=\"https://tutorials.massstreetuniversity.com/images/logo.png\" alt=\"School Logo\"></a><br><br><br>\n",
    "<a href=\"http://tutorials.massstreetuniversity.com/transact-sql/\">Tutorial Home</a> | <a href=\"https://tutorials.massstreetuniversity.com/transact-sql/advanced/views.html\">Previous</a> | <a href=\"https://tutorials.massstreetuniversity.com/transact-sql/advanced/user-defined-functions.html\">Next</a>"
   ]
  },
  {
   "cell_type": "markdown",
   "metadata": {},
   "source": [
    "<h1>Lesson 36. Indexed Views</h1>"
   ]
  },
  {
   "cell_type": "markdown",
   "metadata": {},
   "source": [
    "You create indexed views when you want a high performing view. \n",
    "\n",
    "An index is an object on a table that orders information on disk in a manner in which you define. Having an index drastically increases query performance. A primary key is a form of an index.\n",
    "\n",
    "As the name suggest, an indexed view is a view with an index. An indexed view is bound to the tables that the view is based on. This creates and important constraint. \n",
    "\n",
    "<strong>You cannot change a table a view is based on without first destroying the connection between the view and source tables.</strong>\n",
    "\n",
    "This is where knowing T-SQL comes in handy. When I need to make a change to a table, I will do it programmatically. In the script prior to the alter statement, I will drop the view. After the alter statement, I will recreate the view.\n",
    "\n",
    "My primary use case for indexed views is using them to mirror data warehouse tables. I do not allow anybody that is not a data engineer access to the original tables. Not even on a read only basis. I create the index views for reports analyst. These are people that know SQL, but have no need to see the audit columns used to run the database."
   ]
  },
  {
   "cell_type": "markdown",
   "metadata": {},
   "source": [
    "<h1>Examples</h1>"
   ]
  },
  {
   "cell_type": "markdown",
   "metadata": {},
   "source": [
    "<strong>Indexed View Creation</strong>\n",
    "\n",
    "In the below example, I create a view called Person and bind it to the Person table. I am able to have two objects named the same because I do not specify a schema for the view. Since I do not specify a schema, the view will go into the dbo schema where there is not an object already named person. This will come in handy as you will see in the section titled <a href=\"../solutions/load-large-files.html\">Loading Large CSVs Into Data Warehouse Staging Tables</a>."
   ]
  },
  {
   "cell_type": "code",
   "execution_count": null,
   "metadata": {},
   "outputs": [],
   "source": [
    "USE AdventureWorks2016\n",
    "\n",
    "\n",
    "DROP VIEW IF EXISTS Person\n",
    "\n",
    "GO\n",
    "\n",
    "CREATE VIEW Person\n",
    " \n",
    "WITH SCHEMABINDING  \n",
    "AS  \n",
    "SELECT\n",
    "BusinessEntityID,\n",
    "FirstName,\n",
    "LastName\n",
    "FROM Person.Person\n",
    "GO  \n",
    "--Create an index on the view.  \n",
    "CREATE UNIQUE CLUSTERED INDEX CIDX_PERSON_BUSINESSENTITYID ON Person(BusinessEntityID);  \n",
    "GO  "
   ]
  },
  {
   "cell_type": "markdown",
   "metadata": {},
   "source": [
    "Copyright © 2020, Mass Street Analytics, LLC. All Rights Reserved."
   ]
  }
 ],
 "metadata": {
  "kernelspec": {
   "display_name": "Python 3",
   "language": "python",
   "name": "python3"
  },
  "language_info": {
   "codemirror_mode": {
    "name": "ipython",
    "version": 3
   },
   "file_extension": ".py",
   "mimetype": "text/x-python",
   "name": "python",
   "nbconvert_exporter": "python",
   "pygments_lexer": "ipython3",
   "version": "3.7.3"
  }
 },
 "nbformat": 4,
 "nbformat_minor": 2
}
