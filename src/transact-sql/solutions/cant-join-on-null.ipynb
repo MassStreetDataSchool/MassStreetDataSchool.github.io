{
 "cells": [
  {
   "cell_type": "markdown",
   "metadata": {},
   "source": [
    "<a href=\"https://massstreetuniversity.com/\"><img src=\"https://tutorials.massstreetuniversity.com/images/logo.png\" alt=\"School Logo\"></a><br><br><br>\n",
    "<a href=\"http://tutorials.massstreetuniversity.com/transact-sql/\">Tutorial Home</a> | <a href=\"https://tutorials.massstreetuniversity.com/transact-sql/solutions/numeric-parameters.html\">Previous</a> | <a href=\"https://tutorials.massstreetuniversity.com/transact-sql/solutions/where-clause-deep-dive.html\">Next</a>"
   ]
  },
  {
   "cell_type": "markdown",
   "metadata": {},
   "source": [
    "<h1>Lesson 61. Why You Cannot Join On Null Values</h1>"
   ]
  },
  {
   "cell_type": "markdown",
   "metadata": {},
   "source": [
    "This is a fairly common and insidious error because you might not catch the problem if you are working with a large amount of data. Basically, NULL means unknown and unknown cannot equal unknown, so you cannot join records on null values. The best thing to do is not have NULLs in candidate key fields.\n",
    "\n",
    "When I was working this problem and mentioned this was weird, another data engineer had this to say:\n",
    "\n",
    "No, it is not weird. It actually follows from the definitions in the ANSI/ISO standards. The in fixed notation that we use now, was actually a result of an article published by Chris Date in one of the database newsstand magazines of the time (he and I had columns in DBMS and Database Programming and Design, and they were both owned by the same publisher at one point).\n",
    "\n",
    "The actual syntax was not proposed by Date, by one of the ANSI X3H2 committee members. The rule is that infixed joins are evaluated strictly left to right, and the ON clause associates with the nearest join. If I have a really complicated set of inner joins, I prefer to use the original set-oriented notation (no infixed operators). People that use infixed inner join have a mindset locked into + versus \"big Sigma\" from mathematics."
   ]
  },
  {
   "cell_type": "markdown",
   "metadata": {},
   "source": [
    "<h1>Examples</h1>"
   ]
  },
  {
   "cell_type": "markdown",
   "metadata": {},
   "source": [
    "<strong>A Walk Through Of The Problem And Solution</strong>\n",
    "\n",
    "My expectation here would be to get back results such that I get all the genders and only matching records for toys. However, when I apply a filter on toys, the dataset has a null value for gender ID in the toys table. My left outer join now behaves as an inner join."
   ]
  },
  {
   "cell_type": "code",
   "execution_count": null,
   "metadata": {},
   "outputs": [],
   "source": [
    "USE demo\n",
    "\n",
    "DECLARE @genders TABLE(gender_id INT, gender VARCHAR(20))\n",
    "DECLARE @toys TABLE(toy_id INT, gender_id INT, toy_name VARCHAR(20))\n",
    "\n",
    "INSERT INTO @genders(gender_id, gender)\n",
    "SELECT 1, 'boy'\n",
    "UNION ALL\n",
    "SELECT 2, 'girl'\n",
    "UNION ALL\n",
    "SELECT 3, 'both'\n",
    "\n",
    "INSERT INTO @toys(toy_id, gender_id, toy_name)\n",
    "SELECT 1, 1, 'GI JOE'\n",
    "UNION ALL\n",
    "SELECT 2,2, 'My Little Pony'\n",
    "\n",
    "\n",
    "SELECT g.*\n",
    "FROM @genders g\n",
    "LEFT OUTER JOIN @toys t\n",
    "ON g.gender_id = t.gender_id\n",
    "WHERE t.toy_name NOT IN(\n",
    "'My Little Pony'\n",
    ") "
   ]
  },
  {
   "cell_type": "markdown",
   "metadata": {},
   "source": [
    "Here is the correct approach to the problem."
   ]
  },
  {
   "cell_type": "code",
   "execution_count": null,
   "metadata": {},
   "outputs": [],
   "source": [
    "USE demo\n",
    "\n",
    "DECLARE @genders TABLE(gender_id INT, gender VARCHAR(20))\n",
    "DECLARE @toys TABLE(toy_id INT, gender_id INT, toy_name VARCHAR(20))\n",
    "\n",
    "INSERT INTO @genders(gender_id, gender)\n",
    "SELECT 1, 'boy'\n",
    "UNION ALL\n",
    "SELECT 2, 'girl'\n",
    "UNION ALL\n",
    "SELECT 3, 'both'\n",
    "\n",
    "INSERT INTO @toys(toy_id, gender_id, toy_name)\n",
    "SELECT 1, 1, 'GI JOE'\n",
    "UNION ALL\n",
    "SELECT 2,2, 'My Little Pony'\n",
    "\n",
    "\n",
    "SELECT g.*,t.toy_name\n",
    "FROM @genders g\n",
    "LEFT OUTER JOIN @toys t\n",
    "ON g.gender_id = t.gender_id and t.toy_name NOT IN\n",
    "('My Little Pony') "
   ]
  },
  {
   "cell_type": "markdown",
   "metadata": {},
   "source": [
    "Here is an approach that filters first by encapsulating the filter logic in a CTE."
   ]
  },
  {
   "cell_type": "code",
   "execution_count": null,
   "metadata": {},
   "outputs": [],
   "source": [
    "USE demo\n",
    "\n",
    ";with mycte as (\n",
    "select * from  @toys WHERE toy_name NOT IN('My Little Pony')) \n",
    "\n",
    "SELECT g.*, t.toy_name\n",
    "FROM @genders g\n",
    "LEFT OUTER JOIN mycte t\n",
    "ON g.gender_id = t.gender_id"
   ]
  },
  {
   "cell_type": "markdown",
   "metadata": {},
   "source": [
    "Copyright © 2020, Mass Street Analytics, LLC. All Rights Reserved."
   ]
  }
 ],
 "metadata": {
  "kernelspec": {
   "display_name": "Python 3",
   "language": "python",
   "name": "python3"
  },
  "language_info": {
   "codemirror_mode": {
    "name": "ipython",
    "version": 3
   },
   "file_extension": ".py",
   "mimetype": "text/x-python",
   "name": "python",
   "nbconvert_exporter": "python",
   "pygments_lexer": "ipython3",
   "version": "3.7.3"
  }
 },
 "nbformat": 4,
 "nbformat_minor": 2
}
