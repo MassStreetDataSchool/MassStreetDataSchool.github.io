{
 "cells": [
  {
   "cell_type": "markdown",
   "metadata": {},
   "source": [
    "<a href=\"https://massstreetuniversity.com/\"><img src=\"https://tutorials.massstreetuniversity.com/images/logo.png\" alt=\"School Logo\"></a><br><br><br>\n",
    "<a href=\"http://tutorials.massstreetuniversity.com/transact-sql/\">Tutorial Home</a> | <a href=\"https://tutorials.massstreetuniversity.com/transact-sql/solutions/troubleshoot-queries.html\">Previous</a> | <a href=\"https://tutorials.massstreetuniversity.com/transact-sql/solutions/only-use-for-cursors.html\">Next</a>"
   ]
  },
  {
   "cell_type": "markdown",
   "metadata": {},
   "source": [
    "<h1>Lesson 57. Loading Large CSVs Into Data Warehouse Staging Tables</h1>"
   ]
  },
  {
   "cell_type": "markdown",
   "metadata": {},
   "source": [
    "When I load large CSVs into staging, I want to use BULK INSERT. The problem with BULK INSERT is that it will not load a file into a table that does not match the schema of the file. That is problematic as staging tables have audit columns that certainly will not be in the file. This is the process I use to get around this problem.\n",
    "\n",
    "<ol>\n",
    "<li>In your load proc, remove all keys and indexes from the target table. Those things slow down the load.</li><br>\n",
    "<li>Create a view of the target table with the exact same name as the target table and place it in the dbo schema. The view should only contain those columns in the file.</li><br>\n",
    "<li>Use BULK INSERT to load the view which will load the table. Set the parameters of BULK INSERT to fit the scenario.</li><br>\n",
    "<li>In your load proc, add back all the keys and indexes. </li><br>\n",
    "</ol>"
   ]
  },
  {
   "cell_type": "markdown",
   "metadata": {},
   "source": [
    "<h1>Examples</h1>"
   ]
  },
  {
   "cell_type": "markdown",
   "metadata": {},
   "source": [
    "<strong>Comprehensive Load Example</strong>\n",
    "\n",
    "We are going to use the sample dataset \"Flights Table From the nycflights13 Dataset\"."
   ]
  },
  {
   "cell_type": "code",
   "execution_count": null,
   "metadata": {},
   "outputs": [],
   "source": [
    "USE demo\n",
    "\n",
    "DROP TABLE IF EXISTS temp.FlightsStaging\n",
    "DROP SCHEMA IF EXISTS temp\n",
    "DROP VIEW IF EXISTS FlightsStaging\n",
    "\n",
    "GO\n",
    "\n",
    "CREATE SCHEMA temp\n",
    "\n",
    "\n",
    "\n",
    "CREATE TABLE temp.FlightsStaging(\n",
    "ETLKey uniqueidentifier NOT NULL,\n",
    "year NVARCHAR(255) NULL,\n",
    "month NVARCHAR(255) NULL,\n",
    "day NVARCHAR(255) NULL,\n",
    "dep_time NVARCHAR(255) NULL,\n",
    "sched_dep_time NVARCHAR(255) NULL,\n",
    "dep_delay NVARCHAR(255) NULL,\n",
    "arr_time NVARCHAR(255) NULL,\n",
    "sched_arr_time NVARCHAR(255) NULL,\n",
    "arr_delay NVARCHAR(255) NULL,\n",
    "carrier NVARCHAR(255) NULL,\n",
    "flight NVARCHAR(255) NULL,\n",
    "tailnum NVARCHAR(255) NULL,\n",
    "origin NVARCHAR(255) NULL,\n",
    "dest NVARCHAR(255) NULL,\n",
    "air_time NVARCHAR(255) NULL,\n",
    "distance NVARCHAR(255) NULL,\n",
    "hour NVARCHAR(255) NULL,\n",
    "minute NVARCHAR(255) NULL,\n",
    "time_hour NVARCHAR(255) NULL,\n",
    "UniqueDims varbinary(35) NULL,\n",
    "UniqueRows varbinary(16) NULL,\n",
    "SourceSystem nvarchar(255) NULL,\n",
    "Cleansed bit NULL,\n",
    "ErrorRecord bit NULL,\n",
    "ErrorReason nvarchar(255) NULL,\n",
    "Processed bit NULL,\n",
    "RunDate datetime NULL,\n",
    "CONSTRAINT PK_FlightsStaging PRIMARY KEY CLUSTERED \n",
    "(\n",
    "       [ETLKey] ASC\n",
    ")WITH (PAD_INDEX = OFF, STATISTICS_NORECOMPUTE = OFF, IGNORE_DUP_KEY = OFF, ALLOW_ROW_LOCKS = ON, ALLOW_PAGE_LOCKS = ON) ON [PRIMARY]\n",
    ") ON [PRIMARY]\n",
    "\n",
    "GO\n",
    "\n",
    "ALTER TABLE temp.FlightsStaging ADD  CONSTRAINT DF_FlightsStaging_ETLKey  DEFAULT (newid()) FOR ETLKey\n",
    "GO\n",
    "\n",
    "ALTER TABLE temp.FlightsStaging ADD  CONSTRAINT DF_FlightsStaging_SourceSystem  DEFAULT (N'Flights System') FOR SourceSystem\n",
    "GO\n",
    "\n",
    "ALTER TABLE temp.FlightsStaging ADD  CONSTRAINT DF_FlightsStaging_Cleansed  DEFAULT ((0)) FOR Cleansed\n",
    "GO\n",
    "\n",
    "ALTER TABLE temp.FlightsStaging ADD  CONSTRAINT DF_FlightsStaging_ErrorRecord  DEFAULT ((0)) FOR ErrorRecord\n",
    "GO\n",
    "\n",
    "ALTER TABLE temp.FlightsStaging ADD  CONSTRAINT DF_FlightsStaging_Processed  DEFAULT ((0)) FOR Processed\n",
    "GO\n",
    "\n",
    "ALTER TABLE temp.FlightsStaging ADD  CONSTRAINT DF_FlightsStaging_RunDate  DEFAULT (getdate()) FOR RunDate\n",
    "GO\n",
    "\n",
    "CREATE VIEW FlightsStaging\n",
    "AS\n",
    "SELECT\n",
    "year,\n",
    "month,\n",
    "day,\n",
    "dep_time,\n",
    "sched_dep_time,\n",
    "dep_delay,\n",
    "arr_time,\n",
    "sched_arr_time,\n",
    "arr_delay,\n",
    "carrier,\n",
    "flight,\n",
    "tailnum,\n",
    "origin,\n",
    "dest,\n",
    "air_time,\n",
    "distance,\n",
    "hour,\n",
    "minute,\n",
    "time_hour\n",
    "FROM temp.FlightsStaging\n",
    "GO\n",
    "--Begin Load\n",
    "ALTER TABLE temp.FlightsStaging DROP CONSTRAINT PK_FlightsStaging WITH ( ONLINE = OFF )\n",
    "GO\n",
    "\n",
    "--Insert into the view\n",
    "BULK INSERT FlightsStaging\n",
    "FROM 'E:\\flights.csv'\n",
    "WITH (\n",
    "FIELDTERMINATOR = ',',\n",
    "ROWTERMINATOR = '0x0a',\n",
    "FIRSTROW = 2\n",
    ");\n",
    "\n",
    "ALTER TABLE temp.FlightsStaging ADD  CONSTRAINT PK_FlightsStaging PRIMARY KEY CLUSTERED \n",
    "(\n",
    "   ETLKey ASC\n",
    ")WITH (PAD_INDEX = OFF, STATISTICS_NORECOMPUTE = OFF, SORT_IN_TEMPDB = OFF, IGNORE_DUP_KEY = OFF, ONLINE = OFF, ALLOW_ROW_LOCKS = ON, ALLOW_PAGE_LOCKS = ON) ON [PRIMARY]\n",
    "GO\n",
    "\n",
    "--but the records went to the actual table\n",
    "SELECT *\n",
    "FROM temp.FlightsStaging\n",
    "\n",
    "\n",
    "\n",
    "DROP TABLE temp.FlightsStaging\n",
    "DROP SCHEMA temp\n",
    "DROP VIEW FlightsStaging"
   ]
  },
  {
   "cell_type": "markdown",
   "metadata": {},
   "source": [
    "Copyright © 2020, Mass Street Analytics, LLC. All Rights Reserved."
   ]
  }
 ],
 "metadata": {
  "kernelspec": {
   "display_name": "Python 3",
   "language": "python",
   "name": "python3"
  },
  "language_info": {
   "codemirror_mode": {
    "name": "ipython",
    "version": 3
   },
   "file_extension": ".py",
   "mimetype": "text/x-python",
   "name": "python",
   "nbconvert_exporter": "python",
   "pygments_lexer": "ipython3",
   "version": "3.7.3"
  }
 },
 "nbformat": 4,
 "nbformat_minor": 2
}
