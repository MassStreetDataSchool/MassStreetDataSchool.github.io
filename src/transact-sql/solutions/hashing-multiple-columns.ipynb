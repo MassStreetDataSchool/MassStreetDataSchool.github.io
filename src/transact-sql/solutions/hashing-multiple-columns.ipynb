{
 "cells": [
  {
   "cell_type": "markdown",
   "metadata": {},
   "source": [
    "<a href=\"https://massstreetuniversity.com/\"><img src=\"https://tutorials.massstreetuniversity.com/images/logo.png\" alt=\"School Logo\"></a><br><br><br>\n",
    "<a href=\"http://tutorials.massstreetuniversity.com/transact-sql/\">Tutorial Home</a> | <a href=\"https://tutorials.massstreetuniversity.com/transact-sql/solutions/hashbytes-for-string-comparison.html\">Previous</a> | <a href=\"https://tutorials.massstreetuniversity.com/transact-sql/solutions/sql-style-guide.html\">Next</a>"
   ]
  },
  {
   "cell_type": "markdown",
   "metadata": {},
   "source": [
    "<h1>Lesson 64. Using Pipe To Hash Multiple Columns For Matching</h1>"
   ]
  },
  {
   "cell_type": "markdown",
   "metadata": {},
   "source": [
    "When using the HASHBYTES() function in SQL Server to hash multiple columns for matching, use CONCAT() and separate values with a pipe.\n",
    "\n",
    "Usually, the values in columns are disparate enough that you really do not have to worry. For example, it was years before I actually discovered an edge case. However, I did discover at least one scenario where concatenating the columns was not enough to develop a unique record. This occurred in a table with few columns and small amounts of data.\n",
    "\n",
    "A better approach is to just CONCAT() columns with a pipe between values. Since this character is rarely used, it lowers the probability of having different values hash the same."
   ]
  },
  {
   "cell_type": "markdown",
   "metadata": {},
   "source": [
    "<h1>Examples</h1>"
   ]
  },
  {
   "cell_type": "markdown",
   "metadata": {},
   "source": [
    "<strong>A Walk Through Of The Problem And Solution</strong>\n",
    "\n",
    "Here is the edge case scenario that got me into trouble."
   ]
  },
  {
   "cell_type": "code",
   "execution_count": null,
   "metadata": {},
   "outputs": [],
   "source": [
    "USE demo\n",
    "\n",
    "DECLARE @SampleStageTable AS TABLE(ID INT, VALUE1 NVARCHAR(10), VALUE2 NVARCHAR(10))\n",
    "\n",
    "INSERT INTO @SampleStageTable(ID, VALUE1, VALUE2)\n",
    "SELECT 1, '012','345'\n",
    "UNION\n",
    "SELECT 2, '01','2345'\n",
    "\n",
    "\n",
    "SELECT * FROM @SampleStageTable"
   ]
  },
  {
   "cell_type": "markdown",
   "metadata": {},
   "source": [
    "As you can see, record 1 and record 2 are two entirely different records. But look what happens when we hash the row!"
   ]
  },
  {
   "cell_type": "code",
   "execution_count": null,
   "metadata": {},
   "outputs": [],
   "source": [
    "USE demo\n",
    "\n",
    "DECLARE @SampleStageTable AS TABLE(ID INT, VALUE1 NVARCHAR(10), VALUE2 NVARCHAR(10))\n",
    "\n",
    "INSERT INTO @SampleStageTable(ID, VALUE1, VALUE2)\n",
    "SELECT 1, '012','345'\n",
    "UNION\n",
    "SELECT 2, '01','2345'\n",
    "\n",
    "\n",
    "SELECT ID, VALUE1, VALUE2, HASHBYTES('MD5', CONCAT(VALUE1, VALUE2)) AS ROWHASH\n",
    "FROM @SampleStageTable"
   ]
  },
  {
   "cell_type": "markdown",
   "metadata": {},
   "source": [
    "UH OH! Two different records hashing the same? That's not cool! Let's fix this. This is why we use pipe!\n",
    "\n",
    "As you can see, the addition of the pipe makes it so the two records can be clearly delineated."
   ]
  },
  {
   "cell_type": "code",
   "execution_count": null,
   "metadata": {},
   "outputs": [],
   "source": [
    "USE demo\n",
    "\n",
    "DECLARE @SampleStageTable AS TABLE(ID INT, VALUE1 NVARCHAR(10), VALUE2 NVARCHAR(10))\n",
    "\n",
    "INSERT INTO @SampleStageTable(ID, VALUE1, VALUE2)\n",
    "SELECT 1, '012','345'\n",
    "UNION\n",
    "SELECT 2, '01','2345'\n",
    "\n",
    "\n",
    "SELECT ID, VALUE1, VALUE2, HASHBYTES('MD5', CONCAT(VALUE1,'|', VALUE2)) AS ROWHASH\n",
    "FROM @SampleStageTable"
   ]
  },
  {
   "cell_type": "markdown",
   "metadata": {},
   "source": [
    "Copyright © 2020, Mass Street Analytics, LLC. All Rights Reserved."
   ]
  }
 ],
 "metadata": {
  "kernelspec": {
   "display_name": "Python 3",
   "language": "python",
   "name": "python3"
  },
  "language_info": {
   "codemirror_mode": {
    "name": "ipython",
    "version": 3
   },
   "file_extension": ".py",
   "mimetype": "text/x-python",
   "name": "python",
   "nbconvert_exporter": "python",
   "pygments_lexer": "ipython3",
   "version": "3.7.3"
  }
 },
 "nbformat": 4,
 "nbformat_minor": 2
}
