{
 "cells": [
  {
   "cell_type": "markdown",
   "metadata": {},
   "source": [
    "<a href=\"https://massstreetuniversity.com/\"><img src=\"https://tutorials.massstreetuniversity.com/images/logo.png\" alt=\"School Logo\"></a><br><br><br>\n",
    "<a href=\"http://tutorials.massstreetuniversity.com/transact-sql/\">Tutorial Home</a> | <a href=\"https://tutorials.massstreetuniversity.com/transact-sql/solutions/pull-random-records.html\">Previous</a> | <a href=\"https://tutorials.massstreetuniversity.com/transact-sql/solutions/boost-performance.html\">Next</a>"
   ]
  },
  {
   "cell_type": "markdown",
   "metadata": {},
   "source": [
    "<h1>Lesson 48. A Better Alternative To WITH (NOLOCK)</h1>"
   ]
  },
  {
   "cell_type": "markdown",
   "metadata": {},
   "source": [
    "There is a better way to get dirty reads in SQL Server than littering your code with WITH (NOLOCK) code hints.\n",
    "\n",
    "Here is a good way to make yourself stand out from other job candidates. When the interviewer asks you how to pull data without disturbing users, 90% of applicants will say WITH (NOLOCK). It is the book answer. However, in the real world, analytic SQL statements can entail dozens of tables. Having to put WITH (NOLOCK) everywhere is annoying and makes the code unreadable. Instead, you can tell your entire script to accept dirty reads by setting the transaction isolation level globally throughout the script."
   ]
  },
  {
   "cell_type": "markdown",
   "metadata": {},
   "source": [
    "<h1>Examples</h1>"
   ]
  },
  {
   "cell_type": "markdown",
   "metadata": {},
   "source": [
    "<strong>Now Isn’t This Much Better?</strong>"
   ]
  },
  {
   "cell_type": "code",
   "execution_count": null,
   "metadata": {},
   "outputs": [],
   "source": [
    "USE AdventureWorks2016\n",
    "\n",
    "SET TRANSACTION ISOLATION LEVEL READ UNCOMMITTED\n",
    "\n",
    "\n",
    "SELECT *\n",
    "FROM [Sales].[SalesOrderHeader] soh\n",
    "JOIN [Sales].[SalesOrderDetail] sod\n",
    "ON soh.SalesOrderID = sod.SalesOrderID\n",
    "\n",
    "SET TRANSACTION ISOLATION LEVEL READ COMMITTED"
   ]
  },
  {
   "cell_type": "markdown",
   "metadata": {},
   "source": [
    "Copyright © 2020, Mass Street Analytics, LLC. All Rights Reserved."
   ]
  }
 ],
 "metadata": {
  "kernelspec": {
   "display_name": "Python 3",
   "language": "python",
   "name": "python3"
  },
  "language_info": {
   "codemirror_mode": {
    "name": "ipython",
    "version": 3
   },
   "file_extension": ".py",
   "mimetype": "text/x-python",
   "name": "python",
   "nbconvert_exporter": "python",
   "pygments_lexer": "ipython3",
   "version": "3.7.3"
  }
 },
 "nbformat": 4,
 "nbformat_minor": 2
}
