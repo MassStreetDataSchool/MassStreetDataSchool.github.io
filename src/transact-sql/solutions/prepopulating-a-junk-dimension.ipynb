{
 "cells": [
  {
   "cell_type": "markdown",
   "metadata": {},
   "source": [
    "<a href=\"https://massstreetuniversity.com/\"><img src=\"https://tutorials.massstreetuniversity.com/images/logo.png\" alt=\"School Logo\"></a><br><br><br>\n",
    "<a href=\"http://tutorials.massstreetuniversity.com/transact-sql/\">Tutorial Home</a> | <a href=\"https://tutorials.massstreetuniversity.com/transact-sql/solutions/how-to-pivot-an-unknown-number-of-columns.html\">Previous</a>"
   ]
  },
  {
   "cell_type": "markdown",
   "metadata": {},
   "source": [
    "<h1>Lesson 68. Prepopulating A Junk Dimension</h1>"
   ]
  },
  {
   "cell_type": "markdown",
   "metadata": {},
   "source": [
    "The mathematical properties of junk dimensions are fascinating to me. Let me explain.\n",
    "\n",
    "Junk dimensions are usually a collection of flags and other values with low cardinality. The records in a junk dimension represent unique combinations of all the columns. Since the number of possible values in each column is finite, using basic combinatorics, you can calculate how many records are going to be in that table if you know all the values a priori.\n",
    "\n",
    "If we let x represent the number of possible values in a column, then total number of records in a table is defined by:\n",
    "\n",
    "Total number of records = x<sub>1</sub> \\* x<sub>2</sub> \\* x<sub>3</sub>\\*…x<sub>n</sub> \n",
    "\n",
    "Suppose we had a table with the following profile.\n",
    "\n",
    "<table width=\"100%\" border=\"1\" align=\"left\">\n",
    "  <tbody>\n",
    "      <th scope=\"col\" valign=\"top\">Column  Name</th>\n",
    "      <th scope=\"col\" valign=\"top\"><p>Number Of Possible Values</p></th>\n",
    "    <tr>\n",
    "      <td valign=\"top\">Color</td>\n",
    "      <td valign=\"top\">5</td>\n",
    "    </tr>\n",
    "    <tr>\n",
    "      <td valign=\"top\">Size </td>\n",
    "      <td valign=\"top\">3</td>\n",
    "    </tr>\n",
    "    <tr>\n",
    "      <td valign=\"top\">isActiveProduct </td>\n",
    "      <td valign=\"top\">2</td>\n",
    "    </tr>\n",
    "</tbody>\n",
    "</table><br>\n",
    "\n",
    "This means that the total number of records in this table will be:\n",
    "\n",
    "5 \\* 3 \\* 2 = 30\n",
    "\n",
    "This is not just an academic exercise. You can use this information to determine if there will be too many records in this table and maybe consider splitting up some of the columns into smaller logical groupings.\n",
    "\n",
    "But the real fun of all this is loading the data completely before the first load even hits! Yeah, yeah. We could just let the table populate naturally but what fun is that?!\n",
    "\n",
    "In our example above, we already know what all the values are. Additionally, there are not that many. We can take advantage of CROSS JOIN to put the data together and load the table!"
   ]
  },
  {
   "cell_type": "markdown",
   "metadata": {},
   "source": [
    "<h1>Examples</h1>"
   ]
  },
  {
   "cell_type": "markdown",
   "metadata": {},
   "source": [
    "<strong>Watch While I Science The **** Out Of This</strong>"
   ]
  },
  {
   "cell_type": "code",
   "execution_count": null,
   "metadata": {},
   "outputs": [],
   "source": [
    "USE demo\n",
    "\n",
    "--create necessary tables\n",
    "DECLARE @ProductInformation AS TABLE (Color NVARCHAR(20), Size NVARCHAR(1), isActiveProduct BIT)\n",
    "DECLARE @Color AS TABLE(Color NVARCHAR(20))\n",
    "DECLARE @Size AS TABLE(Size NVARCHAR(1))\n",
    "DECLARE @isActiveProduct AS TABLE(isActiveProduct BIT)\n",
    "\n",
    "--populate component tables\n",
    "INSERT INTO @Color(Color)\n",
    "SELECT 'Red'\n",
    "UNION\n",
    "SELECT 'Blue'\n",
    "UNION\n",
    "SELECT 'Brown'\n",
    "UNION\n",
    "SELECT 'Green'\n",
    "UNION\n",
    "SELECT 'Yellow'\n",
    "\n",
    "INSERT INTO @Size(Size)\n",
    "SELECT 'S'\n",
    "UNION\n",
    "SELECT 'M'\n",
    "UNION\n",
    "SELECT 'L'\n",
    "\n",
    "INSERT INTO @isActiveProduct(isActiveProduct)\n",
    "SELECT '1'\n",
    "UNION\n",
    "SELECT '0'\n",
    "\n",
    "--Prepopulate table\n",
    "INSERT INTO @ProductInformation(Color, Size, isActiveProduct)\n",
    "SELECT Color, Size, isActiveProduct \n",
    "FROM @Color\n",
    "CROSS JOIN @Size\n",
    "CROSS JOIN @isActiveProduct\n",
    "\n",
    "--gloat over my math superiority\n",
    "SELECT COUNT(*) AS TotalRecords\n",
    "FROM @ProductInformation\n",
    "\n",
    "--see the results\n",
    "SELECT *\n",
    "FROM @ProductInformation"
   ]
  },
  {
   "cell_type": "markdown",
   "metadata": {},
   "source": [
    "Copyright © 2020, Mass Street Analytics, LLC. All Rights Reserved."
   ]
  }
 ],
 "metadata": {
  "kernelspec": {
   "display_name": "Python 3",
   "language": "python",
   "name": "python3"
  },
  "language_info": {
   "codemirror_mode": {
    "name": "ipython",
    "version": 3
   },
   "file_extension": ".py",
   "mimetype": "text/x-python",
   "name": "python",
   "nbconvert_exporter": "python",
   "pygments_lexer": "ipython3",
   "version": "3.7.3"
  }
 },
 "nbformat": 4,
 "nbformat_minor": 2
}
