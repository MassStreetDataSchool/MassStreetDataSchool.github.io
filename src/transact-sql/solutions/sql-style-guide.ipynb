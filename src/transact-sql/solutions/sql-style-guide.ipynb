{
 "cells": [
  {
   "cell_type": "markdown",
   "metadata": {},
   "source": [
    "<a href=\"https://massstreetuniversity.com/\"><img src=\"https://tutorials.massstreetuniversity.com/images/logo.png\" alt=\"School Logo\"></a><br><br><br>\n",
    "<a href=\"http://tutorials.massstreetuniversity.com/transact-sql/\">Tutorial Home</a> | <a href=\"https://tutorials.massstreetuniversity.com/transact-sql/solutions/hashing-multiple-columns.html\">Previous</a> | <a href=\"https://tutorials.massstreetuniversity.com/transact-sql/solutions/data-warehouse-standup.html\">Next</a>"
   ]
  },
  {
   "cell_type": "markdown",
   "metadata": {},
   "source": [
    "<h1>Lesson 65. Why People That Indent Code Drive Me Nuts</h1>\n",
    "\n",
    "<h1>(AKA A Recommended SQL Style Guide)</h1>"
   ]
  },
  {
   "cell_type": "markdown",
   "metadata": {},
   "source": [
    "I am that rare breed of human for whom SQL is my primary language. Of course, I had learned other programming languages prior to SQL, but I never used them day in and day out. Most people come to SQL from other programming languages and they have a tendency to bring their nonsense with them.\n",
    "\n",
    "This is a personal pet peeve. SQL is not like Python which enforces indentation and spacing between lines of code. People that come from other languages try to overlay whatever coding standard they have previously used onto SQL. What you wind up with is a mishmash of code inconsistently flowing all over the place as the individual engineer interprets where THEY think indents should go. Contrary to popular belief, this does NOT result in more readable code. If you left justify all of your code, at least you can use that as a universal coding standard that everybody has to follow.\n",
    "\n",
    "Below are my recommendations for a SQL style guide. I use and implement these standards everywhere I go.\n",
    "\n",
    "<ol>\n",
    "<li>Left justify your code. Every character of every line should start at column 1 in the editor.</li><br>\n",
    "<li>Capitalize SQL syntax.</li><br>\n",
    "<li>If you have a really long line of code, let it run off the page. Who cares? That’s what the scroll bar is for.</li><br>\n",
    "<li>If you have a lot of columns in your select statement, give each column its own row.</li><br>\n",
    "<li>”Drop if exists” should be a part of every script that creates a permanent database object.</li><br>\n",
    "</ol>\n"
   ]
  },
  {
   "cell_type": "markdown",
   "metadata": {},
   "source": [
    "<h1>Examples</h1>"
   ]
  },
  {
   "cell_type": "markdown",
   "metadata": {},
   "source": [
    "<strong>Old Man Yells At Cloud</strong>\n",
    "\n",
    "Left justify your code. Every character of every line should start at column 1 in the editor. Go back and look! This entire tutorial follows that standard."
   ]
  },
  {
   "cell_type": "code",
   "execution_count": null,
   "metadata": {},
   "outputs": [],
   "source": [
    "USE demo\n",
    "\n",
    "DECLARE @genders TABLE(gender_id INT, gender VARCHAR(20))\n",
    "DECLARE @toys TABLE(toy_id INT, gender_id INT, toy_name VARCHAR(20))\n",
    "\n",
    "INSERT INTO @genders(gender_id, gender)\n",
    "SELECT 1, 'boy'\n",
    "UNION ALL\n",
    "SELECT 2, 'girl'\n",
    "UNION ALL\n",
    "SELECT 3, 'both'\n",
    "\n",
    "INSERT INTO @toys(toy_id, gender_id, toy_name)\n",
    "SELECT 1, 1, 'GI JOE'\n",
    "UNION ALL\n",
    "SELECT 2,2, 'My Little Pony'\n",
    "\n",
    "\n",
    "SELECT g.*,t.toy_name\n",
    "FROM @genders g\n",
    "LEFT OUTER JOIN @toys t\n",
    "ON g.gender_id = t.gender_id and t.toy_name NOT IN\n",
    "('My Little Pony') "
   ]
  },
  {
   "cell_type": "markdown",
   "metadata": {},
   "source": [
    "Capitalize SQL syntax."
   ]
  },
  {
   "cell_type": "code",
   "execution_count": null,
   "metadata": {},
   "outputs": [],
   "source": [
    "USE AdventureWorks2016\n",
    "\n",
    "SELECT PurchaseOrderID, SUM(LineTotal) AS LineTotalSum\n",
    "FROM Purchasing.PurchaseOrderDetail\n",
    "WHERE OrderQty > 100\n",
    "GROUP BY PurchaseOrderID\n",
    "ORDER BY PurchaseOrderID"
   ]
  },
  {
   "cell_type": "markdown",
   "metadata": {},
   "source": [
    "If you have a really long line of code, let it run off the page. Who cares? That’s what the scroll bar is for.\n",
    "\n",
    "Note: This is a contrived example. As you can see, it CLEARLY violates standard 4."
   ]
  },
  {
   "cell_type": "code",
   "execution_count": null,
   "metadata": {},
   "outputs": [],
   "source": [
    "USE AdventureWorks2016\n",
    "\n",
    "SELECT pod.PurchaseOrderID, pod.PurchaseOrderDetailID, pod.DueDate, pod.OrderQty, pod.ProductID, pod.UnitPrice, pod.LineTotal, pod.ReceivedQty, pod.RejectedQty, pod.StockedQty, pod.ModifiedDate, poh.PurchaseOrderID, poh.RevisionNumber, poh.Status, poh.EmployeeID, poh.VendorID, poh.ShipMethodID, poh.OrderDate, poh.ShipDate, poh.SubTotal, poh.TaxAmt, poh.Freight, poh.TotalDue, poh.ModifiedDate\n",
    "FROM Purchasing.PurchaseOrderHeader poh\n",
    "JOIN Purchasing.PurchaseOrderDetail pod\n",
    "ON poh.PurchaseOrderID = pod.PurchaseOrderID"
   ]
  },
  {
   "cell_type": "markdown",
   "metadata": {},
   "source": [
    "If you have a lot of columns in your select statement, give each column its own row."
   ]
  },
  {
   "cell_type": "code",
   "execution_count": null,
   "metadata": {},
   "outputs": [],
   "source": [
    "USE AdventureWorks2016\n",
    "\n",
    "SELECT \n",
    "pod.PurchaseOrderID, \n",
    "pod.PurchaseOrderDetailID, \n",
    "pod.DueDate, \n",
    "pod.OrderQty, \n",
    "pod.ProductID, \n",
    "pod.UnitPrice, \n",
    "pod.LineTotal, \n",
    "pod.ReceivedQty, \n",
    "pod.RejectedQty, \n",
    "pod.StockedQty, \n",
    "pod.ModifiedDate, \n",
    "poh.PurchaseOrderID, \n",
    "poh.RevisionNumber, \n",
    "poh.Status, \n",
    "poh.EmployeeID, \n",
    "poh.VendorID, \n",
    "poh.ShipMethodID, \n",
    "poh.OrderDate, \n",
    "poh.ShipDate, \n",
    "poh.SubTotal, \n",
    "poh.TaxAmt, \n",
    "poh.Freight, \n",
    "poh.TotalDue, \n",
    "poh.ModifiedDate\n",
    "FROM Purchasing.PurchaseOrderHeader poh\n",
    "JOIN Purchasing.PurchaseOrderDetail pod\n",
    "ON poh.PurchaseOrderID = pod.PurchaseOrderID"
   ]
  },
  {
   "cell_type": "markdown",
   "metadata": {},
   "source": [
    "”Drop if exists” should be a part of every script that creates a permanent database object."
   ]
  },
  {
   "cell_type": "code",
   "execution_count": null,
   "metadata": {},
   "outputs": [],
   "source": [
    "USE AdventureWorks2016\n",
    "\n",
    "DROP PROCEDURE IF EXISTS dbo.usp_NoCountExample\n",
    "GO\n",
    "\n",
    "CREATE PROCEDURE dbo.usp_NoCountExample\n",
    "\n",
    "AS\n",
    "BEGIN\n",
    "\n",
    "SET NOCOUNT ON;\n",
    "\n",
    "SELECT *\n",
    "FROM Sales.SalesOrderHeader soh\n",
    "JOIN Sales.SalesOrderDetail sod\n",
    "ON soh.SalesOrderID = sod.SalesOrderID\n",
    "WHERE 1 = 1\n",
    "\n",
    "SET NOCOUNT OFF;\n",
    "\n",
    "END;\n",
    "GO"
   ]
  },
  {
   "cell_type": "markdown",
   "metadata": {},
   "source": [
    "Copyright © 2020, Mass Street Analytics, LLC. All Rights Reserved."
   ]
  }
 ],
 "metadata": {
  "kernelspec": {
   "display_name": "Python 3",
   "language": "python",
   "name": "python3"
  },
  "language_info": {
   "codemirror_mode": {
    "name": "ipython",
    "version": 3
   },
   "file_extension": ".py",
   "mimetype": "text/x-python",
   "name": "python",
   "nbconvert_exporter": "python",
   "pygments_lexer": "ipython3",
   "version": "3.7.3"
  }
 },
 "nbformat": 4,
 "nbformat_minor": 2
}
