{
 "cells": [
  {
   "cell_type": "markdown",
   "metadata": {},
   "source": [
    "<a href=\"https://massstreetuniversity.com/\"><img src=\"https://tutorials.massstreetuniversity.com/images/logo.png\" alt=\"School Logo\"></a><br><br><br>\n",
    "<a href=\"http://tutorials.massstreetuniversity.com/transact-sql/\">Tutorial Home</a> | <a href=\"https://tutorials.massstreetuniversity.com/transact-sql/solutions/boost-performance.html\">Previous</a> | <a href=\"https://tutorials.massstreetuniversity.com/transact-sql/solutions/default-column-values.html\">Next</a>"
   ]
  },
  {
   "cell_type": "markdown",
   "metadata": {},
   "source": [
    "<h1>Lesson 50. Setting Up Queries For Ablation Testing</h1>"
   ]
  },
  {
   "cell_type": "markdown",
   "metadata": {},
   "source": [
    "Sometimes you write a complex SQL statement that doesn’t work, and you do not know why. The best way to figure out what is wrong is by ablation testing.\n",
    "\n",
    "Ablation testing is where you turn things off until you isolate the problem. In the case of SQL queries, this involves commenting out lines of a complex WHERE clause (or JOIN) until you find the thing that is not working as designed.\n",
    "\n",
    "However, if your WHERE clause starts with a filter, you have to move it so you can comment it out. If you start your WHERE clause with 1 = 1, which is always true, then you preserve syntax and can easily comment out your filters without having to rewrite your code.\n",
    "\n",
    "No matter how simple your SQL statement is, I recommend that you get in the habit of creating ablation testing ready SQL statements."
   ]
  },
  {
   "cell_type": "markdown",
   "metadata": {},
   "source": [
    "<h1>Examples</h1>"
   ]
  },
  {
   "cell_type": "markdown",
   "metadata": {},
   "source": [
    "<strong>Basic Setup</strong>"
   ]
  },
  {
   "cell_type": "code",
   "execution_count": null,
   "metadata": {},
   "outputs": [],
   "source": [
    "USE AdventureWorks2016\n",
    "\n",
    "SELECT *\n",
    "FROM Sales.SalesOrderHeader soh\n",
    "JOIN Sales.SalesOrderDetail sod\n",
    "ON soh.SalesOrderID = sod.SalesOrderID\n",
    "WHERE 1 = 1"
   ]
  },
  {
   "cell_type": "markdown",
   "metadata": {},
   "source": [
    "<strong>An Example Of Ablation Testing</strong>\n",
    "\n",
    "Here we suspect that two lines in the WHERE clause are causing our query to act up."
   ]
  },
  {
   "cell_type": "code",
   "execution_count": null,
   "metadata": {},
   "outputs": [],
   "source": [
    "USE AdventureWorks2016\n",
    "\n",
    "SELECT\n",
    "CONCAT(p.FirstName, ' ',p.LastName) AS SalesPerson,\n",
    "DATEPART(month,soh.OrderDate) AS MonthOfSale,\n",
    "SUM(sod.LineTotal) AS TotalSales\n",
    "FROM Person.Person p\n",
    "JOIN Sales.SalesPerson sp\n",
    "ON p.BusinessEntityID = sp.BusinessEntityID\n",
    "JOIN Sales.SalesOrderHeader soh\n",
    "ON sp.BusinessEntityID = soh.SalesPersonID\n",
    "JOIN Sales.SalesOrderDetail sod\n",
    "ON soh.SalesOrderID = sod.SalesOrderDetailID\n",
    "WHERE 1 = 1\n",
    "AND sp.Bonus BETWEEN 3000.00 AND 6000.00\n",
    "--AND sp.SalesYTD >= 2000000.00\n",
    "--AND sod.UnitPrice < 2000\n",
    "AND (YEAR(soh.OrderDate) BETWEEN 2014 AND 2013 OR YEAR(soh.OrderDate) = 2011)\n",
    "GROUP BY p.LastName, p.FirstName, DATEPART(month,soh.OrderDate)\n",
    "ORDER BY p.LastName, p.FirstName, DATEPART(month,soh.OrderDate)"
   ]
  },
  {
   "cell_type": "markdown",
   "metadata": {},
   "source": [
    "Copyright © 2020, Mass Street Analytics, LLC. All Rights Reserved."
   ]
  }
 ],
 "metadata": {
  "kernelspec": {
   "display_name": "Python 3",
   "language": "python",
   "name": "python3"
  },
  "language_info": {
   "codemirror_mode": {
    "name": "ipython",
    "version": 3
   },
   "file_extension": ".py",
   "mimetype": "text/x-python",
   "name": "python",
   "nbconvert_exporter": "python",
   "pygments_lexer": "ipython3",
   "version": "3.7.3"
  }
 },
 "nbformat": 4,
 "nbformat_minor": 2
}
