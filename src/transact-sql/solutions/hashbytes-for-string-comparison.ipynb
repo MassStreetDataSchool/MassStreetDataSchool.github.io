{
 "cells": [
  {
   "cell_type": "markdown",
   "metadata": {},
   "source": [
    "<a href=\"https://massstreetuniversity.com/\"><img src=\"https://tutorials.massstreetuniversity.com/images/logo.png\" alt=\"School Logo\"></a><br><br><br>\n",
    "<a href=\"http://tutorials.massstreetuniversity.com/transact-sql/\">Tutorial Home</a> | <a href=\"https://tutorials.massstreetuniversity.com/transact-sql/solutions/where-clause-deep-dive.html\">Previous</a> | <a href=\"https://tutorials.massstreetuniversity.com/transact-sql/solutions/hashing-multiple-columns.html\">Next</a>"
   ]
  },
  {
   "cell_type": "markdown",
   "metadata": {},
   "source": [
    "<h1>Lesson 63. Using HASHBYTES() To Compare Character Strings</h1>"
   ]
  },
  {
   "cell_type": "markdown",
   "metadata": {},
   "source": [
    "If you have to compare string values on a regular basis, and especially if you have to compare more than one column at a time, instead of comparing the columns directly, hash the columns first. Hashing creates a string based on the encryption algorithm you select. You can pass in concatenated string values. The ultimate benefit is that all the algorithms generate a value that is a set number of characters. This comes in handy for storing this value when it comes time for loading junk dimensions into data warehouses.\n",
    "\n",
    "You cannot use HASHBYTES() on NVARCHAR(MAX) in SQL Server. HASHBYTES has a 4,000-character limit for NVARCHAR. Technically, you can get around this programmatically, but if your data is longer than 4,000 characters, I’d suggest looking for another way to identify the record."
   ]
  },
  {
   "cell_type": "markdown",
   "metadata": {},
   "source": [
    "<h1>Examples</h1>"
   ]
  },
  {
   "cell_type": "markdown",
   "metadata": {},
   "source": [
    "<strong>A Walk Through Of The Problem And Solution</strong>\n",
    "\n",
    "Here is a demonstration that shows no matter how big the string is, HASHBYTES() algos always resolve to the same number of characters."
   ]
  },
  {
   "cell_type": "code",
   "execution_count": null,
   "metadata": {},
   "outputs": [],
   "source": [
    "USE demo\n",
    "\n",
    "DECLARE @Statement1 NVARCHAR(255)\n",
    "DECLARE @Statement2 NVARCHAR(255)\n",
    "\n",
    "SET @Statement1 = 'Army And Navy Play For Second'\n",
    "SET @Statement2 = 'Rock Chalk Jayhawk'\n",
    "\n",
    "PRINT LEN(@Statement1)\n",
    "PRINT LEN(@Statement2)\n",
    "\n",
    "PRINT HASHBYTES('MD5', @Statement1)\n",
    "PRINT HASHBYTES('MD5', @Statement2)\n",
    "\n",
    "PRINT LEN(HASHBYTES('MD5', @Statement1))\n",
    "PRINT LEN(HASHBYTES('MD5', @Statement2))"
   ]
  },
  {
   "cell_type": "markdown",
   "metadata": {},
   "source": [
    "Now let us see how you can use this to compare string values. This assumes the database is using a case sensitive collation.\n",
    "\n",
    "As you can see, WalMart and walmart do not hash the same so they are different values. This is a toy example, but you can see how comparing a hash is a lot more efficient than comparing the raw string values."
   ]
  },
  {
   "cell_type": "code",
   "execution_count": null,
   "metadata": {},
   "outputs": [],
   "source": [
    "USE demo\n",
    "\n",
    "DECLARE @Statement1 NVARCHAR(255)\n",
    "DECLARE @Statement2 NVARCHAR(255)\n",
    "\n",
    "SET @Statement1 = 'WalMart'\n",
    "SET @Statement2 = 'walmart'\n",
    "\n",
    "\n",
    "PRINT HASHBYTES('MD5', @Statement1) --0xDE2E98EE55B1B249B711300DE7047C75\n",
    "PRINT HASHBYTES('MD5', @Statement2) --0xC48604C9A656E09D87E99B820499D430"
   ]
  },
  {
   "cell_type": "markdown",
   "metadata": {},
   "source": [
    "Copyright © 2020, Mass Street Analytics, LLC. All Rights Reserved."
   ]
  }
 ],
 "metadata": {
  "kernelspec": {
   "display_name": "Python 3",
   "language": "python",
   "name": "python3"
  },
  "language_info": {
   "codemirror_mode": {
    "name": "ipython",
    "version": 3
   },
   "file_extension": ".py",
   "mimetype": "text/x-python",
   "name": "python",
   "nbconvert_exporter": "python",
   "pygments_lexer": "ipython3",
   "version": "3.7.3"
  }
 },
 "nbformat": 4,
 "nbformat_minor": 2
}
