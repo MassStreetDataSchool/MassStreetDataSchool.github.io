{
 "cells": [
  {
   "cell_type": "markdown",
   "metadata": {},
   "source": [
    "<a href=\"https://massstreetuniversity.com/\"><img src=\"http://tutorials.massstreetuniversity.com/images/logo.png\" alt=\"School Logo\"></a><br><br><br>\n",
    "<a href=\"http://tutorials.massstreetuniversity.com/transact-sql/\">Tutorial Home</a>"
   ]
  },
  {
   "cell_type": "markdown",
   "metadata": {},
   "source": [
    "<h1>How To Pivot Data With T-SQL When Columns Are Not Predefined</h1>"
   ]
  },
  {
   "cell_type": "markdown",
   "metadata": {},
   "source": [
    "The PIVOT function is great. Until you find out that the function demands to know the column names prior to running the query. \n",
    "\n",
    "WACK! That's wack. \n",
    "\n",
    "When does that even happen in the real world?! Never. That's not how this works. That's not how any of this works.\n",
    "\n",
    "Fortunately, there is a solution that utilizes some dynamic SQL and the deep magic."
   ]
  },
  {
   "cell_type": "markdown",
   "metadata": {},
   "source": [
    "<strong>Examples</strong>"
   ]
  },
  {
   "cell_type": "markdown",
   "metadata": {},
   "source": [
    "So picture this exchange.\n",
    "\n",
    "Accountant: Hey Bob, I need some data.\n",
    "\n",
    "Me: Yo dawg! I'm your hook up! I'm about to HOOK you UP! What you want what you need dawg?\n",
    "\n",
    "Accountant: I need to see the sales of all salespeople by month from the beginning of time.\n",
    "\n",
    "Me: (*sucks teeth*) Man dawg that ain't nothing! I got you fam!\n",
    "\n",
    "Accountant: Ok but I need to see it with people in rows and months as column headers.\n",
    "\n",
    "Me: .....For real dawg?!\n",
    "\n",
    "Unfortunately, this story is only partially made up. I don't really talk like this, but the request for the shape of his data totally happened. \n",
    "\n",
    "But hey. This is business analytics. We're ALL about some customer service. So we gives the people what they wants!\n",
    "\n",
    "A lot of this code is magic that I can't explain. I just keep this query handy and alter it every time I need to do this. The key thing is to identify which column from your source data is going to wind up as column headers. The rest is just hitting F5 and praying."
   ]
  },
  {
   "cell_type": "code",
   "execution_count": null,
   "metadata": {},
   "outputs": [],
   "source": [
    "USE AdventureWorks2016\n",
    "\n",
    "DECLARE @cols AS NVARCHAR(MAX)\n",
    "DECLARE @query  AS NVARCHAR(MAX)\n",
    "\n",
    "DROP TABLE IF EXISTS #SalesReport\n",
    "\n",
    "CREATE TABLE #SalesReport ([SalesPerson] NVARCHAR(50), [MonthOfSale] TINYINT, [TotalSales] MONEY)\n",
    ";\n",
    "\n",
    "\n",
    "INSERT INTO #SalesReport ([SalesPerson], [MonthOfSale], [TotalSales])\n",
    "SELECT\n",
    "CONCAT(p.FirstName, ' ',p.LastName) AS SalesPerson,\n",
    "DATEPART(month,soh.OrderDate) AS MonthOfSale,\n",
    "SUM(sod.LineTotal) AS TotalSales\n",
    "FROM Person.Person p\n",
    "JOIN [Sales].[SalesPerson] sp\n",
    "ON p.BusinessEntityID = sp.BusinessEntityID\n",
    "JOIN [Sales].[SalesOrderHeader] soh\n",
    "ON sp.BusinessEntityID = soh.SalesPersonID\n",
    "JOIN [Sales].[SalesOrderDetail] sod\n",
    "ON soh.SalesOrderID = sod.SalesOrderDetailID\n",
    "GROUP BY p.LastName, p.FirstName, DATEPART(month,soh.OrderDate)\n",
    "ORDER BY p.LastName, p.FirstName, DATEPART(month,soh.OrderDate)\n",
    ";\n",
    "\n",
    "\n",
    "select @cols = STUFF((SELECT distinct ',' + QUOTENAME([MonthOfSale]) \n",
    "                    from #SalesReport\n",
    "            FOR XML PATH(''), TYPE\n",
    "            ).value('.', 'NVARCHAR(MAX)') \n",
    "        ,1,1,'')\n",
    "\n",
    "set @query = 'SELECT [SalesPerson], ' + @cols + ' from \n",
    "             (\n",
    "                select [SalesPerson], [MonthOfSale], [TotalSales]\n",
    "                from #SalesReport\n",
    "            ) x\n",
    "            pivot \n",
    "            (\n",
    "                min([TotalSales])\n",
    "                for [MonthOfSale] in (' + @cols + ')\n",
    "            ) p '\n",
    "\n",
    "execute(@query)\n",
    "\n",
    "DROP TABLE #SalesReport"
   ]
  },
  {
   "cell_type": "markdown",
   "metadata": {},
   "source": [
    "Copyright © 2020, Mass Street Analytics, LLC. All Rights Reserved."
   ]
  }
 ],
 "metadata": {
  "kernelspec": {
   "display_name": "Python 3",
   "language": "python",
   "name": "python3"
  },
  "language_info": {
   "codemirror_mode": {
    "name": "ipython",
    "version": 3
   },
   "file_extension": ".py",
   "mimetype": "text/x-python",
   "name": "python",
   "nbconvert_exporter": "python",
   "pygments_lexer": "ipython3",
   "version": "3.7.3"
  }
 },
 "nbformat": 4,
 "nbformat_minor": 2
}
