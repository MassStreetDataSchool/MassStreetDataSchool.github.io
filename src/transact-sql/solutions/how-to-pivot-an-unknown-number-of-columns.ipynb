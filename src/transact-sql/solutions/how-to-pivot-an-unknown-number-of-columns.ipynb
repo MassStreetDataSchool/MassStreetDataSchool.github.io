{
 "cells": [
  {
   "cell_type": "markdown",
   "metadata": {},
   "source": [
    "<a href=\"https://massstreetuniversity.com/\"><img src=\"https://tutorials.massstreetuniversity.com/images/logo.png\" alt=\"School Logo\"></a><br><br><br>\n",
    "<a href=\"http://tutorials.massstreetuniversity.com/transact-sql/\">Tutorial Home</a> | <a href=\"https://tutorials.massstreetuniversity.com/transact-sql/solutions/data-warehouse-standup.html\">Previous</a> | <a href=\"https://tutorials.massstreetuniversity.com/transact-sql/solutions/prepopulating-a-junk-dimension.html\">Next</a>"
   ]
  },
  {
   "cell_type": "markdown",
   "metadata": {},
   "source": [
    "<h1>Lesson 67. How To Pivot Data With T-SQL When Columns Are Not Predefined</h1>"
   ]
  },
  {
   "cell_type": "markdown",
   "metadata": {},
   "source": [
    "The PIVOT function is great. Until you find out that the function demands to know the column names prior to running the query. \n",
    "\n",
    "WACK! That's wack. \n",
    "\n",
    "When does that even happen in the real world?! Never. That's not how this works. That's not how any of this works.\n",
    "\n",
    "Fortunately, there is a solution that utilizes some dynamic SQL and the deep magic.\n",
    "\n",
    "So, picture this exchange.\n",
    "\n",
    "Accountant: Hey Bob, I need some data.\n",
    "\n",
    "Me: Yo dawg! I'm your hook up! I'm about to HOOK you UP! What you want what you need dawg?\n",
    "\n",
    "Accountant: I need to see the sales of all salespeople by month from the beginning of time.\n",
    "\n",
    "Me: (*sucks teeth*) Man dawg that ain't nothing! I got you fam!\n",
    "\n",
    "Accountant: Ok but I need to see it with people in rows and months as column headers.\n",
    "\n",
    "Me: .....For real dawg?!\n",
    "\n",
    "Unfortunately, this story is only partially made up. I don't really talk like this, but the request for the shape of his data totally happened. \n",
    "\n",
    "But hey. This is business analytics. We're ALL about some customer service. So, we gives the people what they wants!\n",
    "\n",
    "Some of this code is magic that I can't explain and that’s fine. I can use it, that’s what matters. I just keep this query handy and alter it every time I need to do this. \n",
    "Most of it is straight forward SQL. It’s the end that gets weird. We’re going to take all the possible columns and STUFF them into a variable using XML PATH. Then we are going to build our dynamic statement. Most of the code there should be familiar from the standard PIVOT example. The only difference is the columns variable is providing the columns instead of a hard coded value."
   ]
  },
  {
   "cell_type": "markdown",
   "metadata": {},
   "source": [
    "<h1>Examples</h1>"
   ]
  },
  {
   "cell_type": "markdown",
   "metadata": {},
   "source": [
    "<strong>How To Use This Example</strong>\n",
    "\n",
    "Create a SQL statement with columns in the form of y, x, z where:\n",
    "\n",
    "y = the values that you want to see in rows<br>\n",
    "x = the values that you want to see in columns<br>\n",
    "z = the value that you want to see at the intersection of x and y coordinates<br>\n",
    "\n",
    "Alter the temp table schema to fit the column name and data type of your SQL statement.\n",
    "\n",
    "Alter the rest of the query so column and table names are correct.\n",
    "\n",
    "Alter the rest of the query to suit your use case."
   ]
  },
  {
   "cell_type": "code",
   "execution_count": null,
   "metadata": {},
   "outputs": [],
   "source": [
    "USE AdventureWorks2016\n",
    "\n",
    "DECLARE @columns AS NVARCHAR(MAX)\n",
    "DECLARE @sql  AS NVARCHAR(MAX)\n",
    "\n",
    "DROP TABLE IF EXISTS #SalesReport\n",
    "\n",
    "--We turn month of sale into an string value so we can add a leading zero later.\n",
    "CREATE TABLE #SalesReport (SalesPerson NVARCHAR(50), MonthOfSale NVARCHAR(2), TotalSales MONEY)\n",
    ";\n",
    "\n",
    "\n",
    "INSERT INTO #SalesReport (SalesPerson, MonthOfSale, TotalSales)\n",
    "SELECT\n",
    "CONCAT(p.FirstName, ' ',p.LastName) AS SalesPerson,\n",
    "DATEPART(month,soh.OrderDate) AS MonthOfSale,\n",
    "SUM(sod.LineTotal) AS TotalSales\n",
    "FROM Person.Person p\n",
    "JOIN Sales.SalesPerson sp\n",
    "ON p.BusinessEntityID = sp.BusinessEntityID\n",
    "JOIN Sales.SalesOrderHeader soh\n",
    "ON sp.BusinessEntityID = soh.SalesPersonID\n",
    "JOIN Sales.SalesOrderDetail sod\n",
    "ON soh.SalesOrderID = sod.SalesOrderDetailID\n",
    "GROUP BY p.LastName, p.FirstName, DATEPART(month,soh.OrderDate)\n",
    "ORDER BY p.LastName, p.FirstName, DATEPART(month,soh.OrderDate)\n",
    ";\n",
    "\n",
    "--Add the leading zero so the output goes from Jan to December.\n",
    "UPDATE #SalesReport\n",
    "SET MonthOfSale =\n",
    "CASE\n",
    "WHEN LEN(MonthOfSale) = 1 THEN '0'+ MonthOfSale\n",
    "ELSE MonthOfSale\n",
    "END\n",
    "\n",
    "\n",
    "SELECT @columns = STUFF(\n",
    "(\n",
    "SELECT DISTINCT ',' + QUOTENAME(MonthOfSale) \n",
    "FROM #SalesReport\n",
    "FOR XML PATH(''), TYPE\n",
    ").value('.', 'NVARCHAR(MAX)'),1,1,''\n",
    ")\n",
    "\n",
    "SET @sql = 'SELECT SalesPerson, ' + @columns + ' FROM\n",
    "(\n",
    "SELECT SalesPerson, MonthOfSale, TotalSales\n",
    "FROM #SalesReport\n",
    ") x\n",
    "PIVOT \n",
    "(\n",
    "MIN(TotalSales)\n",
    "FOR MonthOfSale IN (' + @columns + ')\n",
    ") y '\n",
    "\n",
    "execute(@sql)\n",
    "\n",
    "DROP TABLE #SalesReport"
   ]
  },
  {
   "cell_type": "markdown",
   "metadata": {},
   "source": [
    "Copyright © 2020, Mass Street Analytics, LLC. All Rights Reserved."
   ]
  }
 ],
 "metadata": {
  "kernelspec": {
   "display_name": "Python 3",
   "language": "python",
   "name": "python3"
  },
  "language_info": {
   "codemirror_mode": {
    "name": "ipython",
    "version": 3
   },
   "file_extension": ".py",
   "mimetype": "text/x-python",
   "name": "python",
   "nbconvert_exporter": "python",
   "pygments_lexer": "ipython3",
   "version": "3.7.3"
  }
 },
 "nbformat": 4,
 "nbformat_minor": 2
}
