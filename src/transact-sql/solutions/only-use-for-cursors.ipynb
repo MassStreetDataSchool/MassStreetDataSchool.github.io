{
 "cells": [
  {
   "cell_type": "markdown",
   "metadata": {},
   "source": [
    "<a href=\"https://massstreetuniversity.com/\"><img src=\"https://tutorials.massstreetuniversity.com/images/logo.png\" alt=\"School Logo\"></a><br><br><br>\n",
    "<a href=\"http://tutorials.massstreetuniversity.com/transact-sql/\">Tutorial Home</a> | <a href=\"https://tutorials.massstreetuniversity.com/transact-sql/solutions/load-large-files.html\">Previous</a> | <a href=\"https://tutorials.massstreetuniversity.com/transact-sql/solutions/load-typeII-dimension.html\">Next</a>"
   ]
  },
  {
   "cell_type": "markdown",
   "metadata": {},
   "source": [
    "<h1>Lesson 58. The Only Bloody Good Reason To Use Cursors</h1>\n",
    "\n",
    "<h1>(AKA Moving Large Amounts Of Data Between Tables)</h1>"
   ]
  },
  {
   "cell_type": "markdown",
   "metadata": {},
   "source": [
    "In general, cursors are the devil. They are slow. They are from a processing paradigm of a bygone era. You should be focusing on developing set-based solutions and not loops.\n",
    "\n",
    "However,  cursors can be useful for loading large amounts of data. I am talking about loads that take hours where, if the load fails, it will take even more hours to unwind. \n",
    "\n",
    "In this case, you can use cursors to commit batches of data and create checkpoints in your load process. Below is an example of how to do this."
   ]
  },
  {
   "cell_type": "markdown",
   "metadata": {},
   "source": [
    "<h1>Examples</h1>"
   ]
  },
  {
   "cell_type": "markdown",
   "metadata": {},
   "source": [
    "<strong>Comprehensive Cursor Example</strong>\n",
    "\n",
    "Below is a comprehensive example of how to load a lot of data with a cursor. We are going to use the sample dataset \"Flights Table From the nycflights13 Dataset\". \n",
    "\n",
    "The file is about 30MB. Not large by today's standard, but large enough that you get the idea."
   ]
  },
  {
   "cell_type": "code",
   "execution_count": null,
   "metadata": {},
   "outputs": [],
   "source": [
    "USE demo\n",
    "\n",
    "DECLARE @Year INT\n",
    "DECLARE @Month INT\n",
    "DECLARE @i INT = 1\n",
    "\n",
    "DROP TABLE IF EXISTS FlightsStaging\n",
    "DROP TABLE IF EXISTS SelectFlightData\n",
    "\n",
    "CREATE TABLE FlightsStaging(\n",
    "year NVARCHAR(255) NULL,\n",
    "month NVARCHAR(255) NULL,\n",
    "day NVARCHAR(255) NULL,\n",
    "dep_time NVARCHAR(255) NULL,\n",
    "sched_dep_time NVARCHAR(255) NULL,\n",
    "dep_delay NVARCHAR(255) NULL,\n",
    "arr_time NVARCHAR(255) NULL,\n",
    "sched_arr_time NVARCHAR(255) NULL,\n",
    "arr_delay NVARCHAR(255) NULL,\n",
    "carrier NVARCHAR(255) NULL,\n",
    "flight NVARCHAR(255) NULL,\n",
    "tailnum NVARCHAR(255) NULL,\n",
    "origin NVARCHAR(255) NULL,\n",
    "dest NVARCHAR(255) NULL,\n",
    "air_time NVARCHAR(255) NULL,\n",
    "distance NVARCHAR(255) NULL,\n",
    "hour NVARCHAR(255) NULL,\n",
    "minute NVARCHAR(255) NULL,\n",
    "time_hour NVARCHAR(255) NULL,\n",
    ")\n",
    "\n",
    "CREATE TABLE SelectFlightData(\n",
    "carrier NVARCHAR(255) NULL,\n",
    "flight NVARCHAR(255) NULL,\n",
    "tailnum NVARCHAR(255) NULL,\n",
    "BatchLoadNumber TINYINT NULL,\n",
    ")\n",
    "\n",
    "BULK INSERT FlightsStaging\n",
    "FROM 'E:\\flights.csv'\n",
    "WITH (\n",
    "FIELDTERMINATOR = ',',\n",
    "ROWTERMINATOR = '0x0a',\n",
    "FIRSTROW = 2\n",
    ");\n",
    "\n",
    "DECLARE BatchingCursor CURSOR FOR\n",
    "SELECT DISTINCT year, month\n",
    "FROM FlightsStaging\n",
    "\n",
    "OPEN BatchingCursor;\n",
    "FETCH NEXT FROM BatchingCursor INTO @Year, @Month;\n",
    "WHILE @@FETCH_STATUS = 0\n",
    "BEGIN\n",
    "\n",
    "BEGIN TRANSACTION\n",
    "INSERT INTO SelectFlightData(carrier, flight, tailnum, BatchLoadNumber)\n",
    "SELECT carrier, flight, tailnum, @i\n",
    "FROM FlightsStaging\n",
    "WHERE year = @Year AND month = @Month     \n",
    "COMMIT TRANSACTION\n",
    "\n",
    "SET @i = @i + 1\n",
    "\n",
    "FETCH NEXT FROM BatchingCursor INTO @Year, @Month;\n",
    "END;\n",
    "CLOSE BatchingCursor;\n",
    "DEALLOCATE BatchingCursor;\n",
    "GO\n",
    "\n",
    "SELECT *\n",
    "FROM SelectFlightData\n",
    "\n",
    "SELECT BatchLoadNumber, COUNT(BatchLoadNumber) AS NumberOfRecordsLoadedInBatch\n",
    "FROM SelectFlightData\n",
    "GROUP BY BatchLoadNumber\n",
    "ORDER BY BatchLoadNumber\n",
    "\n",
    "DROP TABLE FlightsStaging\n",
    "DROP TABLE SelectFlightData"
   ]
  },
  {
   "cell_type": "markdown",
   "metadata": {},
   "source": [
    "Copyright © 2020, Mass Street Analytics, LLC. All Rights Reserved."
   ]
  }
 ],
 "metadata": {
  "kernelspec": {
   "display_name": "Python 3",
   "language": "python",
   "name": "python3"
  },
  "language_info": {
   "codemirror_mode": {
    "name": "ipython",
    "version": 3
   },
   "file_extension": ".py",
   "mimetype": "text/x-python",
   "name": "python",
   "nbconvert_exporter": "python",
   "pygments_lexer": "ipython3",
   "version": "3.7.3"
  }
 },
 "nbformat": 4,
 "nbformat_minor": 2
}
