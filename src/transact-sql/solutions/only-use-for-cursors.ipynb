{
 "cells": [
  {
   "cell_type": "markdown",
   "metadata": {},
   "source": [
    "<a href=\"https://massstreetuniversity.com/\"><img src=\"http://tutorials.massstreetuniversity.com/images/logo.png\" alt=\"School Logo\"></a><br><br><br>\n",
    "<a href=\"http://tutorials.massstreetuniversity.com/transact-sql/\">Tutorial Home</a>"
   ]
  },
  {
   "cell_type": "markdown",
   "metadata": {},
   "source": [
    "<h1>The Only Bloody Good Reason To Use Cursors</h1>\n",
    "\n",
    "<h1>(AKA Moving Large Amounts Of Data Between Tables)</h1>"
   ]
  },
  {
   "cell_type": "markdown",
   "metadata": {},
   "source": [
    "In general, cursors are the devil. They are slow. They are from a processing paradigm of a bygone era. You should be focusing on developing set-based solutions and not loops.\n",
    "\n",
    "However,  cursors can be useful for loading large amounts of data. I am talking about loads that take hours where, if the load fails, it will take even more hours to unwind. \n",
    "\n",
    "In this case, you can use cursors to commit batches of data and create checkpoints in your load process. Below is an example of how to do this."
   ]
  },
  {
   "cell_type": "code",
   "execution_count": null,
   "metadata": {},
   "outputs": [],
   "source": [
    "--Split a batch up into chunks using a cursor.\n",
    "--This method can be used for most any large table with some modifications\n",
    "--It could also be refined further with an @Day variable (for example)\n",
    "--This is for the case where you already have the data in a table\n",
    "--and are ready to process it. Obviously, if you have a large flat file,\n",
    "--you can just use BULK INSERT.\n",
    "\n",
    "DECLARE @Year INT\n",
    "DECLARE @Month INT\n",
    "\n",
    "DECLARE BatchingCursor CURSOR FOR\n",
    "SELECT DISTINCT YEAR([SomeDateField]),MONTH([SomeDateField])\n",
    "FROM [Sometable];\n",
    "\n",
    "\n",
    "OPEN BatchingCursor;\n",
    "FETCH NEXT FROM BatchingCursor INTO @Year, @Month;\n",
    "WHILE @@FETCH_STATUS = 0\n",
    "BEGIN\n",
    "\n",
    "BEGIN TRANSACTION\n",
    "--All logic goes in here\n",
    "--Any select statements from [Sometable] need to be suffixed with:\n",
    "--WHERE Year([SomeDateField])=@Year AND Month([SomeDateField])=@Month   \n",
    "COMMIT TRANSACTION\n",
    "\n",
    "FETCH NEXT FROM BatchingCursor INTO @Year, @Month;\n",
    "END;\n",
    "CLOSE BatchingCursor;\n",
    "DEALLOCATE BatchingCursor;\n",
    "GO\n"
   ]
  },
  {
   "cell_type": "markdown",
   "metadata": {},
   "source": [
    "Copyright © 2020, Mass Street Analytics, LLC. All Rights Reserved."
   ]
  }
 ],
 "metadata": {
  "kernelspec": {
   "display_name": "Python 3",
   "language": "python",
   "name": "python3"
  },
  "language_info": {
   "codemirror_mode": {
    "name": "ipython",
    "version": 3
   },
   "file_extension": ".py",
   "mimetype": "text/x-python",
   "name": "python",
   "nbconvert_exporter": "python",
   "pygments_lexer": "ipython3",
   "version": "3.7.3"
  }
 },
 "nbformat": 4,
 "nbformat_minor": 2
}
