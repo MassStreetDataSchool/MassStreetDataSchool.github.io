{
 "cells": [
  {
   "cell_type": "markdown",
   "metadata": {},
   "source": [
    "<a href=\"https://massstreetuniversity.com/\"><img src=\"https://tutorials.massstreetuniversity.com/images/logo.png\" alt=\"School Logo\"></a><br><br><br>\n",
    "<a href=\"http://tutorials.massstreetuniversity.com/transact-sql/\">Tutorial Home</a> | <a href=\"https://tutorials.massstreetuniversity.com/transact-sql/solutions/clustered-index.html\">Previous</a> | <a href=\"https://tutorials.massstreetuniversity.com/transact-sql/solutions/notification-emails.html\">Next</a>"
   ]
  },
  {
   "cell_type": "markdown",
   "metadata": {},
   "source": [
    "<h1>Lesson 54. Converting Dates To YYYYMMDD</h1>"
   ]
  },
  {
   "cell_type": "markdown",
   "metadata": {},
   "source": [
    "The primary key of DimDate should be an INT value that is a YYYYMMDD representation of the date that row represents. Since dates rarely come into the data warehouse in this format, you will need to convert them.\n",
    "\n",
    "Below is a function that allows you to clean dates to the YYYYMMDD format. This function is for processing warehouse data but can be repurposed."
   ]
  },
  {
   "cell_type": "markdown",
   "metadata": {},
   "source": [
    "<h1>Examples</h1>"
   ]
  },
  {
   "cell_type": "markdown",
   "metadata": {},
   "source": [
    "<strong>Convert Date UDF</strong>"
   ]
  },
  {
   "cell_type": "code",
   "execution_count": null,
   "metadata": {},
   "outputs": [],
   "source": [
    "/*\n",
    "Author: Bob Wakefield\n",
    "Create date: 17Jun18\n",
    "Description: Clean dates to conform with DimDateCK\n",
    "*/\n",
    "\n",
    "/*\n",
    "Directions for use. \n",
    "1. Set @EmptyRecordCode and @ErrorDateCode to the values appropriate to your system. \n",
    "2. Find and replace YourDatabase.YourSchema.DimDate with the name of your data warehouse\n",
    "and the schema that it lives in.\n",
    "*/\n",
    "\n",
    "USE demo\n",
    "\n",
    "GO\n",
    "\n",
    "DROP FUNCTION IF EXISTS udf_CleanDate\n",
    "\n",
    "GO\n",
    "\n",
    "CREATE FUNCTION udf_CleanDate(@DATE NVARCHAR(255))\n",
    "\n",
    "RETURNS NCHAR(8)\n",
    "\n",
    "AS\n",
    "\n",
    "BEGIN\n",
    "\n",
    "DECLARE @MinDate DATE\n",
    "DECLARE @MaxDate DATE\n",
    "DECLARE @EmptyRecordCode BIGINT = 00000000\n",
    "DECLARE @ErrorDateCode BIGINT = 11111111\n",
    "\n",
    "SELECT @MaxDate = CAST(MAX(DateCK) AS NCHAR(8))\n",
    "FROM YourDatabase.YourSchema.DimDate\n",
    "WHERE DateCK NOT IN (@EmptyRecordCode,@ErrorDateCode)\n",
    "\n",
    "SELECT @MinDate = CAST(MIN(DateCK) AS NCHAR(8))\n",
    "FROM YourDatabase.YourSchema.DimDate\n",
    "WHERE DateCK NOT IN (@EmptyRecordCode,@ErrorDateCode)\n",
    "\n",
    "\n",
    "--Set empty dates to the empty field code\n",
    "--This HAS to be done before you check for\n",
    "--bad dates. Then Set error dates to the error field code.\n",
    "--Finally, clean up the dates to conform to DimDateCK format.\n",
    "\n",
    "RETURN\n",
    "CASE \n",
    "WHEN @Date IS NULL THEN  @EmptyRecordCode\n",
    "WHEN ISDATE(@Date) = 0 THEN  @ErrorDateCode\n",
    "WHEN @Date < @MinDate THEN  @ErrorDateCode\n",
    "WHEN @Date > @MaxDate THEN  @ErrorDateCode\n",
    "ELSE CONVERT(VARCHAR(10),CAST(@Date AS DATE),112)\n",
    "END\n",
    "\n",
    "\n",
    "END"
   ]
  },
  {
   "cell_type": "markdown",
   "metadata": {},
   "source": [
    "Copyright © 2020, Mass Street Analytics, LLC. All Rights Reserved."
   ]
  }
 ],
 "metadata": {
  "kernelspec": {
   "display_name": "Python 3",
   "language": "python",
   "name": "python3"
  },
  "language_info": {
   "codemirror_mode": {
    "name": "ipython",
    "version": 3
   },
   "file_extension": ".py",
   "mimetype": "text/x-python",
   "name": "python",
   "nbconvert_exporter": "python",
   "pygments_lexer": "ipython3",
   "version": "3.7.3"
  }
 },
 "nbformat": 4,
 "nbformat_minor": 2
}
