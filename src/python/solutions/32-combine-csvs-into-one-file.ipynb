{
 "cells": [
  {
   "cell_type": "markdown",
   "metadata": {},
   "source": [
    "<a href=\"https://massstreetuniversity.com/\"><img src=\"https://tutorials.massstreetuniversity.com/images/logo.png\" alt=\"School Logo\"></a><br><br><br>\n",
    "<a href=\"https://tutorials.massstreetuniversity.com/python/\">Tutorial Home</a> | <a href=\"https://tutorials.massstreetuniversity.com/python/solutions/31-convert-file-to-pipe-delimited.html\">Previous</a> | <a href=\"https://tutorials.massstreetuniversity.com/python/solutions/33-load-large-csvs-into-data-warehouse.html\">Next</a>"
   ]
  },
  {
   "cell_type": "markdown",
   "metadata": {},
   "source": [
    "<h1>Lesson 32. Combining Multiple CSVs Into One File</h1>"
   ]
  },
  {
   "cell_type": "markdown",
   "metadata": {},
   "source": [
    "Sure. You COULD write a bunch of loops and process files one at a time. Sometimes it is more efficient to create one file especially if you have a bunch of downstream processes that also operate on that data.\n",
    "\n",
    "In that scenario, it is better to write one loop that combines all the CSVs into one big file. That way, no more loops have to be written."
   ]
  },
  {
   "cell_type": "markdown",
   "metadata": {},
   "source": [
    "<h1>Examples</h1>"
   ]
  },
  {
   "cell_type": "markdown",
   "metadata": {},
   "source": [
    "<strong>Example #1: CONSTRUCTICONS! UNITE!!</strong>\n",
    "\n",
    "We are going to take some small things and make them into a bigger thing.\n",
    "\n",
    "We are going work with the files in the zip folder that we downloaded earlier. We are going to combine them and spit out the result into the CombineCSVExample folder.\n",
    "\n",
    "We are also going to introduce a new way to loop over files and filter by file extension using the glob module. We will take the paths of all the files we want to combine and turn them into an iterable object that we can use the function enumerate on.\n",
    "\n",
    "Once we are done, we do not need the original files so we can toss those.\n",
    "\n",
    "This is also a long running process."
   ]
  },
  {
   "cell_type": "code",
   "execution_count": 6,
   "metadata": {},
   "outputs": [],
   "source": [
    "import shutil\n",
    "import glob\n",
    "import os\n",
    "\n",
    "script_dir = os.getcwd()\n",
    "data_directory = 'data\\\\'\n",
    "source_directory = 'ZipFileExample\\\\Eurostat\\\\'\n",
    "target_directory = 'CombineCSVExample\\\\'\n",
    "file_name = 'EurostatDataCombined.csv'\n",
    "\n",
    "source_path = os.path.join(script_dir, data_directory,source_directory)\n",
    "target_path = os.path.join(script_dir, data_directory, target_directory, file_name)\n",
    "\n",
    "source_files = glob.glob(source_path + '*.csv')\n",
    "\n",
    "with open(target_path, 'wb') as outfile:\n",
    "    for i, fname in enumerate(source_files):\n",
    "        with open(fname, 'rb') as infile:\n",
    "            if i != 0:\n",
    "                infile.readline()  #Throw away header on all but first file\n",
    "                                           \n",
    "            shutil.copyfileobj(infile, outfile)  #Block copy rest of file from input to output without parsing\n",
    "\n",
    "#clean input directory \n",
    "for i, fname in enumerate(source_files):\n",
    "    os.remove(fname)"
   ]
  },
  {
   "cell_type": "markdown",
   "metadata": {},
   "source": [
    "Copyright © 2020, Mass Street Analytics, LLC. All Rights Reserved."
   ]
  }
 ],
 "metadata": {
  "kernelspec": {
   "display_name": "Python 3",
   "language": "python",
   "name": "python3"
  },
  "language_info": {
   "codemirror_mode": {
    "name": "ipython",
    "version": 3
   },
   "file_extension": ".py",
   "mimetype": "text/x-python",
   "name": "python",
   "nbconvert_exporter": "python",
   "pygments_lexer": "ipython3",
   "version": "3.7.3"
  }
 },
 "nbformat": 4,
 "nbformat_minor": 2
}
