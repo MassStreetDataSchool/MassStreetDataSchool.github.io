{
 "cells": [
  {
   "cell_type": "markdown",
   "metadata": {},
   "source": [
    "<a href=\"https://massstreetuniversity.com/\"><img src=\"https://tutorials.massstreetuniversity.com/images/logo.png\" alt=\"School Logo\"></a><br><br><br>\n",
    "<a href=\"https://tutorials.massstreetuniversity.com/python/\">Tutorial Home</a> | <a href=\"https://tutorials.massstreetuniversity.com/python/advanced/28-bringing-it-all-together.html\">Previous</a> | <a href=\"https://tutorials.massstreetuniversity.com/python/solutions/30-looping-over-files-in-a-directory.html\">Next</a>"
   ]
  },
  {
   "cell_type": "markdown",
   "metadata": {},
   "source": [
    "<h1>Lesson 29. Download A Zip File Over HTTP</h1>"
   ]
  },
  {
   "cell_type": "markdown",
   "metadata": {},
   "source": [
    "The method read_csv is a workhorse in the data analytics world. Techncially, it has the capability to download zip files by itself. However there is some limitation with data.world where read_csv() will not work on zip files that are stored there. Since all of MSU's sample datasets reside in Data.World, we need to develop a workaround so you can work through the lessons in the solutions section."
   ]
  },
  {
   "cell_type": "markdown",
   "metadata": {},
   "source": [
    "<h1>Examples</h1>"
   ]
  },
  {
   "cell_type": "markdown",
   "metadata": {},
   "source": [
    "<strong>Example #1: Download. Unzip. Clean Up.</strong>\n",
    "\n",
    "There are some things in here that I am going to handwave for now. They will be explained in more relevant lessons.\n",
    "\n",
    "So we have to pull in three modules to make the magic happen two items of which we have not seen yet.\n",
    "<ul>\n",
    "<li>urllib.request – This allows us to open up a pipe to file using a url.</li><br>\n",
    "<li>pyunpack – This lets us work with zip archive files.</li><br>\n",
    "</ul>\n",
    "\n",
    "The rest should be familiar from lesson 20. So the steps here are:\n",
    "<ol>\n",
    "<li>Grab the file from the cloud and write it to disk</li><br>\n",
    "<li>Decompress the archive file</li><br>\n",
    "<li>Delete the archive file</li><br>\n",
    "</ol>\n",
    "\n",
    "This will take a while to run. When it is complete, check the ZipFileExample folder. You should find a new directory containing a csv."
   ]
  },
  {
   "cell_type": "code",
   "execution_count": 1,
   "metadata": {},
   "outputs": [],
   "source": [
    "import urllib.request\n",
    "import os\n",
    "from pyunpack import Archive\n",
    "\n",
    "url = 'https://query.data.world/s/vb53nuuux6umwmccbwlajvlzttmz3q'\n",
    "script_dir = os.getcwd()\n",
    "file_name = 'Eurostat.zip'\n",
    "data_directory = 'data\\\\'\n",
    "example_directory = 'ZipFileExample\\\\'\n",
    "abs_file_path = os.path.join(script_dir, data_directory, example_directory, file_name)\n",
    "abs_directory_path = os.path.join(script_dir, data_directory, example_directory)\n",
    "\n",
    "with urllib.request.urlopen(url) as source_file:\n",
    "    with open(abs_file_path, 'wb') as target_file:\n",
    "        target_file.write(source_file.read())\n",
    "\n",
    "Archive(abs_file_path).extractall(abs_directory_path)\n",
    "os.remove(abs_file_path)"
   ]
  },
  {
   "cell_type": "markdown",
   "metadata": {},
   "source": [
    "Copyright © 2020, Mass Street Analytics, LLC. All Rights Reserved."
   ]
  }
 ],
 "metadata": {
  "kernelspec": {
   "display_name": "Python 3",
   "language": "python",
   "name": "python3"
  },
  "language_info": {
   "codemirror_mode": {
    "name": "ipython",
    "version": 3
   },
   "file_extension": ".py",
   "mimetype": "text/x-python",
   "name": "python",
   "nbconvert_exporter": "python",
   "pygments_lexer": "ipython3",
   "version": "3.7.3"
  }
 },
 "nbformat": 4,
 "nbformat_minor": 2
}
