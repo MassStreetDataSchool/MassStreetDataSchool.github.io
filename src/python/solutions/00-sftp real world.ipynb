{
 "cells": [
  {
   "cell_type": "markdown",
   "metadata": {},
   "source": [
    "<a href=\"https://massstreetuniversity.com/\"><img src=\"https://tutorials.massstreetuniversity.com/images/logo.png\" alt=\"School Logo\"></a><br><br><br>\n",
    "<a href=\"http://tutorials.massstreetuniversity.com/python/\">Tutorial Home</a>"
   ]
  },
  {
   "cell_type": "markdown",
   "metadata": {},
   "source": [
    "<h1>Place Holder</h1>"
   ]
  },
  {
   "cell_type": "markdown",
   "metadata": {},
   "source": [
    "In order to make the magic happen here, you need something called a host key. When you connected with your FTP tool, you got the host key and it is probably stored in the application’s cache. \n",
    "Without getting into deep specifics about what the host key does, the host key is the thing that enables a secure connection between your machine and the secured remote box.\n",
    "We need to create a file on our machine with the key so the SFTP protocol knows that it is dealing with a secure connection with a known host. As such, we are going to name that file known_host. In the example folder for this lesson, create a text file called known_host. \n",
    "Find out how to get the host key from your FTP application. The key looks like ssh-ed123456 followed by a series of alpha numeric values separated by a semicolon. \n",
    "If you are using WinSCP you can go to Session > Server/protocol Information, then copy it to the clipboard. Paste the key inside your known_host file. It only needs to be the key. WinSCP will paste a lot of other information. All that extra stuff needs to go.\n",
    "The entry in the file needs to look like the following:\n",
    "test.rebex.net ssh-ed25519….\n"
   ]
  },
  {
   "cell_type": "markdown",
   "metadata": {},
   "source": [
    "<h1>Examples</h1>"
   ]
  },
  {
   "cell_type": "markdown",
   "metadata": {},
   "source": [
    "<strong>Place Holder</strong>"
   ]
  },
  {
   "cell_type": "code",
   "execution_count": null,
   "metadata": {},
   "outputs": [],
   "source": []
  },
  {
   "cell_type": "markdown",
   "metadata": {},
   "source": [
    "Copyright © 2020, Mass Street Analytics, LLC. All Rights Reserved."
   ]
  }
 ],
 "metadata": {
  "kernelspec": {
   "display_name": "Python 3",
   "language": "python",
   "name": "python3"
  },
  "language_info": {
   "codemirror_mode": {
    "name": "ipython",
    "version": 3
   },
   "file_extension": ".py",
   "mimetype": "text/x-python",
   "name": "python",
   "nbconvert_exporter": "python",
   "pygments_lexer": "ipython3",
   "version": "3.7.3"
  }
 },
 "nbformat": 4,
 "nbformat_minor": 2
}
