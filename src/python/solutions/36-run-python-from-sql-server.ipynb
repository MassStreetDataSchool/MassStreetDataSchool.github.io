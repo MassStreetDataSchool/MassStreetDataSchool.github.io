{
 "cells": [
  {
   "cell_type": "markdown",
   "metadata": {},
   "source": [
    "<a href=\"https://massstreetuniversity.com/\"><img src=\"https://tutorials.massstreetuniversity.com/images/logo.png\" alt=\"School Logo\"></a><br><br><br>\n",
    "<a href=\"https://tutorials.massstreetuniversity.com/python/\">Tutorial Home</a> | <a href=\"https://tutorials.massstreetuniversity.com/python/solutions/35-sftp-in-the-real-world.html\">Previous</a> | <a href=\"https://tutorials.massstreetuniversity.com/python/project/37-final-project.html\">Next</a>"
   ]
  },
  {
   "cell_type": "markdown",
   "metadata": {},
   "source": [
    "<h1>Lesson 36. Executing Python From SQL Server Agent</h1>"
   ]
  },
  {
   "cell_type": "markdown",
   "metadata": {},
   "source": [
    "Data pipelines built with Python can be orchestrated by SQL Server Agent. However, since Python is not a Microsoft product, there is no tight integration with SQL Server. They try to sell you on the idea that there is, but the cake is a lie.\n",
    "\n",
    "If there were truly tight integration between Python and SQL Server, there would be an agent job step type specifically for Python. Since there is not, we’ll have to roll our own.\n",
    "\n",
    "There are some considerations to be aware of when building pipe managed by SQL Server Agent.\n",
    "\n",
    "<strong>Directory Permissions</strong>\n",
    "\n",
    "You should use a Proxy to run Python just like you would SSIS. The Windows account that is being used for the credential has to be explicitly named in the permissions for every directory used in ETL processing. It cannot be in the permissions as part of a group. It has to be that specific user that is being used by the credential.\n",
    "\n",
    "<strong>Absolute File Paths</strong>\n",
    "\n",
    "When executing from SQL Server Agent, your script actually executes at C:\\WINDOWS\\system32. \n",
    "\n",
    "Many scripts in this tutorial use os.getcwd() as the base of file paths. When the script runs this would wind you up file path variable values that made zero sense. \n",
    "\n",
    "Instead, if you use absolute paths, everything works fine. \n",
    "\n",
    "<strong>Script Execution Reporting</strong>\n",
    "\n",
    "We have to get the Python script to tell SQL Server Agent if and when it stops executing. If we do not create this link, the agent job will execute and exit with a success regardless of what is going on with the Python script.\n",
    "\n",
    "We get the script to report to SQL Server by doing two things. \n",
    "\n",
    "<ol>\n",
    "<li>Implementing error handling with try/catch.</li>\n",
    "<li>Using sys.exit() to report the exit state of the script.</li>\n",
    "</ol>"
   ]
  },
  {
   "cell_type": "markdown",
   "metadata": {},
   "source": [
    "<strong>sys.exit()</strong>\n",
    "\n",
    "The exit() function of the sys module takes an integer for an argument. That argument will then be passed back to the job step so Agent can decide if it needs to go to the next step or report an error. \n",
    "\n",
    "Generally, 0 means the script functioned correctly. A value of 1 means the script encountered an error. You can define values higher than one in concert with try/catch to report specific errors."
   ]
  },
  {
   "cell_type": "code",
   "execution_count": null,
   "metadata": {},
   "outputs": [],
   "source": [
    "#Process existed successfully\n",
    "sys.exit(0)"
   ]
  },
  {
   "cell_type": "markdown",
   "metadata": {},
   "source": [
    "<strong>CmdExec</strong>\n",
    "\n",
    "For the job step to kick off the script we need to use a type of job step called CmdExec. This step allows you to interact with the OS in the same way you would with the command line. \n",
    "\n",
    "In the command box of the step are a series of commands written in Window’s batch scripting language. First the script is kicked off using the exact same command you would have used. The rest of it is the agent side of the conversation between it and the Python script.\n",
    "\n",
    "The batch script takes the parameter passed to it from sys.exit() and performs the appropriate action based on that value."
   ]
  },
  {
   "cell_type": "code",
   "execution_count": null,
   "metadata": {},
   "outputs": [],
   "source": [
    "python C:\\Opt\\DownloadZipFile\\lesson-36-ex-1.py\n",
    "\n",
    "SET EXITCODE = %ERRORLEVEL% \n",
    "IF %EXITCODE% EQ 0 ( \n",
    "   REM Script Ran Sucessfully\n",
    "   EXIT 0\n",
    ")\n",
    "IF %EXITCODE% EQ 1 (\n",
    "    REM Script Error\n",
    "    EXIT 1\n",
    ")"
   ]
  },
  {
   "cell_type": "markdown",
   "metadata": {},
   "source": [
    "<h1>Examples</h1>"
   ]
  },
  {
   "cell_type": "markdown",
   "metadata": {},
   "source": [
    "<strong>Example #1: Automating An Existing Process</strong>\n",
    "\n",
    "Automating existing manual processes is a frequent task for business analytics professionals. You wrote a script. It does a thing. But you have to keep running it manually and that is getting annoying. Time to beef it up for production and automate it so you can go create cool new things."
   ]
  },
  {
   "cell_type": "markdown",
   "metadata": {},
   "source": [
    "<strong>Example Setup Step 1: File Placement</strong>\n",
    "\n",
    "This is a complex example that requires some set up to run properly. This this is not a tutorial on SQL Server so I have scripted as much for you as I can. These instructions assume that you have followed the directions in Section VIII.\n",
    "\n",
    "Take the Opt folder in your lesson folder and copy it as close to the root of one of your drives as you can.\n",
    "\n",
    "Open lesson-36-ex-1.py and update the value of the variable file_exchange_directory as necessary.\n",
    "\n",
    "Take the file lesson-36-ex-1.py and place it in \\Opt\\DownloadZipFile\\. This example can be found in notebook format, however, the Python script version is what we will actually be running.\n",
    "\n",
    "This is a modified version of our download zip file script. Since the goal is to highlight automation, all we are going to do is download the zip file. We are not going to unpack it.\n",
    "\n",
    "Below, you will notice that relative file paths have been replaced with absolute paths, error handling has been implemented, and sys.exit() is reporting the exit state of the script."
   ]
  },
  {
   "cell_type": "code",
   "execution_count": null,
   "metadata": {},
   "outputs": [],
   "source": [
    "import urllib.request\n",
    "import os\n",
    "import sys\n",
    "from pyunpack import Archive\n",
    "\n",
    "url = 'https://query.data.world/s/vb53nuuux6umwmccbwlajvlzttmz3q'\n",
    "file_exchange_directory = 'C:\\\\FileExchange\\\\'\n",
    "third_party_directory = 'Data.World\\\\'\n",
    "etl_process_directory = 'DownloadZipFile'\n",
    "inbound_directory = 'In\\\\'\n",
    "file_name = 'Eurostat.zip'\n",
    "\n",
    "destination_file = os.path.join(file_exchange_directory, third_party_directory, etl_process_directory, inbound_directory, file_name)\n",
    "\n",
    "try:\n",
    "    with urllib.request.urlopen(url) as source_file:\n",
    "        with open(destination_file, 'wb') as target_file:\n",
    "            target_file.write(source_file.read())\n",
    "\n",
    "except BaseException as e:\n",
    "    print(e)\n",
    "    sys.exit(1)\n",
    "\n",
    "sys.exit(0)"
   ]
  },
  {
   "cell_type": "markdown",
   "metadata": {},
   "source": [
    "<strong>Example Setup Step 2: Set Up The Agent Job</strong>\n",
    "\n",
    "The first order of business is to make sure SQL Server Agent is running. Open SSMS and in the object explorer, find SQL Server Agent at the bottom. The icon should have a green arrow on it. If it has a red X, you will need to troubleshoot the issue. You can do that by coming to the student lounge and asking a question. \n",
    "\n",
    "Open the file CREATE JOB Download Zip File.sql in SSMS and run it. This will create the job that we need to run to execute the Python script. You can find the job by expanding the Jobs folder. \n",
    "\n",
    "<ol>\n",
    "<li>Open the job by double clicking the name. </li><br>\n",
    "<li>Off to the left in “Select a page”, click Steps. </li><br>\n",
    "<li>In the job step list, double click “Execute Script”.</li><br>\n",
    "<li>In the Command window, if necessary, change the path of the Python file.</li><br>\n",
    "<li>Hit ok on the various windows until you have completely exited the job.</li><br>\n",
    "</ol>"
   ]
  },
  {
   "cell_type": "markdown",
   "metadata": {},
   "source": [
    "<strong>Example Setup Step 3: Run The Job</strong>\n",
    "\n",
    "It looks like we are good to go. \n",
    "\n",
    "<strong>LET’S LIGHT THIS CANDLE!</strong>\n",
    "\n",
    "Right click on the job and select “Start Job At Step”.\n",
    "\n",
    "Once the job has completed, go check the In folder for the application output."
   ]
  },
  {
   "cell_type": "markdown",
   "metadata": {},
   "source": [
    "Copyright © 2020, Mass Street Analytics, LLC. All Rights Reserved."
   ]
  }
 ],
 "metadata": {
  "kernelspec": {
   "display_name": "Python 3",
   "language": "python",
   "name": "python3"
  },
  "language_info": {
   "codemirror_mode": {
    "name": "ipython",
    "version": 3
   },
   "file_extension": ".py",
   "mimetype": "text/x-python",
   "name": "python",
   "nbconvert_exporter": "python",
   "pygments_lexer": "ipython3",
   "version": "3.7.3"
  }
 },
 "nbformat": 4,
 "nbformat_minor": 2
}
