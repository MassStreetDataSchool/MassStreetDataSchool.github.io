{
 "cells": [
  {
   "cell_type": "markdown",
   "metadata": {},
   "source": [
    "<a href=\"https://massstreetuniversity.com/\"><img src=\"https://tutorials.massstreetuniversity.com/images/logo.png\" alt=\"School Logo\"></a><br><br><br>\n",
    "<a href=\"https://tutorials.massstreetuniversity.com/python/\">Tutorial Home</a> | <a href=\"https://tutorials.massstreetuniversity.com/python/solutions/29-download-a-zip-file.html\">Previous</a> | <a href=\"https://tutorials.massstreetuniversity.com/python/solutions/31-efficiently-write-data-to-disk.html\">Next</a>"
   ]
  },
  {
   "cell_type": "markdown",
   "metadata": {},
   "source": [
    "<h1>Lesson 30. Looping Over Files In A Directory</h1>"
   ]
  },
  {
   "cell_type": "markdown",
   "metadata": {},
   "source": [
    "Looping over files in a directory is a basic ETL task. In this tutorial, I’m going to introduce you to the syntax. If you downloaded the code from GitHub, there will be small sample files to work with.\n",
    "\n",
    "In later lessons, you will see how it is done with live files."
   ]
  },
  {
   "cell_type": "markdown",
   "metadata": {},
   "source": [
    "<h1>Examples</h1>"
   ]
  },
  {
   "cell_type": "markdown",
   "metadata": {},
   "source": [
    "<strong>Example #1: Loop Over Everything In Folder</strong>"
   ]
  },
  {
   "cell_type": "code",
   "execution_count": 2,
   "metadata": {},
   "outputs": [
    {
     "name": "stdout",
     "output_type": "stream",
     "text": [
      "01SampleFolder\n",
      "02SampleFolder\n",
      "03SampleFolder\n",
      "full200606.csv\n",
      "full200607.csv\n",
      "full200608.csv\n"
     ]
    }
   ],
   "source": [
    "import os\n",
    "\n",
    "script_dir = os.getcwd()\n",
    "data_directory = 'data\\\\'\n",
    "example_directory = 'FileLoopExample\\\\'\n",
    "path = os.path.join(script_dir,data_directory,example_directory)\n",
    "\n",
    "for filename in os.listdir(path):\n",
    "    print(filename)"
   ]
  },
  {
   "cell_type": "markdown",
   "metadata": {},
   "source": [
    "<strong>Example #2: Loop Over Files With A Specific File Extention</strong>"
   ]
  },
  {
   "cell_type": "code",
   "execution_count": 3,
   "metadata": {},
   "outputs": [
    {
     "name": "stdout",
     "output_type": "stream",
     "text": [
      "full200606.csv\n",
      "full200607.csv\n",
      "full200608.csv\n"
     ]
    }
   ],
   "source": [
    "import os\n",
    "\n",
    "script_dir = os.getcwd()\n",
    "data_directory = 'data\\\\'\n",
    "example_directory = 'FileLoopExample\\\\'\n",
    "path = os.path.join(script_dir,data_directory,example_directory)\n",
    "\n",
    "for filename in os.listdir(path):\n",
    "    if filename.endswith('.csv'):\n",
    "        print(filename)"
   ]
  },
  {
   "cell_type": "markdown",
   "metadata": {},
   "source": [
    "<strong>Example #3: Loop Over Files In Subdirectories Recursively</strong>"
   ]
  },
  {
   "cell_type": "code",
   "execution_count": 5,
   "metadata": {},
   "outputs": [
    {
     "name": "stdout",
     "output_type": "stream",
     "text": [
      "full200606.csv\n",
      "full200607.csv\n",
      "full200608.csv\n",
      "full200509.csv\n",
      "full200510.csv\n",
      "full200511.csv\n",
      "full200512.csv\n",
      "full200601.csv\n",
      "full200602.csv\n",
      "full200603.csv\n",
      "full200604.csv\n",
      "full200605.csv\n"
     ]
    }
   ],
   "source": [
    "import os\n",
    "\n",
    "script_dir = os.getcwd()\n",
    "data_directory = 'data\\\\'\n",
    "example_directory = 'FileLoopExample\\\\'\n",
    "path = os.path.join(script_dir,data_directory,example_directory)\n",
    "\n",
    "for subdir, dirs, files in os.walk(path):\n",
    "     for filename in files:\n",
    "            print(filename)"
   ]
  },
  {
   "cell_type": "markdown",
   "metadata": {},
   "source": [
    "Copyright © 2020, Mass Street Analytics, LLC. All Rights Reserved."
   ]
  }
 ],
 "metadata": {
  "kernelspec": {
   "display_name": "Python 3",
   "language": "python",
   "name": "python3"
  },
  "language_info": {
   "codemirror_mode": {
    "name": "ipython",
    "version": 3
   },
   "file_extension": ".py",
   "mimetype": "text/x-python",
   "name": "python",
   "nbconvert_exporter": "python",
   "pygments_lexer": "ipython3",
   "version": "3.7.3"
  }
 },
 "nbformat": 4,
 "nbformat_minor": 2
}
