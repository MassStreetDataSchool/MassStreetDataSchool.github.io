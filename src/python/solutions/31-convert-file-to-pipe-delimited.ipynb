{
 "cells": [
  {
   "cell_type": "markdown",
   "metadata": {},
   "source": [
    "<a href=\"https://massstreetuniversity.com/\"><img src=\"https://tutorials.massstreetuniversity.com/images/logo.png\" alt=\"School Logo\"></a><br><br><br>\n",
    "<a href=\"https://tutorials.massstreetuniversity.com/python/\">Tutorial Home</a> | <a href=\"https://tutorials.massstreetuniversity.com/python/solutions/30-looping-over-files-in-a-directory.html\">Previous</a> | <a href=\"https://tutorials.massstreetuniversity.com/python/solutions/32-combine-csvs-into-one-file.html\">Next</a>"
   ]
  },
  {
   "cell_type": "markdown",
   "metadata": {},
   "source": [
    "<h1>Lesson 31. Convert Comma Delmited Files To Pipe Delimited</h1>"
   ]
  },
  {
   "cell_type": "markdown",
   "metadata": {},
   "source": [
    "This is a simple example and is really just here to build on concepts.\n",
    "\n",
    "When you are dealing with flat files, you are going to run into all kinds of issues. One of the issues you are going to deal with is having commas in data. \n",
    "\n",
    "You might have to work with a file that has text fields containing user input. The problem will be that the file has not been prepared in such a way that software interprets these commas as text and not column delimiters. When this happens, you are going to have to do some clean up work to the file before you can load it into a database, otherwise those commas are going to cause problems on import.\n",
    "\n",
    "Once you have cleaned up the file or even if you do not have to do any cleanup work at all, it is in your best interest to take the file and convert it to pipe delimited instead of comma delimited.\n",
    "\n",
    "Pipe is the name for that thing over the backlash on your keyboard. Pipe is RARELY used in everyday typing, so there is a low probably that pipe will show up in text fields.\n",
    "\n",
    "It does not matter what the source is. If you have to write a delimited flat file, write it out as pipe delimited."
   ]
  },
  {
   "cell_type": "markdown",
   "metadata": {},
   "source": [
    "<h1>Examples</h1>"
   ]
  },
  {
   "cell_type": "markdown",
   "metadata": {},
   "source": [
    "<strong>Example #1: Convert File To Pipe Delimited</strong>\n",
    "\n",
    "This example downloads the comma delimited flights dataset. \n",
    "\n",
    "For simplicity, we will not write the comma delimited version of the file as it is a relatively small file and fits in memory. Instead, we will read it into memory and then write the pipe delimited version to the PipeDelimitedExample folder.\n",
    "\n",
    "In order to write a file as pipe delimited with the to_csv function, you use the sep argument and set it to |."
   ]
  },
  {
   "cell_type": "code",
   "execution_count": 3,
   "metadata": {},
   "outputs": [],
   "source": [
    "import urllib.request\n",
    "import os\n",
    "import pandas as pd\n",
    "\n",
    "url = 'https://query.data.world/s/paxejv4t6pn3el4ttskmx7rhxhz5ho'\n",
    "script_dir = os.getcwd()\n",
    "data_directory = 'data\\\\'\n",
    "example_directory = 'PipeDelimitedExample\\\\'\n",
    "file_name = 'flights.csv'\n",
    "file_path = os.path.join(script_dir,data_directory,example_directory,file_name)\n",
    "\n",
    "# Read csv data into pandas and write | delimited txt file\n",
    "df = pd.read_csv(url,index_col=False, dtype=str)\n",
    "df.to_csv(file_path, sep=\"|\",index=False)"
   ]
  },
  {
   "cell_type": "markdown",
   "metadata": {},
   "source": [
    "Copyright © 2020, Mass Street Analytics, LLC. All Rights Reserved."
   ]
  }
 ],
 "metadata": {
  "kernelspec": {
   "display_name": "Python 3",
   "language": "python",
   "name": "python3"
  },
  "language_info": {
   "codemirror_mode": {
    "name": "ipython",
    "version": 3
   },
   "file_extension": ".py",
   "mimetype": "text/x-python",
   "name": "python",
   "nbconvert_exporter": "python",
   "pygments_lexer": "ipython3",
   "version": "3.7.3"
  }
 },
 "nbformat": 4,
 "nbformat_minor": 2
}
