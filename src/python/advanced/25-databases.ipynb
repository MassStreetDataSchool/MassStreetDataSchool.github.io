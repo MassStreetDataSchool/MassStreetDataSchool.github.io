{
 "cells": [
  {
   "cell_type": "markdown",
   "metadata": {},
   "source": [
    "<a href=\"https://massstreetuniversity.com/\"><img src=\"https://tutorials.massstreetuniversity.com/images/logo.png\" alt=\"School Logo\"></a><br><br><br>\n",
    "<a href=\"https://tutorials.massstreetuniversity.com/python/\">Tutorial Home</a> | <a href=\"https://tutorials.massstreetuniversity.com/python/advanced/24-requesting-files-with-http-ftp.html\">Previous</a> | <a href=\"https://tutorials.massstreetuniversity.com/python/advanced/26-saving-objects-with-pickle.html\">Next</a>"
   ]
  },
  {
   "cell_type": "markdown",
   "metadata": {},
   "source": [
    "<h1>Lesson 25. Interacting With Databases</h1>"
   ]
  },
  {
   "cell_type": "markdown",
   "metadata": {},
   "source": [
    "Our focus is analytics not application development. As such, the discussion that you would expect from other generic tutorials is totally not going to happen right now.\n",
    "\n",
    "Instead, we’re going to keep our eyes on the prize and focus on those task common to business analytics. \n",
    "\n",
    "A large difference between app dev and analytics is the volume of data that you work with. Applications are frequently making changes to the database one record at a time. In analytics, you are frequently dealing with large fractions of the total organizations data assets. It requires a different mindset.\n",
    "\n",
    "Below is a standard scenario that you most likely will be dealing with on a daily basis. You need to do an analysis so you use JupyterLab to connect into the database and get what you need. "
   ]
  },
  {
   "cell_type": "markdown",
   "metadata": {},
   "source": [
    "<h1>Examples</h1>"
   ]
  },
  {
   "cell_type": "markdown",
   "metadata": {},
   "source": [
    "<strong>Example #1: Git It Yo Self Service</strong>\n",
    "\n",
    "If you know SQL, you do not have to wait for someone to get you your data. You can just grab it yourself from the database.\n",
    "\n",
    "The process you see below is fairly common across all programming languages.\n",
    "\n",
    "<ol>\n",
    "<li>Set up your query.</li>\n",
    "<li>Set up your connection.</li>\n",
    "<li>Execute your query.</li>\n",
    "<li>Go to town.</li>\n",
    "</ol>"
   ]
  },
  {
   "cell_type": "code",
   "execution_count": 10,
   "metadata": {},
   "outputs": [
    {
     "data": {
      "text/html": [
       "<div>\n",
       "<style scoped>\n",
       "    .dataframe tbody tr th:only-of-type {\n",
       "        vertical-align: middle;\n",
       "    }\n",
       "\n",
       "    .dataframe tbody tr th {\n",
       "        vertical-align: top;\n",
       "    }\n",
       "\n",
       "    .dataframe thead th {\n",
       "        text-align: right;\n",
       "    }\n",
       "</style>\n",
       "<table border=\"1\" class=\"dataframe\">\n",
       "  <thead>\n",
       "    <tr style=\"text-align: right;\">\n",
       "      <th></th>\n",
       "      <th>AnnualSales</th>\n",
       "      <th>AnnualRevenue</th>\n",
       "      <th>SquareFeet</th>\n",
       "      <th>NumberEmployees</th>\n",
       "    </tr>\n",
       "  </thead>\n",
       "  <tbody>\n",
       "    <tr>\n",
       "      <th>count</th>\n",
       "      <td>701.00</td>\n",
       "      <td>701.00</td>\n",
       "      <td>701.00</td>\n",
       "      <td>701.00</td>\n",
       "    </tr>\n",
       "    <tr>\n",
       "      <th>mean</th>\n",
       "      <td>1584736.09</td>\n",
       "      <td>158473.61</td>\n",
       "      <td>40014.27</td>\n",
       "      <td>40.51</td>\n",
       "    </tr>\n",
       "    <tr>\n",
       "      <th>std</th>\n",
       "      <td>980951.93</td>\n",
       "      <td>98095.19</td>\n",
       "      <td>24445.62</td>\n",
       "      <td>29.47</td>\n",
       "    </tr>\n",
       "    <tr>\n",
       "      <th>min</th>\n",
       "      <td>300000.00</td>\n",
       "      <td>30000.00</td>\n",
       "      <td>6000.00</td>\n",
       "      <td>2.00</td>\n",
       "    </tr>\n",
       "    <tr>\n",
       "      <th>25%</th>\n",
       "      <td>800000.00</td>\n",
       "      <td>80000.00</td>\n",
       "      <td>20000.00</td>\n",
       "      <td>16.00</td>\n",
       "    </tr>\n",
       "    <tr>\n",
       "      <th>50%</th>\n",
       "      <td>1500000.00</td>\n",
       "      <td>150000.00</td>\n",
       "      <td>37000.00</td>\n",
       "      <td>35.00</td>\n",
       "    </tr>\n",
       "    <tr>\n",
       "      <th>75%</th>\n",
       "      <td>3000000.00</td>\n",
       "      <td>300000.00</td>\n",
       "      <td>72000.00</td>\n",
       "      <td>64.00</td>\n",
       "    </tr>\n",
       "    <tr>\n",
       "      <th>max</th>\n",
       "      <td>3000000.00</td>\n",
       "      <td>300000.00</td>\n",
       "      <td>80000.00</td>\n",
       "      <td>100.00</td>\n",
       "    </tr>\n",
       "  </tbody>\n",
       "</table>\n",
       "</div>"
      ],
      "text/plain": [
       "       AnnualSales  AnnualRevenue  SquareFeet  NumberEmployees\n",
       "count       701.00         701.00      701.00           701.00\n",
       "mean    1584736.09      158473.61    40014.27            40.51\n",
       "std      980951.93       98095.19    24445.62            29.47\n",
       "min      300000.00       30000.00     6000.00             2.00\n",
       "25%      800000.00       80000.00    20000.00            16.00\n",
       "50%     1500000.00      150000.00    37000.00            35.00\n",
       "75%     3000000.00      300000.00    72000.00            64.00\n",
       "max     3000000.00      300000.00    80000.00           100.00"
      ]
     },
     "execution_count": 10,
     "metadata": {},
     "output_type": "execute_result"
    }
   ],
   "source": [
    "import os\n",
    "import pyodbc as db\n",
    "import time\n",
    "import pandas as pd\n",
    "\n",
    "#Prep query\n",
    "sql = 'SELECT BusinessEntityID, AnnualSales, AnnualRevenue, SquareFeet, NumberEmployees' \n",
    "sql = sql + ' ' + 'FROM Sales.vStoreWithDemographics'\n",
    "\n",
    "#Set up the connection.\n",
    "connection_string = 'DSN=AdventureWorks;'\n",
    "conn = db.connect(connection_string)\n",
    "\n",
    "#Execute the query.\n",
    "result_set = pd.read_sql(sql, conn, index_col = 'BusinessEntityID')\n",
    "\n",
    "#Review the data.\n",
    "#Set option used here to make describe output easier to read.\n",
    "pd.set_option('display.float_format', lambda x: '%.2f' % x)\n",
    "result_set.describe()"
   ]
  },
  {
   "cell_type": "markdown",
   "metadata": {},
   "source": [
    "Copyright © 2020, Mass Street Analytics, LLC. All Rights Reserved."
   ]
  }
 ],
 "metadata": {
  "kernelspec": {
   "display_name": "Python 3",
   "language": "python",
   "name": "python3"
  },
  "language_info": {
   "codemirror_mode": {
    "name": "ipython",
    "version": 3
   },
   "file_extension": ".py",
   "mimetype": "text/x-python",
   "name": "python",
   "nbconvert_exporter": "python",
   "pygments_lexer": "ipython3",
   "version": "3.7.3"
  }
 },
 "nbformat": 4,
 "nbformat_minor": 2
}
