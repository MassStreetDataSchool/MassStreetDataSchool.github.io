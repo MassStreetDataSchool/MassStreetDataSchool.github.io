{
 "cells": [
  {
   "cell_type": "markdown",
   "metadata": {},
   "source": [
    "<a href=\"https://massstreetuniversity.com/\"><img src=\"https://tutorials.massstreetuniversity.com/images/logo.png\" alt=\"School Logo\"></a><br><br><br>\n",
    "<a href=\"https://tutorials.massstreetuniversity.com/python/\">Tutorial Home</a> | <a href=\"https://tutorials.massstreetuniversity.com/python/basics/16-pep8.html\">Previous</a> | <a href=\"https://tutorials.massstreetuniversity.com/python/advanced/18-generators.html\">Next</a>"
   ]
  },
  {
   "cell_type": "markdown",
   "metadata": {},
   "source": [
    "<h1>Lesson 17. Functional Programing With map</h1>"
   ]
  },
  {
   "cell_type": "markdown",
   "metadata": {},
   "source": [
    "<strong>Functional Programming</strong>\n",
    "\n",
    "Functional programming gives me migraines. I made a legit run at it and I could not wrap my brain around it. OO 4 lyfe yo!\n",
    "\n",
    "What am I talking about? Programming paradigms. \n",
    "\n",
    "In this tutorial, I am teaching you to write “scripts”. The word scripts usually refers to a set of instructions written in a non-compiled programming language that execute one after another. Scripts are usually relatively small programs that automate relatively simple and repetitive task. A good example is bash scripts or PowerShell scripts that are created to do things like move files around a network on a regular schedule. These scripts are usually kept in a single file.\n",
    "\n",
    "I will not be teaching you how to write full blow Python programs in this tutorial. Being able to write full blown programs requires more knowledge than I can drop in a medium this simple. Full blow programs are huge and require many files to work together properly. How you code these files is called a programming paradigm.\n",
    "\n",
    "There are a handful of paradigms. My OO comment earlier was a reference to object-oriented programming which is the dominant paradigm in modern software development. In recent years, functional programming has started to become more popular.\n",
    "\n",
    "Functional programming consists of writing software in such a manner that functions are first class citizens. Everything is a function. If you spend your life in OO, moving to functions is a real mind bender. However, it does come in handy sometimes.\n",
    "\n",
    "Sometimes you need to run the same operation over numerous data points. There are various ways to do that, but the most efficient way is to borrow some concepts from functional programing.\n",
    "\n",
    "Functional programming is supported in Python. If you move into data science or learn to use Apache Spark, you are going to need a function called map.\n",
    "\n",
    "<strong>Lambda Functions</strong>\n",
    "\n",
    "The functions that we wrote in lesson 14 all had names. There is another way to write functions and that is anonymously.\n",
    "\n",
    "Anonymous functions do not have names. The come in handy because they really reduce the code you have to write when the task is simple. You can fit an anonymous function on a single line.\n",
    "\n",
    "Anonymous functions are implanted by using the lambda construct instead of def like with named functions.\n",
    "\n",
    "<strong>map</strong>\n",
    "\n",
    "Now that I have given you all that exposition, I can finally talk about map.\n",
    "\n",
    "The map function lets you apply a function over an iterable object like a list. The map function takes a function as an argument and the iterable that the function is to be applied to."
   ]
  },
  {
   "cell_type": "markdown",
   "metadata": {},
   "source": [
    "<h1>Examples</h1>"
   ]
  },
  {
   "cell_type": "markdown",
   "metadata": {},
   "source": [
    "<strong>Example #1 This Example Has No Name </strong>\n",
    "\n",
    "Below is an example of an anonymous function. First, we review example 3 of lesson 14. Then we re-engineer it as an anonymous function. As you can see, the same thing can be achieved with much less code."
   ]
  },
  {
   "cell_type": "code",
   "execution_count": 14,
   "metadata": {},
   "outputs": [
    {
     "name": "stdout",
     "output_type": "stream",
     "text": [
      "2\n"
     ]
    }
   ],
   "source": [
    "#original function\n",
    "def divide(numerator, denominator):\n",
    "    quotient = numerator / denominator\n",
    "    return int(quotient)\n",
    "\n",
    "print(divide(10,5))"
   ]
  },
  {
   "cell_type": "code",
   "execution_count": 13,
   "metadata": {},
   "outputs": [
    {
     "name": "stdout",
     "output_type": "stream",
     "text": [
      "2\n"
     ]
    }
   ],
   "source": [
    "#SHAZAM!\n",
    "divide = lambda x,y: int(x / y)\n",
    "\n",
    "print(divide(10,5))"
   ]
  },
  {
   "cell_type": "markdown",
   "metadata": {},
   "source": [
    "<strong>Example #2 A Different Kind Of Loop</strong>\n",
    "\n",
    "This example does not show the real power of map. We will not see that until we start using Python for data analysis. For now, here is a different way to iterate over a list of values.\n",
    "\n",
    "The map function simply returns an object so before we can print it to the screen, we have to turn it into a list."
   ]
  },
  {
   "cell_type": "code",
   "execution_count": 12,
   "metadata": {},
   "outputs": [
    {
     "name": "stdout",
     "output_type": "stream",
     "text": [
      "[2, 3, 4, 5, 6]\n"
     ]
    }
   ],
   "source": [
    "count = [1,2,3,4,5]\n",
    "\n",
    "newcount = list(map(lambda x: x + 1, count))\n",
    "\n",
    "print(newcount)"
   ]
  },
  {
   "cell_type": "markdown",
   "metadata": {},
   "source": [
    "Copyright © 2020, Mass Street Analytics, LLC. All Rights Reserved."
   ]
  }
 ],
 "metadata": {
  "kernelspec": {
   "display_name": "Python 3",
   "language": "python",
   "name": "python3"
  },
  "language_info": {
   "codemirror_mode": {
    "name": "ipython",
    "version": 3
   },
   "file_extension": ".py",
   "mimetype": "text/x-python",
   "name": "python",
   "nbconvert_exporter": "python",
   "pygments_lexer": "ipython3",
   "version": "3.7.3"
  }
 },
 "nbformat": 4,
 "nbformat_minor": 2
}
