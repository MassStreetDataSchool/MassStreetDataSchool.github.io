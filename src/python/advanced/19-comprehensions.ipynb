{
 "cells": [
  {
   "cell_type": "markdown",
   "metadata": {},
   "source": [
    "<a href=\"https://massstreetuniversity.com/\"><img src=\"https://tutorials.massstreetuniversity.com/images/logo.png\" alt=\"School Logo\"></a><br><br><br>\n",
    "<a href=\"https://tutorials.massstreetuniversity.com/python/\">Tutorial Home</a> | <a href=\"https://tutorials.massstreetuniversity.com/python/advanced/18-generators.html\">Previous</a> | <a href=\"https://tutorials.massstreetuniversity.com/python/advanced/20-basic-file-operations.html\">Next</a>"
   ]
  },
  {
   "cell_type": "markdown",
   "metadata": {},
   "source": [
    "<h1>Lesson 19. Comprehensions</h1>"
   ]
  },
  {
   "cell_type": "markdown",
   "metadata": {},
   "source": [
    "Comprehensions are another Python goodie that lets you write code in the functional programming paradigm. I am only going to talk about them here very lightly as functional programming is a bit beyond this tutorial. We will see them later in the solutions section.\n",
    "\n",
    "A comprehension is another construct that allows you to loop over an iterable object. Specifically, it lets you iterate over lists, dictionaries, and sets which we have not talked about nor will we in this particular tutorial.\n",
    "\n",
    "Comprehensions are a way to write Pythonic code. You can use comprehensions to take a lot of complex logic and reduce it to a line of code. Be aware that the return datatype of a comprehension is a list.\n",
    "\n",
    "<h1>Comprehension Syntax</h1>"
   ]
  },
  {
   "cell_type": "code",
   "execution_count": null,
   "metadata": {},
   "outputs": [],
   "source": [
    "[[function] for x in [list, dict, or set]]"
   ]
  },
  {
   "cell_type": "markdown",
   "metadata": {},
   "source": [
    "<h1>Examples</h1>"
   ]
  },
  {
   "cell_type": "markdown",
   "metadata": {},
   "source": [
    "<strong>Example #1 A Different Kind Of Loop Redux</strong>\n",
    "\n",
    "In this example we are going to take example #2 from lesson 17 and rewrite it as a comprehension."
   ]
  },
  {
   "cell_type": "code",
   "execution_count": 2,
   "metadata": {},
   "outputs": [
    {
     "name": "stdout",
     "output_type": "stream",
     "text": [
      "[2, 3, 4, 5, 6]\n"
     ]
    }
   ],
   "source": [
    "#The original function using map.\n",
    "count = [1,2,3,4,5]\n",
    "\n",
    "newcount = list(map(lambda x: x + 1, count))\n",
    "\n",
    "print(newcount)"
   ]
  },
  {
   "cell_type": "code",
   "execution_count": 1,
   "metadata": {},
   "outputs": [
    {
     "name": "stdout",
     "output_type": "stream",
     "text": [
      "[2, 3, 4, 5, 6]\n"
     ]
    }
   ],
   "source": [
    "#The new function using a comprehension.\n",
    "\n",
    "count = [1,2,3,4,5]\n",
    "\n",
    "newcount = [x + 1 for x in count]\n",
    "\n",
    "print(newcount)"
   ]
  },
  {
   "cell_type": "markdown",
   "metadata": {},
   "source": [
    "Copyright © 2020, Mass Street Analytics, LLC. All Rights Reserved."
   ]
  }
 ],
 "metadata": {
  "kernelspec": {
   "display_name": "Python 3",
   "language": "python",
   "name": "python3"
  },
  "language_info": {
   "codemirror_mode": {
    "name": "ipython",
    "version": 3
   },
   "file_extension": ".py",
   "mimetype": "text/x-python",
   "name": "python",
   "nbconvert_exporter": "python",
   "pygments_lexer": "ipython3",
   "version": "3.7.3"
  }
 },
 "nbformat": 4,
 "nbformat_minor": 2
}
