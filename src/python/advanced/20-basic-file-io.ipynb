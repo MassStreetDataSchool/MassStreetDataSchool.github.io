{
 "cells": [
  {
   "cell_type": "markdown",
   "metadata": {},
   "source": [
    "<a href=\"https://massstreetuniversity.com/\"><img src=\"https://tutorials.massstreetuniversity.com/images/logo.png\" alt=\"School Logo\"></a><br><br><br>\n",
    "<a href=\"https://tutorials.massstreetuniversity.com/python/\">Tutorial Home</a> | <a href=\"https://tutorials.massstreetuniversity.com/python/advanced/19-comprehensions.html\">Previous</a> | <a href=\"https://tutorials.massstreetuniversity.com/python/advanced/21-numpy.html\">Next</a>"
   ]
  },
  {
   "cell_type": "markdown",
   "metadata": {},
   "source": [
    "<h1>Lesson 20. Basic File Operations</h1>"
   ]
  },
  {
   "cell_type": "markdown",
   "metadata": {},
   "source": [
    "When it comes to running data for a living, sooner or later you’re gonna have to deal with a file. You’re going to have to download it, move it, manipulate it, load it, smack it up, flip it, rub it down, OH NO!\n",
    "\n",
    "There are other parts of this tutorial where we will learn how to download files. For now, we’re going to make the assumption that the file is living on the local drive and we need to push it around various places.\n",
    "\n",
    "The examples below will walk you through some basic task with files. You might have noticed that I do not teach you how to create a file. We will do that when we get to talking about Pandas.\n",
    "\n",
    "I’m also not going to teach you how to create directories at this point. If you track out to data engineering, you will get more information on manipulating the file system.\n",
    "\n",
    "In the BasicFileOpsExample directory, you will find three directories: In, Out, Archive. This is a pattern from basic data warehouse processing. We are going to simulate moving a file through a data warehouse ETL processing evolution."
   ]
  },
  {
   "cell_type": "markdown",
   "metadata": {},
   "source": [
    "<h1>Examples</h1>"
   ]
  },
  {
   "cell_type": "markdown",
   "metadata": {},
   "source": [
    "<strong>Example #1: Move A File</strong>\n",
    "\n",
    "AKA cut and paste. Moving files is a fast operation because we are just changing a pointer to the ones and zeros to point to something else. We are not actually pushing bits around disk to make the move happen.\n",
    "\n",
    "The module shutil is filled with all kinds of file handling goodies.\n",
    "\n",
    "In the root of the example directory is a small file. While it is in the root folder, it is simulating being outside the boundaries of the data warehouse environment. Let’s bring it inside by moving it to the In folder."
   ]
  },
  {
   "cell_type": "code",
   "execution_count": null,
   "metadata": {},
   "outputs": [],
   "source": [
    "import shutil as sh\n",
    "import os\n",
    "\n",
    "script_dir = os.getcwd()\n",
    "data_directory = 'data\\\\'\n",
    "example_directory = 'BasicFileOpsExample\\\\'\n",
    "target_directory = 'In\\\\'\n",
    "file_name = 'full200606.csv'\n",
    "\n",
    "source_path = os.path.join(script_dir,data_directory,example_directory,file_name)\n",
    "target_path = os.path.join(script_dir,data_directory,example_directory,target_directory,file_name)\n",
    "\n",
    "\n",
    "sh.move(source_path, target_path)"
   ]
  },
  {
   "cell_type": "markdown",
   "metadata": {},
   "source": [
    "<strong>Example #2: Archiving A File</strong>\n",
    "\n",
    "We are now done processing the file and we need to archive it in case we need to drag it out and reload the system. \n",
    "\n",
    "The process of archiving is multi step.\n",
    "<ol>\n",
    "<li> Zip up the file.</li><br>\n",
    "<li> Move the file to the Archive folder.</li><br>\n",
    "<li> Blow away the original.</li><br>\n",
    "</ol>\n",
    "\n",
    "Step one and two we can do with one line of code. You might need to install pyunpack before this example will work. \n",
    "\n",
    "Once you run the example, check the Archive folder and the In folder. You should see a zip file in Archive and nothing in the In folder.\n",
    "\n",
    "If you want to run this example more than once, make sure you make copies of the sample file."
   ]
  },
  {
   "cell_type": "code",
   "execution_count": null,
   "metadata": {},
   "outputs": [],
   "source": [
    "import shutil as sh\n",
    "import os\n",
    "\n",
    "script_dir = os.getcwd()\n",
    "data_directory = 'data\\\\'\n",
    "example_directory = 'BasicFileOpsExample\\\\'\n",
    "source_directory = 'In\\\\'\n",
    "target_directory = 'Archive\\\\'\n",
    "file_name = 'full200606.csv'\n",
    "archive_name = os.path.splitext(file_name)[0] #remove file extension\n",
    "\n",
    "source_path = os.path.join(script_dir,data_directory,example_directory,source_directory)\n",
    "target_path = os.path.join(script_dir,data_directory,example_directory,target_directory,archive_name)\n",
    "archive_root = os.path.join(script_dir,data_directory,example_directory,target_directory)\n",
    "source_file_path = os.path.join(script_dir,data_directory,example_directory,source_directory, file_name)\n",
    "\n",
    "\n",
    "sh.make_archive(target_path, 'zip', archive_root, source_path)\n",
    "os.remove(source_file_path)"
   ]
  },
  {
   "cell_type": "markdown",
   "metadata": {},
   "source": [
    "Copyright © 2020, Mass Street Analytics, LLC. All Rights Reserved."
   ]
  }
 ],
 "metadata": {
  "kernelspec": {
   "display_name": "Python 3",
   "language": "python",
   "name": "python3"
  },
  "language_info": {
   "codemirror_mode": {
    "name": "ipython",
    "version": 3
   },
   "file_extension": ".py",
   "mimetype": "text/x-python",
   "name": "python",
   "nbconvert_exporter": "python",
   "pygments_lexer": "ipython3",
   "version": "3.7.3"
  }
 },
 "nbformat": 4,
 "nbformat_minor": 2
}
