{
 "cells": [
  {
   "cell_type": "markdown",
   "metadata": {},
   "source": [
    "<a href=\"https://massstreetuniversity.com/\"><img src=\"https://tutorials.massstreetuniversity.com/images/logo.png\" alt=\"School Logo\"></a><br><br><br>\n",
    "<a href=\"http://tutorials.massstreetuniversity.com/python/\">Tutorial Home</a>"
   ]
  },
  {
   "cell_type": "markdown",
   "metadata": {},
   "source": [
    "<h1>Release History</h1>"
   ]
  },
  {
   "cell_type": "markdown",
   "metadata": {},
   "source": [
    "20Oct20<br>\n",
    "<ol>\n",
    "    <li>Added more content to lesson 15.</li>\n",
    "    <li>Impoved sections IV, and X.</li>\n",
    "    <li>Published lessons 19, 24, 29.</li>\n",
    "</ol><br>\n",
    "14Oct20<br>\n",
    "<ol>\n",
    "    <li>Published sections VIII, IX, X, XI, XII.</li>\n",
    "</ol><br>\n",
    "13Oct20<br>\n",
    "<ol>\n",
    "    <li>Preface Completed</li>\n",
    "    <li>Published sections V, VI, VII.</li>\n",
    "    <li>Published lesson 34.</li>\n",
    "</ol><br>\n",
    "11Oct20<br>\n",
    "<ol>\n",
    "    <li>Published lesson 31, 32,and, 33.</li>\n",
    "</ol><br>\n",
    "10Oct20<br>\n",
    "<ol>\n",
    "    <li>Published lesson 17, 29,and, 30.</li>\n",
    "</ol><br>\n",
    "7Oct20<br>\n",
    "<ol>\n",
    "    <li>Fixed error in nav bar in lessons 10,11,12.</li>\n",
    "    <li>Rewrote lesson 11. </li>\n",
    "    <li>Rewrote lesson 3.</li>\n",
    "    <li>Published lesson 13,14,15, and 16.</li>\n",
    "</ol><br>\n",
    "6Oct20<br>\n",
    "<ol>\n",
    "    <li>Published Lesson 10,11, and 12.</li>\n",
    "</ol><br>\n",
    "5Oct20<br>\n",
    "<ol>\n",
    "    <li>Published Lesson 8 and 9.</li>\n",
    "    <li>Renamed tutorial to its official name.</li>\n",
    "</ol><br>\n",
    "27Sept20<br>\n",
    "<ol>\n",
    "    <li>Swapped the order of data types and variables lessons.</li>\n",
    "    <li>Created separate page specifically for release history.</li>\n",
    "    <li>Created Lesson 7.</li>\n",
    "</ol><br>\n",
    "26Sept20<br>\n",
    "<ol>\n",
    "    <li>First six lessons created.</li>\n",
    "    <li>Tutorial home page created.</li>\n",
    "</ol><br>"
   ]
  },
  {
   "cell_type": "markdown",
   "metadata": {},
   "source": [
    "Copyright © 2020, Mass Street Analytics, LLC. All Rights Reserved."
   ]
  }
 ],
 "metadata": {
  "kernelspec": {
   "display_name": "Python 3",
   "language": "python",
   "name": "python3"
  },
  "language_info": {
   "codemirror_mode": {
    "name": "ipython",
    "version": 3
   },
   "file_extension": ".py",
   "mimetype": "text/x-python",
   "name": "python",
   "nbconvert_exporter": "python",
   "pygments_lexer": "ipython3",
   "version": "3.7.3"
  }
 },
 "nbformat": 4,
 "nbformat_minor": 2
}
