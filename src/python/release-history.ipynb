{
 "cells": [
  {
   "cell_type": "markdown",
   "metadata": {},
   "source": [
    "<a href=\"https://massstreetuniversity.com/\"><img src=\"https://tutorials.massstreetuniversity.com/images/logo.png\" alt=\"School Logo\"></a><br><br><br>\n",
    "<a href=\"http://tutorials.massstreetuniversity.com/python/\">Tutorial Home</a>"
   ]
  },
  {
   "cell_type": "markdown",
   "metadata": {},
   "source": [
    "<h1>Release History</h1>"
   ]
  },
  {
   "cell_type": "markdown",
   "metadata": {},
   "source": [
    "6Oct20<br>\n",
    "<ol>\n",
    "    <li>Published Lesson 10,11, and 12.</li>\n",
    "</ol><br>\n",
    "5Oct20<br>\n",
    "<ol>\n",
    "    <li>Published Lesson 8 and 9.</li>\n",
    "    <li>Renamed tutorial to its official name.</li>\n",
    "</ol><br>\n",
    "27Sept20<br>\n",
    "<ol>\n",
    "    <li>Swapped the order of data types and variables lessons.</li>\n",
    "    <li>Created separate page specifically for release history.</li>\n",
    "    <li>Created Lesson 7.</li>\n",
    "</ol><br>\n",
    "26Sept20<br>\n",
    "<ol>\n",
    "    <li>First six lessons created.</li>\n",
    "    <li>Tutorial home page created.</li>\n",
    "</ol><br>"
   ]
  },
  {
   "cell_type": "markdown",
   "metadata": {},
   "source": [
    "Copyright © 2020, Mass Street Analytics, LLC. All Rights Reserved."
   ]
  }
 ],
 "metadata": {
  "kernelspec": {
   "display_name": "Python 3",
   "language": "python",
   "name": "python3"
  },
  "language_info": {
   "codemirror_mode": {
    "name": "ipython",
    "version": 3
   },
   "file_extension": ".py",
   "mimetype": "text/x-python",
   "name": "python",
   "nbconvert_exporter": "python",
   "pygments_lexer": "ipython3",
   "version": "3.7.3"
  }
 },
 "nbformat": 4,
 "nbformat_minor": 2
}
