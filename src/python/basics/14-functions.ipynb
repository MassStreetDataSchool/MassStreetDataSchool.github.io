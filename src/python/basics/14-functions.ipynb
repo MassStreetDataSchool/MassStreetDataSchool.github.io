{
 "cells": [
  {
   "cell_type": "markdown",
   "metadata": {},
   "source": [
    "<a href=\"https://massstreetuniversity.com/\"><img src=\"https://tutorials.massstreetuniversity.com/images/logo.png\" alt=\"School Logo\"></a><br><br><br>\n",
    "<a href=\"https://tutorials.massstreetuniversity.com/python/\">Tutorial Home</a> | <a href=\"https://tutorials.massstreetuniversity.com/python/basics/13-looping-with-for.html\">Previous</a> | <a href=\"https://tutorials.massstreetuniversity.com/python/basics/15-importing-modules.html\">Next</a>"
   ]
  },
  {
   "cell_type": "markdown",
   "metadata": {},
   "source": [
    "<h1>Lesson 14. Functions</h1>"
   ]
  },
  {
   "cell_type": "markdown",
   "metadata": {},
   "source": [
    "In this tutorial, we are not going to get into object-oriented programming. It is a complex topic that deserves a tutorial dedicated to that subject. \n",
    "\n",
    "When you are learning business analytics you can get pretty far just writing functions without having to go full blown objected oriented, so let’s focus on that.\n",
    "\n",
    "After a while, you will start to notice that you write the same block of code over and over. It might be the case that other blocks of code use this code, so you cut and paste the lines into other blocks. This is a classic example of code that needs to be turned into a function.\n",
    "\n",
    "In software engineering, we have a concept called DRY. Don’t repeat yourself. In other words, do not do the thing I just described. \n",
    "\n",
    "Modern programming languages have all kinds of tools and techniques that you can use to follow the DRY principle. The function is the most common and easiest to implement.\n",
    "\n",
    "Any block of code that you can write that is valid Python syntax can be placed inside of a function. There are practical limitations here, but, again, we will cover that in a more advanced tutorial.\n",
    "\n",
    "You can design your function in a manner such that it just does stuff without any outside input and the function does not produce any output. However, most likely, your function needs to do different things based on information passed to it by the line of code that activated it.\n",
    "\n",
    "You pass in information to functions through function parameters which are frequently referred to as arguments. You can send back output using the return keyword.\n",
    "\n",
    "When you are writing Python as a series of scripts and not as an object-oriented program, the code executes from top to bottom. That means functions HAVE to be defined before they can be used."
   ]
  },
  {
   "cell_type": "markdown",
   "metadata": {},
   "source": [
    "<h1>Function Syntax</h1>"
   ]
  },
  {
   "cell_type": "code",
   "execution_count": null,
   "metadata": {},
   "outputs": [],
   "source": [
    "def function_name(arg1, arg2,...,argN):\n",
    "    #do stuff\n",
    "    #return stuff\n",
    "    \n",
    "#call the function\n",
    "function_name(arg1, arg2,...,argN)"
   ]
  },
  {
   "cell_type": "markdown",
   "metadata": {},
   "source": [
    "<h1>Examples</h1>"
   ]
  },
  {
   "cell_type": "markdown",
   "metadata": {},
   "source": [
    "<strong>Example #1 Hello World! Part II. This Time It’s Personal!</strong>\n",
    "\n",
    "We are going to pull out this old dog and teach it a new trick! Instead of saying hello to every human on the planet, most of whom are jerks, and don’t deserve a hello, we’re going to personalize our greeting by passing in an argument. \n",
    "\n",
    "The argument will be the name of a specific person. That string value will be assigned to the variable we use as a name of the argument in the function. That variable can be referenced in the function."
   ]
  },
  {
   "cell_type": "code",
   "execution_count": 1,
   "metadata": {},
   "outputs": [
    {
     "name": "stdout",
     "output_type": "stream",
     "text": [
      "Hello Bob!\n"
     ]
    }
   ],
   "source": [
    "def hello_world(name):\n",
    "    print('Hello ' + name + '!')\n",
    "\n",
    "hello_world('Bob')"
   ]
  },
  {
   "cell_type": "markdown",
   "metadata": {},
   "source": [
    "<strong>Example #2 Passing In More Than One Argument</strong>\n",
    "\n",
    "Passing in arguments to functions can get CRAZY in Python. You can do all kinds of things like set up default values, or assign arguments based on position or keyword. \n",
    "\n",
    "As a new Python engineer who is only just using the built-in functionality of Python, you will find this kind of flexibility to be useful when you are calling the native functions of Python or Python modules. It is less fun when you are the person that has to implement things that others will use.\n",
    "\n",
    "Before that happens, there are a thousand things that have to happen in order. We are on number eight. Developing modules is number six hundred and ninety-two so we’re going to keep it simple here. \n",
    "\n",
    "The example below has three arguments. You pass in the arguments based on their position in the function call. In other words, the first argument in the function all will get assigned to the first argument in the function definition and so on."
   ]
  },
  {
   "cell_type": "code",
   "execution_count": 10,
   "metadata": {},
   "outputs": [
    {
     "name": "stdout",
     "output_type": "stream",
     "text": [
      "Good morning gentlemen.The temperature is 110 degrees.\n"
     ]
    }
   ],
   "source": [
    "def viper(greeting, temperature, units):\n",
    "    print(greeting + 'The temperature is ' + temperature + ' ' + units + '.')\n",
    "\n",
    "viper('Good morning gentlemen.', '110', 'degrees')"
   ]
  },
  {
   "cell_type": "markdown",
   "metadata": {},
   "source": [
    "<strong>Example #3 Returning Values</strong>\n",
    "\n",
    "Ok here is where I stop screwing around and grim up. Returning values is where functions start to earn their pay. While you can make a function do whatever, usually what you want done is the function to do some repetitive work on some arguments.\n",
    "\n",
    "Below is a trivial example. As we move through this tutorial, you will start to see the value of functions returning values."
   ]
  },
  {
   "cell_type": "code",
   "execution_count": 13,
   "metadata": {},
   "outputs": [
    {
     "name": "stdout",
     "output_type": "stream",
     "text": [
      "2\n"
     ]
    }
   ],
   "source": [
    "def divide(numerator, denominator):\n",
    "    quotient = numerator / denominator\n",
    "    return int(quotient)\n",
    "\n",
    "print(divide(10,5))"
   ]
  },
  {
   "cell_type": "markdown",
   "metadata": {},
   "source": [
    "Copyright © 2020, Mass Street Analytics, LLC. All Rights Reserved."
   ]
  }
 ],
 "metadata": {
  "kernelspec": {
   "display_name": "Python 3",
   "language": "python",
   "name": "python3"
  },
  "language_info": {
   "codemirror_mode": {
    "name": "ipython",
    "version": 3
   },
   "file_extension": ".py",
   "mimetype": "text/x-python",
   "name": "python",
   "nbconvert_exporter": "python",
   "pygments_lexer": "ipython3",
   "version": "3.7.3"
  }
 },
 "nbformat": 4,
 "nbformat_minor": 2
}
