{
 "cells": [
  {
   "cell_type": "markdown",
   "metadata": {},
   "source": [
    "<a href=\"https://massstreetuniversity.com/\"><img src=\"https://tutorials.massstreetuniversity.com/images/logo.png\" alt=\"School Logo\"></a><br><br><br>\n",
    "<a href=\"https://tutorials.massstreetuniversity.com/python/\">Tutorial Home</a> | <a href=\"https://tutorials.massstreetuniversity.com/python/basics/07-making-decisions.html\">Previous</a> | <a href=\"https://tutorials.massstreetuniversity.com/python/basics/09-control-flow-while.html\">Next</a>"
   ]
  },
  {
   "cell_type": "markdown",
   "metadata": {},
   "source": [
    "<h1>Lesson 8. Control Flow With if-elif-else</h1>"
   ]
  },
  {
   "cell_type": "markdown",
   "metadata": {},
   "source": [
    "Creating branching structures is computer science 101. Practically every language has an if-if else-else structure that you can use. This is Python’s."
   ]
  },
  {
   "cell_type": "markdown",
   "metadata": {},
   "source": [
    "<h1>if-elif-else Syntax</h1>"
   ]
  },
  {
   "cell_type": "code",
   "execution_count": null,
   "metadata": {},
   "outputs": [],
   "source": [
    "if condition:\n",
    "    #perform some task\n",
    "elif condition:\n",
    "    #if the initial condition isn't met and this condition is met, do this instead\n",
    "elif condition:\n",
    "    #if the previous condition are not met and this condition is met, do this instead\n",
    "else:\n",
    "    #if none of the preplanned conditions are met, perform this task"
   ]
  },
  {
   "cell_type": "markdown",
   "metadata": {},
   "source": [
    "<h1>Examples</h1>"
   ]
  },
  {
   "cell_type": "markdown",
   "metadata": {},
   "source": [
    "<strong>Example #1 Basic If Else Example</strong> "
   ]
  },
  {
   "cell_type": "code",
   "execution_count": 8,
   "metadata": {},
   "outputs": [
    {
     "name": "stdout",
     "output_type": "stream",
     "text": [
      "You can serve this person beer.\n"
     ]
    }
   ],
   "source": [
    "age = 25\n",
    "\n",
    "if age > 21:\n",
    "    print('You can serve this person beer.')\n",
    "elif 21 > age >=18:\n",
    "    print('No beer. Mark hand with X.')\n",
    "else:\n",
    "    print('Call the bouncer and have this person thrown out.')"
   ]
  },
  {
   "cell_type": "markdown",
   "metadata": {},
   "source": [
    "<strong>Example #2 Nested If Else Example</strong>"
   ]
  },
  {
   "cell_type": "code",
   "execution_count": 19,
   "metadata": {},
   "outputs": [
    {
     "name": "stdout",
     "output_type": "stream",
     "text": [
      "You can serve this person beer.\n",
      "HAPPY BIRTHDAY! FREE SHOTS!\n"
     ]
    }
   ],
   "source": [
    "age = 21\n",
    "all_ages_show = True\n",
    "birthday_on_id_equals_today = True\n",
    "\n",
    "if age >= 21:\n",
    "    print('You can serve this person beer.')\n",
    "    if birthday_on_id_equals_today:\n",
    "        print('HAPPY BIRTHDAY! FREE SHOTS!')\n",
    "elif 21 > age >=18:\n",
    "    if all_ages_show:\n",
    "        print('No beer. Mark hand with X.')\n",
    "    else:\n",
    "        print('Call the bouncer and have this person thrown out.')\n",
    "else:\n",
    "    print('Why is there a child in the bar?!')"
   ]
  },
  {
   "cell_type": "markdown",
   "metadata": {},
   "source": [
    "Copyright © 2020, Mass Street Analytics, LLC. All Rights Reserved."
   ]
  }
 ],
 "metadata": {
  "kernelspec": {
   "display_name": "Python 3",
   "language": "python",
   "name": "python3"
  },
  "language_info": {
   "codemirror_mode": {
    "name": "ipython",
    "version": 3
   },
   "file_extension": ".py",
   "mimetype": "text/x-python",
   "name": "python",
   "nbconvert_exporter": "python",
   "pygments_lexer": "ipython3",
   "version": "3.7.3"
  }
 },
 "nbformat": 4,
 "nbformat_minor": 2
}
