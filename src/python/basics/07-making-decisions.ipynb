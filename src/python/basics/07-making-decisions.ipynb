{
 "cells": [
  {
   "cell_type": "markdown",
   "metadata": {},
   "source": [
    "<a href=\"https://massstreetuniversity.com/\"><img src=\"https://tutorials.massstreetuniversity.com/images/logo.png\" alt=\"School Logo\"></a><br><br><br>\n",
    "<a href=\"https://tutorials.massstreetuniversity.com/python/\">Tutorial Home</a> | <a href=\"https://tutorials.massstreetuniversity.com/python/basics/06-arithmetic-operators.html\">Previous</a> | <a href=\"https://tutorials.massstreetuniversity.com/python/basics/08-control-flow-if-else.html\">Next</a>"
   ]
  },
  {
   "cell_type": "markdown",
   "metadata": {},
   "source": [
    "<h1>Lesson 7. Making Decisions</h1>"
   ]
  },
  {
   "cell_type": "markdown",
   "metadata": {},
   "source": [
    "When I worked at Accenture, I was embedded with another company's software engineering team. The team had a funny saying. \"Put some smarts in it.\" That's a reference to creating business logic around whatever ever we were attempting to automate.\n",
    "\n",
    "The whole bloody point of writing software in the first place is to automate business processes. However, business is complex. If you have not started your professional career, you may not be aware just how complex business processes can be or how ridiculous they can get.\n",
    "\n",
    "Most business processes are filled with all kinds of exceptions to rules. As you are automating processes, you have to figure out what to do when your software has to do something different based different inputs into the software. You have to “put some smarts in it.”\n",
    "\n",
    "That is what we are going to do in this section. We are going to learn to write software that is flexible enough to perform different functions when the situation calls for it.\n",
    "\n",
    "Python has numerous tools that allow you to build flexible software. Most of those tools require you to use Boolean logic to test rather or not some condition is true.\n",
    "\n",
    "<strong>Quick Overview Of Boolean Logic (Optional)</strong>\n",
    "\n",
    "If you are transitioning to Python from another language, then you can skip this section.\n",
    "\n",
    "It occurred to me that we’re on lesson seven, and I have been using a lot of terms that you may or may not be familiar with. It is not practical to teach you basic computer science in a coding tutorial. However, I can spend a few minutes explaining Boolean logic because it is fundamental to developing business logic.\n",
    "\n",
    "The way computers currently work is that everything inside the box exist in one of two states. It is either on or it is off. Currently, there is no in between. Open up the case on your computer and all that whiz bang stuff that you are looking at breaks down to something being on or off.\n",
    "\n",
    "In the computer, this on or off state is represented by the numbers 1 and 0 with 1 representing on and 0 representing off. On and off can also be represented by the Boolean data type values of True and False. In the lecture on data types, I already showed you how if you cast the Boolean True to an integer value, it will evaluate to 1. The reason why is the binary nature of the current state of computer engineering.\n",
    "\n",
    "<table width=\"100%\" border=\"1\" align=\"center\">\n",
    "  <tbody>\n",
    "    <tr>\n",
    "      <th scope=\"col\"><p>Synonyms for on</p></th>\n",
    "      <th scope=\"col\"><p>Synonyms for off</p></th>\n",
    "    </tr>\n",
    "\t   <tr>\n",
    "      <td valign=\"top\">True</td>\n",
    "      <td valign=\"top\">False</td>\n",
    "    </tr>\n",
    "\t    <tr>\n",
    "      <td valign=\"top\">1</td>\n",
    "      <td valign=\"top\">0</td>\n",
    "    </tr>\n",
    "    </tbody>\n",
    "</table>\n",
    "\n",
    "\n",
    "\n",
    "<strong>Comparison Operators</strong><br>\n",
    "\n",
    "When you are testing values and conditions, you are testing rather or not the current state of the value or condition is either true or false. That is fairly straight forward.\n",
    "\n",
    "Five is greater than one. This is true.\n",
    "\n",
    "Five is less than one. This is false.\n",
    "\n",
    "When you are writing business logic, you can write instructions based on rather or not the result of the evaluation of a condition is true or not.\n",
    "\n",
    "If (some condition) is true<br>\n",
    "&emsp;Do a series of task.<br>\n",
    "If (some condition) is false<br>\n",
    "&emsp;Do a different series of task.<br>\n",
    "\n",
    "You evaluate conditions using the comparison operators in the table below.<br>\n",
    "\n",
    "\n",
    "<table width=\"100%\" border=\"1\" align=\"center\">\n",
    "  <tbody>\n",
    "    <tr>\n",
    "      <th scope=\"col\">Operator</th>\n",
    "      <th scope=\"col\">Description</th>\n",
    "    </tr>\n",
    "\t   <tr>\n",
    "      <td valign=\"top\">==</td>\n",
    "      <td valign=\"top\">Equal to</td>\n",
    "    </tr>\n",
    "\t    <tr>\n",
    "      <td valign=\"top\">!=</td>\n",
    "      <td valign=\"top\">Not equal to</td>\n",
    "    </tr>\n",
    "\t     <tr>\n",
    "      <td valign=\"top\">&gt;</td>\n",
    "      <td valign=\"top\">Greater than</td>\n",
    "    </tr>\n",
    "\t     <tr>\n",
    "      <td valign=\"top\">&lt;</td>\n",
    "      <td valign=\"top\">Less than</td>\n",
    "    </tr>\n",
    "\t     <tr>\n",
    "      <td valign=\"top\">&gt;=</td>\n",
    "      <td valign=\"top\">Greater that or equal to</td>\n",
    "    </tr>\n",
    "\t     <tr>\n",
    "      <td valign=\"top\">&lt;=</td>\n",
    "      <td valign=\"top\">less than or equal to</td>\n",
    "    </tr>\n",
    "    </tbody>\n",
    "</table><br>\n",
    "\n",
    "The real fun of Boolean logic begins when you have to start combining conditions or test. Now you have to decide how much or how little of the combined condition test has to be true in order for the entire thing to evaluate to true. \n",
    "\n",
    "Five is greater than one AND ten is greater than five. This is true.\n",
    "\n",
    "Five is greater than one OR five is greater than ten. This is also true.\n",
    "\n",
    "The second statement is true because you told the computer that it was ok if only one statement was true by using the “or” keyword.\n",
    "\n",
    "When it comes to Boolean logic, your basic options are:\n",
    "<ul>\n",
    "<li>In order for the condition test to evaluate to true, the entire condition test has to be true.</li><br>\n",
    "<li>In order for the condition test to be true, at least one component has to be true.</li><br>\n",
    "<li>In order for the condition test to be true, the entire condition has to be false.</li><br>\n",
    "</ul>\n",
    "\n",
    "When I say these are your basic options, I am not kidding. Condition test can be incredibly complex. Complex enough that it can give you a headache trying to figure out if something should evaluate to true or false. In the strongest terms possible, I recommend that you do everything you can to keep your condition test simple and straight forward.\n",
    "\n",
    "You combine conditions by using the operators below.\n",
    "\n",
    "\n",
    "<strong>Logical Operators</strong><br>\n",
    "<table width=\"100%\" border=\"1\" align=\"center\">\n",
    "  <tbody>\n",
    "    <tr>\n",
    "      <th scope=\"col\">Operator</th>\n",
    "      <th scope=\"col\">Description</th>\n",
    "    </tr>\n",
    "\t   <tr>\n",
    "      <td valign=\"top\">and</td>\n",
    "      <td valign=\"top\">Both values have to be true</td>\n",
    "    </tr>\n",
    "\t    <tr>\n",
    "      <td valign=\"top\">or</td>\n",
    "      <td valign=\"top\">At least one value has to be true</td>\n",
    "    </tr>\n",
    "\t     <tr>\n",
    "      <td valign=\"top\">not</td>\n",
    "      <td valign=\"top\">Inverts the retrned boolean value</td>\n",
    "    </tr>\n",
    "    </tbody>\n",
    "</table>"
   ]
  },
  {
   "cell_type": "markdown",
   "metadata": {},
   "source": [
    "<h1>Examples</h1>"
   ]
  },
  {
   "cell_type": "markdown",
   "metadata": {},
   "source": [
    "<strong>Example #1 Using Comparison And Logic Operators</strong>\n",
    "\n",
    "Below we are going to do some condition test and then cast the results to the Boolean data type so you can see whether or not the condition evaluates to True or False. We will start simple then get increasingly ridiculous."
   ]
  },
  {
   "cell_type": "code",
   "execution_count": 2,
   "metadata": {},
   "outputs": [
    {
     "data": {
      "text/plain": [
       "True"
      ]
     },
     "execution_count": 2,
     "metadata": {},
     "output_type": "execute_result"
    }
   ],
   "source": [
    "bool(5>2)"
   ]
  },
  {
   "cell_type": "code",
   "execution_count": 4,
   "metadata": {},
   "outputs": [
    {
     "data": {
      "text/plain": [
       "False"
      ]
     },
     "execution_count": 4,
     "metadata": {},
     "output_type": "execute_result"
    }
   ],
   "source": [
    "bool((5>2) and (10<5))"
   ]
  },
  {
   "cell_type": "code",
   "execution_count": 5,
   "metadata": {},
   "outputs": [
    {
     "data": {
      "text/plain": [
       "True"
      ]
     },
     "execution_count": 5,
     "metadata": {},
     "output_type": "execute_result"
    }
   ],
   "source": [
    "bool(not((5>2) and (10<5)))"
   ]
  },
  {
   "cell_type": "code",
   "execution_count": null,
   "metadata": {},
   "outputs": [],
   "source": []
  },
  {
   "cell_type": "code",
   "execution_count": null,
   "metadata": {},
   "outputs": [],
   "source": []
  },
  {
   "cell_type": "code",
   "execution_count": null,
   "metadata": {},
   "outputs": [],
   "source": []
  },
  {
   "cell_type": "code",
   "execution_count": null,
   "metadata": {},
   "outputs": [],
   "source": []
  },
  {
   "cell_type": "code",
   "execution_count": null,
   "metadata": {},
   "outputs": [],
   "source": []
  },
  {
   "cell_type": "code",
   "execution_count": null,
   "metadata": {},
   "outputs": [],
   "source": []
  },
  {
   "cell_type": "code",
   "execution_count": null,
   "metadata": {},
   "outputs": [],
   "source": []
  },
  {
   "cell_type": "markdown",
   "metadata": {},
   "source": [
    "Copyright © 2020, Mass Street Analytics, LLC. All Rights Reserved."
   ]
  }
 ],
 "metadata": {
  "kernelspec": {
   "display_name": "Python 3",
   "language": "python",
   "name": "python3"
  },
  "language_info": {
   "codemirror_mode": {
    "name": "ipython",
    "version": 3
   },
   "file_extension": ".py",
   "mimetype": "text/x-python",
   "name": "python",
   "nbconvert_exporter": "python",
   "pygments_lexer": "ipython3",
   "version": "3.7.3"
  }
 },
 "nbformat": 4,
 "nbformat_minor": 2
}
