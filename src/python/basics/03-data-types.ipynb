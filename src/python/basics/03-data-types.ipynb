{
 "cells": [
  {
   "cell_type": "markdown",
   "metadata": {},
   "source": [
    "<a href=\"https://massstreetuniversity.com/\"><img src=\"https://tutorials.massstreetuniversity.com/images/logo.png\" alt=\"School Logo\"></a><br><br><br>\n",
    "<a href=\"https://tutorials.massstreetuniversity.com/python/\">Tutorial Home</a> | <a href=\"https://tutorials.massstreetuniversity.com/python/basics/02-code-comments.html\">Previous</a> | <a href=\"https://tutorials.massstreetuniversity.com/python/basics/04-variables.html\">Next</a>"
   ]
  },
  {
   "cell_type": "markdown",
   "metadata": {},
   "source": [
    "<h1>Lesson 3. Data Types</h1>"
   ]
  },
  {
   "cell_type": "markdown",
   "metadata": {},
   "source": [
    "Python is different from practically every other programming language that I have worked with in that you do not explicitly define data types. When you create a variable, you have to assign it a value. How you assign it a value will define the data type of the variable.\n",
    "\n",
    "If you are coming from another programming language, or are familiar with OO programming in general, then you may be familiar with the idea that class and data type are synonymous. Classes are objects and everything in Python is an object. That makes discussions about data types in Python simpler than it would be in other languages. \n",
    "\n",
    "This lesson goes over what I like to call the fundamental data types. These are the data types that you would find in all programming languages. Data types unique to Python like list and tuples are discussed in their own lessons.\n",
    "\n",
    "<strong>Mutable Versus Immutable</strong>\n",
    "\n",
    "We have to talk about a really important concept in Python: mutability.\n",
    "\n",
    "Some data types can be changed once you create them. Some data types cannot. The fancy word for this is mutable versus immutable. \n",
    "\n",
    "I considered mutability to be beyond the scope of this tutorial so we will not go into a deep discussion about how variables get assigned memory addresses. I only bring this up because mutability is a job interview trivia question. You might be asked to recall what data types are and are not mutable.\n",
    "\n",
    "Do not get me wrong. Mutability will drive how you write code. However, once you git gud with a language, you do not have to think about which data types are and are not mutable. You just automatically write efficient code without thinking about it and you only get questions about it in interviews.\n",
    "\n",
    "<strong>String</strong>\n",
    "\n",
    "Python stores textual data using the str object. Python has a lot of power to manipulate strings which we will be learning about in later lessons. Once you figure out how easy it is to work with string data in Python, you probably won’t want to learn any other programming language ever again.\n",
    "\n",
    "<strong>Boolean</strong>\n",
    "\n",
    "Every computer language gives you the power to represent true and false values. Python does it with the keywords True and False. The T and the F are capitalized and yes it matters.\n",
    "\n",
    "<strong>Integers</strong>\n",
    "\n",
    "Technically, Python supports every integer value between positive and negative infinity. In practice, you will be limited by your machine’s memory. \n",
    "\n",
    "<strong>Float</strong>\n",
    "\n",
    "Floats are how Python represents decimal values in a non-precise way. What that means is, when you are working with floats, you have to look out for things like rounding errors.\n",
    "\n",
    "Floats have their place in computer science, but, if you are going to work in analytics precision will be required.\n",
    "\n",
    "<strong>Decimal</strong>\n",
    "\n",
    "This is my recommended way to deal with real numbers. You have to be careful when you create your decimal value by passing the constructor either a string or integer value. If you pass the constructor a float value, the result will still suffer from approximation issues."
   ]
  },
  {
   "cell_type": "markdown",
   "metadata": {},
   "source": [
    "<h1>Examples</h1>"
   ]
  },
  {
   "cell_type": "markdown",
   "metadata": {},
   "source": [
    "<strong>Example #1 Creating Strings</strong>\n",
    "\n",
    "String variables are created by wrapping the value in quotes. You can use single or double quotes."
   ]
  },
  {
   "cell_type": "code",
   "execution_count": 1,
   "metadata": {},
   "outputs": [
    {
     "name": "stdout",
     "output_type": "stream",
     "text": [
      "This is a string value.\n",
      "This is also a string value.\n"
     ]
    }
   ],
   "source": [
    "foo = 'This is a string value.'\n",
    "foo2 = \"This is also a string value.\"\n",
    "\n",
    "print(foo)\n",
    "print(foo2)"
   ]
  },
  {
   "cell_type": "markdown",
   "metadata": {},
   "source": [
    "<strong>Example #2 Creating Booleans</strong>\n",
    "\n",
    "Booleans are both a data type and a value, so you don't have to explicitly assign a variable as a Boolean. As you can see below, when we cast these values to integers, they come out 0 and 1 just like we would expect from basic computer science."
   ]
  },
  {
   "cell_type": "code",
   "execution_count": 3,
   "metadata": {},
   "outputs": [
    {
     "name": "stdout",
     "output_type": "stream",
     "text": [
      "1\n",
      "0\n"
     ]
    }
   ],
   "source": [
    "print(int(True))\n",
    "print(int(False))"
   ]
  },
  {
   "cell_type": "markdown",
   "metadata": {},
   "source": [
    "<strong>Example #3 Creating Integers</strong>\n",
    "\n",
    "Creating integers is straight forward. You assign a variable a value that is a number but not a decimal and do not surround the value with quotes."
   ]
  },
  {
   "cell_type": "code",
   "execution_count": 5,
   "metadata": {},
   "outputs": [
    {
     "name": "stdout",
     "output_type": "stream",
     "text": [
      "3\n"
     ]
    }
   ],
   "source": [
    "x = 1\n",
    "y = 2\n",
    "\n",
    "print(x+y)"
   ]
  },
  {
   "cell_type": "markdown",
   "metadata": {},
   "source": [
    "<strong>Example #4 Creating Floats</strong>\n",
    "\n",
    "You create floats by using floating point numbers when you assign a variable a value. Below are some examples. There is also an example of how the imprecision of float can cause problems.\n",
    "\n",
    "If you do the last calculation by hand, you should get an answer of 0. I even plugged it into my TI-84 and got 0. Because it is a float the value of b gets printed out as a non-zero number."
   ]
  },
  {
   "cell_type": "code",
   "execution_count": 24,
   "metadata": {},
   "outputs": [
    {
     "name": "stdout",
     "output_type": "stream",
     "text": [
      "3.5\n",
      "0.1\n",
      "-5.551115123125783e-17\n"
     ]
    }
   ],
   "source": [
    "x = 1\n",
    "y = 2.5\n",
    "z = x + y\n",
    "\n",
    "print(z)\n",
    "\n",
    "a = 10e-2\n",
    "\n",
    "print(a)\n",
    "\n",
    "b = .3 - (.1 * 3)\n",
    "\n",
    "print(b) #What is this nonsense?"
   ]
  },
  {
   "cell_type": "markdown",
   "metadata": {},
   "source": [
    "<strong>Example #5 Creating Decimals</strong>\n",
    "\n",
    "An unfortunate thing about creating decimals is that you have to import a module. We will talk about modules in a later lesson, so I am going to hand wave them for now.\n",
    "\n",
    "We are going to fix the issue of the calculation of b from above by passing the Decimal constructor strings in place of float values."
   ]
  },
  {
   "cell_type": "code",
   "execution_count": 25,
   "metadata": {},
   "outputs": [
    {
     "name": "stdout",
     "output_type": "stream",
     "text": [
      "0.0\n"
     ]
    }
   ],
   "source": [
    "from decimal import *\n",
    "\n",
    "b = Decimal('.3') - (Decimal('.1') * 3)\n",
    "\n",
    "print(b) #That's more like it!"
   ]
  },
  {
   "cell_type": "markdown",
   "metadata": {},
   "source": [
    "Copyright © 2020, Mass Street Analytics, LLC. All Rights Reserved."
   ]
  }
 ],
 "metadata": {
  "kernelspec": {
   "display_name": "Python 3",
   "language": "python",
   "name": "python3"
  },
  "language_info": {
   "codemirror_mode": {
    "name": "ipython",
    "version": 3
   },
   "file_extension": ".py",
   "mimetype": "text/x-python",
   "name": "python",
   "nbconvert_exporter": "python",
   "pygments_lexer": "ipython3",
   "version": "3.7.3"
  }
 },
 "nbformat": 4,
 "nbformat_minor": 2
}
