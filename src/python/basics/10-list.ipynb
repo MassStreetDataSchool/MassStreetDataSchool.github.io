{
 "cells": [
  {
   "cell_type": "markdown",
   "metadata": {},
   "source": [
    "<a href=\"https://massstreetuniversity.com/\"><img src=\"https://tutorials.massstreetuniversity.com/images/logo.png\" alt=\"School Logo\"></a><br><br><br>\n",
    "<a href=\"https://tutorials.massstreetuniversity.com/python/\">Tutorial Home</a> | <a href=\"https://tutorials.massstreetuniversity.com/python/basics/09-control-flow-while.html\">Previous</a> | <a href=\"https://tutorials.massstreetuniversity.com/python/basics/11-tuples.html\">Next</a>"
   ]
  },
  {
   "cell_type": "markdown",
   "metadata": {},
   "source": [
    "<h1>Lesson 10. Data Structures Part I: List</h1>"
   ]
  },
  {
   "cell_type": "markdown",
   "metadata": {},
   "source": [
    "Most programming languages have the concept of an array. Arrays are sequences of values usually all of the same data type. \n",
    "\n",
    "Python took the concept of an array and made it much more powerful by creating three different data structures. Each structure has it’s uses which we will explore in later lessons. \n",
    "\n",
    "In the next three lessons, we are going to talk about how to create these unique data structures and how to work with them. The first structure we are going to talk about is called a list.\n",
    "\n",
    "A list is the closest structure to a classic array. Arrays have methods that allow you to work with the data stored in them. "
   ]
  },
  {
   "cell_type": "markdown",
   "metadata": {},
   "source": [
    "<h1>Examples</h1>"
   ]
  },
  {
   "cell_type": "markdown",
   "metadata": {},
   "source": [
    "<strong>Example #1 Creating List</strong>\n",
    "\n",
    "Unlike simpler data types, list can be created without initial values."
   ]
  },
  {
   "cell_type": "code",
   "execution_count": 4,
   "metadata": {},
   "outputs": [
    {
     "name": "stdout",
     "output_type": "stream",
     "text": [
      "['Eagle', 'Falcon', 'Tomcat']\n"
     ]
    }
   ],
   "source": [
    "empty_list = []\n",
    "\n",
    "fighters = ['Eagle', 'Falcon', 'Tomcat']\n",
    "print(fighters)"
   ]
  },
  {
   "cell_type": "markdown",
   "metadata": {},
   "source": [
    "<strong>Example #2 Adding Values To An Existing List</strong>"
   ]
  },
  {
   "cell_type": "code",
   "execution_count": 5,
   "metadata": {},
   "outputs": [
    {
     "name": "stdout",
     "output_type": "stream",
     "text": [
      "['Eagle', 'Falcon', 'Tomcat', 'Lightning II']\n"
     ]
    }
   ],
   "source": [
    "fighters.append('Lightning II')\n",
    "print(fighters)"
   ]
  },
  {
   "cell_type": "markdown",
   "metadata": {},
   "source": [
    "<strong>Example #3 Accessing Values In A List</strong>\n",
    "\n",
    "List values are accessed using an index number that represents the position of a value in the list. The index starts at 0 and the last value can be accessed using an index value of -1."
   ]
  },
  {
   "cell_type": "code",
   "execution_count": 6,
   "metadata": {},
   "outputs": [
    {
     "name": "stdout",
     "output_type": "stream",
     "text": [
      "Tomcat\n",
      "Lightning II\n"
     ]
    }
   ],
   "source": [
    "print(fighters[2])\n",
    "print(fighters[-1])"
   ]
  },
  {
   "cell_type": "markdown",
   "metadata": {},
   "source": [
    "Copyright © 2020, Mass Street Analytics, LLC. All Rights Reserved."
   ]
  }
 ],
 "metadata": {
  "kernelspec": {
   "display_name": "Python 3",
   "language": "python",
   "name": "python3"
  },
  "language_info": {
   "codemirror_mode": {
    "name": "ipython",
    "version": 3
   },
   "file_extension": ".py",
   "mimetype": "text/x-python",
   "name": "python",
   "nbconvert_exporter": "python",
   "pygments_lexer": "ipython3",
   "version": "3.7.3"
  }
 },
 "nbformat": 4,
 "nbformat_minor": 2
}
