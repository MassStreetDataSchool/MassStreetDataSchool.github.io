{
 "cells": [
  {
   "cell_type": "markdown",
   "metadata": {},
   "source": [
    "<a href=\"https://massstreetuniversity.com/\"><img src=\"https://tutorials.massstreetuniversity.com/images/logo.png\" alt=\"School Logo\"></a><br><br><br>\n",
    "<a href=\"https://tutorials.massstreetuniversity.com/python/\">Tutorial Home</a> | <a href=\"https://tutorials.massstreetuniversity.com/python/basics/12-dictionaries.html\">Previous</a> | <a href=\"https://tutorials.massstreetuniversity.com/python/basics/14-functions.html\">Next</a>"
   ]
  },
  {
   "cell_type": "markdown",
   "metadata": {},
   "source": [
    "<h1>Lesson 13. Looping With for</h1>"
   ]
  },
  {
   "cell_type": "markdown",
   "metadata": {},
   "source": [
    "We're gonna loop back to talking about loops (see what I did there?).\n",
    "\n",
    "The reason for the step back is because there are objects in Python that work with for loops in ways that make iterating through complex objects really easy. List, tuples, and dictionaries are three of those objects. I had to introduce them first before I showed you how to loop through them with for.\n",
    "\n",
    "For loops are another basic concept in computer science and you will find the for construct in most programming languages. For is my preferred way of looping. \n",
    "\n",
    "Technically, the for loop construct in Python is not like the for found in other programming languages. In other languages, you usually define a condition that is checked against an incrementing value like we saw back when we were talking about while. \n",
    "\n",
    "In Python, the for loop is for iterating over sequences. Those sequences can be the three complex data types that we are already familiar with. Later, we will see that sequences can include things like file names which comes in handy when you need to do work on a bunch of files in a folder.\n",
    "\n",
    "Just like in while, for can be used with break and continue to control the flow of the execution."
   ]
  },
  {
   "cell_type": "markdown",
   "metadata": {},
   "source": [
    "<h1>for Syntax</h1>"
   ]
  },
  {
   "cell_type": "code",
   "execution_count": null,
   "metadata": {},
   "outputs": [],
   "source": [
    "for [variable_name] in [object]:\n",
    "    #do stuff"
   ]
  },
  {
   "cell_type": "markdown",
   "metadata": {},
   "source": [
    "<h1>Examples</h1>"
   ]
  },
  {
   "cell_type": "markdown",
   "metadata": {},
   "source": [
    "<strong>Example #1 Looping Over A List</strong>\n",
    "\n",
    "The variable that you use in your for loop can be referred to in the code block. It represents the current value of the object you are iterating through. \n",
    "\n",
    "You can define the variable yourself, however, in certain use cases, the variable needs to be a Python reserved word. We will take a look at that when we get to looking at looping over files in a directory."
   ]
  },
  {
   "cell_type": "code",
   "execution_count": 1,
   "metadata": {},
   "outputs": [
    {
     "name": "stdout",
     "output_type": "stream",
     "text": [
      "Eagle\n",
      "Falcon\n",
      "Tomcat\n"
     ]
    }
   ],
   "source": [
    "fighters = ['Eagle', 'Falcon', 'Tomcat']\n",
    "\n",
    "for birds in fighters:\n",
    "    print(birds)"
   ]
  },
  {
   "cell_type": "markdown",
   "metadata": {},
   "source": [
    "<strong>Example #2 Looping Over A Tuple</strong>"
   ]
  },
  {
   "cell_type": "code",
   "execution_count": 2,
   "metadata": {},
   "outputs": [
    {
     "name": "stdout",
     "output_type": "stream",
     "text": [
      "38.9984961\n",
      "-104.8540895\n"
     ]
    }
   ],
   "source": [
    "lat_long = (38.9984961,-104.8540895)\n",
    "\n",
    "for x in lat_long:\n",
    "    print(x)"
   ]
  },
  {
   "cell_type": "markdown",
   "metadata": {},
   "source": [
    "<strong>Example #3 Looping Over A Dictionary</strong>"
   ]
  },
  {
   "cell_type": "code",
   "execution_count": 5,
   "metadata": {},
   "outputs": [
    {
     "name": "stdout",
     "output_type": "stream",
     "text": [
      "O1\n",
      "O2\n",
      "O3\n"
     ]
    }
   ],
   "source": [
    "paygrade_translation = {'O1':'2nd Lt','O2':'1st Lt','O3':'Capt'}\n",
    "\n",
    "#Just the keys\n",
    "for description in paygrade_translation.keys():\n",
    "    print(description)"
   ]
  },
  {
   "cell_type": "code",
   "execution_count": 6,
   "metadata": {},
   "outputs": [
    {
     "name": "stdout",
     "output_type": "stream",
     "text": [
      "2nd Lt\n",
      "1st Lt\n",
      "Capt\n"
     ]
    }
   ],
   "source": [
    "#Just the values\n",
    "for description in paygrade_translation.values():\n",
    "    print(description)"
   ]
  },
  {
   "cell_type": "code",
   "execution_count": 7,
   "metadata": {},
   "outputs": [
    {
     "name": "stdout",
     "output_type": "stream",
     "text": [
      "A paygrade of O1 is a 2nd Lt\n",
      "A paygrade of O2 is a 1st Lt\n",
      "A paygrade of O3 is a Capt\n"
     ]
    }
   ],
   "source": [
    "#The full key value pair\n",
    "#Notice how we add a second variable that can be referenced in the loop?\n",
    "\n",
    "for paygrade, description in paygrade_translation.items():\n",
    "    print('A paygrade of ' + paygrade + ' is a ' + description)"
   ]
  },
  {
   "cell_type": "markdown",
   "metadata": {},
   "source": [
    "<strong>Example #4 Looping Over A Predefined Range</strong>\n",
    "\n",
    "You can use for like you would in other languages using the range() method. The range method lets you define a range of values to loop over. The method has three parameters that define the range of values. The method can be called with one to three parameters.\n",
    "\n",
    "It is important to remember that the upward bound of the range is NOT inclusive. In other words, if you set an upward bound of 5, the stopping value will be 4."
   ]
  },
  {
   "cell_type": "code",
   "execution_count": 8,
   "metadata": {},
   "outputs": [
    {
     "name": "stdout",
     "output_type": "stream",
     "text": [
      "0\n",
      "1\n",
      "2\n",
      "3\n",
      "4\n"
     ]
    }
   ],
   "source": [
    "#Start at zero and you provide the maximum value.\n",
    "\n",
    "for x in range(5):\n",
    "    print(x)"
   ]
  },
  {
   "cell_type": "code",
   "execution_count": 10,
   "metadata": {},
   "outputs": [
    {
     "name": "stdout",
     "output_type": "stream",
     "text": [
      "15\n",
      "16\n",
      "17\n",
      "18\n",
      "19\n"
     ]
    }
   ],
   "source": [
    "#You provide the minimum and maximum value.\n",
    "\n",
    "for x in range(15,20):\n",
    "    print(x)"
   ]
  },
  {
   "cell_type": "code",
   "execution_count": 11,
   "metadata": {},
   "outputs": [
    {
     "name": "stdout",
     "output_type": "stream",
     "text": [
      "1\n",
      "3\n",
      "5\n",
      "7\n",
      "9\n"
     ]
    }
   ],
   "source": [
    "#You provide the minimum, maximum,and increment value.\n",
    "\n",
    "for x in range(1,10,2):\n",
    "    print(x)"
   ]
  },
  {
   "cell_type": "markdown",
   "metadata": {},
   "source": [
    "Copyright © 2020, Mass Street Analytics, LLC. All Rights Reserved."
   ]
  }
 ],
 "metadata": {
  "kernelspec": {
   "display_name": "Python 3",
   "language": "python",
   "name": "python3"
  },
  "language_info": {
   "codemirror_mode": {
    "name": "ipython",
    "version": 3
   },
   "file_extension": ".py",
   "mimetype": "text/x-python",
   "name": "python",
   "nbconvert_exporter": "python",
   "pygments_lexer": "ipython3",
   "version": "3.7.3"
  }
 },
 "nbformat": 4,
 "nbformat_minor": 2
}
