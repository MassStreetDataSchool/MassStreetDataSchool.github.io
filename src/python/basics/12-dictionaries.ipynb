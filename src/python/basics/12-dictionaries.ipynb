{
 "cells": [
  {
   "cell_type": "markdown",
   "metadata": {},
   "source": [
    "<a href=\"https://massstreetuniversity.com/\"><img src=\"https://tutorials.massstreetuniversity.com/images/logo.png\" alt=\"School Logo\"></a><br><br><br>\n",
    "<a href=\"https://tutorials.massstreetuniversity.com/python/\">Tutorial Home</a> | <a href=\"https://tutorials.massstreetuniversity.com/python/basics/11-tuples.html\">Previous</a> | <a href=\"https://tutorials.massstreetuniversity.com/python/basics/13-looping-with-for.html\">Next</a>"
   ]
  },
  {
   "cell_type": "markdown",
   "metadata": {},
   "source": [
    "<h1>Lesson 12. Data Structures Part III: Dictionaries</h1>"
   ]
  },
  {
   "cell_type": "markdown",
   "metadata": {},
   "source": [
    "Dictionaries are a way to store key value pairs. \n",
    "\n",
    "In business analytics, keys are used to uniquely identify values. In databases, keys can be used to identify an entire record consisting of several values. However, we frequently just want to identify a single atomic value. For this, we can use dictionaries.\n",
    "\n",
    "Dictionaries are created by passing in data in key value pairs separated by a colon. Each key value pair is then separated from the next key value pair by a comma. The entire set of key value pairs are surrounded by braces."
   ]
  },
  {
   "cell_type": "markdown",
   "metadata": {},
   "source": [
    "<h1>Examples</h1>"
   ]
  },
  {
   "cell_type": "markdown",
   "metadata": {},
   "source": [
    "<strong>Example #1 Creating A Dictionary</strong>"
   ]
  },
  {
   "cell_type": "code",
   "execution_count": 1,
   "metadata": {},
   "outputs": [
    {
     "name": "stdout",
     "output_type": "stream",
     "text": [
      "{'O1': '2nd Lt', 'O2': '1st Lt', 'O3': 'Capt'}\n"
     ]
    }
   ],
   "source": [
    "paygrade_translation = {'O1':'2nd Lt','O2':'1st Lt','O3':'Capt'}\n",
    "\n",
    "print(paygrade_translation)"
   ]
  },
  {
   "cell_type": "markdown",
   "metadata": {},
   "source": [
    "<strong>Example #2  Adding A New Key Value Pair</strong>"
   ]
  },
  {
   "cell_type": "code",
   "execution_count": 4,
   "metadata": {},
   "outputs": [
    {
     "name": "stdout",
     "output_type": "stream",
     "text": [
      "{'O1': '2nd Lt', 'O2': '1st Lt', 'O3': 'Capt', 'O4': 'Maj'}\n"
     ]
    }
   ],
   "source": [
    "paygrade_translation['O4'] = 'Maj'\n",
    "\n",
    "print(paygrade_translation)"
   ]
  },
  {
   "cell_type": "markdown",
   "metadata": {},
   "source": [
    "<strong>Example #3 Accessing A Value In A Dictionary</strong>"
   ]
  },
  {
   "cell_type": "code",
   "execution_count": 6,
   "metadata": {},
   "outputs": [
    {
     "name": "stdout",
     "output_type": "stream",
     "text": [
      "1st Lt\n"
     ]
    }
   ],
   "source": [
    "print(paygrade_translation['O2'])"
   ]
  },
  {
   "cell_type": "markdown",
   "metadata": {},
   "source": [
    "Copyright © 2020, Mass Street Analytics, LLC. All Rights Reserved."
   ]
  }
 ],
 "metadata": {
  "kernelspec": {
   "display_name": "Python 3",
   "language": "python",
   "name": "python3"
  },
  "language_info": {
   "codemirror_mode": {
    "name": "ipython",
    "version": 3
   },
   "file_extension": ".py",
   "mimetype": "text/x-python",
   "name": "python",
   "nbconvert_exporter": "python",
   "pygments_lexer": "ipython3",
   "version": "3.7.3"
  }
 },
 "nbformat": 4,
 "nbformat_minor": 2
}
