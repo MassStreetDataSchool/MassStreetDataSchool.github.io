{
 "cells": [
  {
   "cell_type": "markdown",
   "metadata": {},
   "source": [
    "<a href=\"https://massstreetuniversity.com/\"><img src=\"https://tutorials.massstreetuniversity.com/images/logo.png\" alt=\"School Logo\"></a><br><br><br>\n",
    "<a href=\"https://tutorials.massstreetuniversity.com/python/\">Tutorial Home</a> | <a href=\"https://tutorials.massstreetuniversity.com/python/basics/04-variables.html\">Previous</a> | <a href=\"https://tutorials.massstreetuniversity.com/python/basics/06-arithmetic-operators.html\">Next</a>\n"
   ]
  },
  {
   "cell_type": "markdown",
   "metadata": {},
   "source": [
    "<h1>Lesson 5. String Concatenation</h1>"
   ]
  },
  {
   "cell_type": "markdown",
   "metadata": {},
   "source": [
    "One way you can change the value of a variable if it is a string value is to take it and smoosh it together with another string. This is called string concatenation and it comes in handy when you need to do things like build file paths."
   ]
  },
  {
   "cell_type": "markdown",
   "metadata": {},
   "source": [
    "<h1>Examples</h1>"
   ]
  },
  {
   "cell_type": "markdown",
   "metadata": {},
   "source": [
    "<strong>Example #1 Smoosh!</strong>\n",
    "\n",
    "When you assign a string value to a variable, you let Python know it is a string by surrounding it in quotes. You can use single quotes or double quotes. Just be sure to be consistent. As you can see below, spaces are signified by a space in between two quotes."
   ]
  },
  {
   "cell_type": "code",
   "execution_count": 12,
   "metadata": {},
   "outputs": [
    {
     "name": "stdout",
     "output_type": "stream",
     "text": [
      "Bob\n",
      "Bob Wakefield\n"
     ]
    }
   ],
   "source": [
    "name = 'Bob'\n",
    "\n",
    "print(name)\n",
    "\n",
    "name = name + ' ' + 'Wakefield'\n",
    "\n",
    "print(name)"
   ]
  },
  {
   "cell_type": "markdown",
   "metadata": {},
   "source": [
    "<strong>Example #2 Building File Paths</strong>\n",
    "\n",
    "At some point you are probably going to need to move files around on a machine. Some Python methods require that you specify a file name while others just need a directory.\n",
    "\n",
    "In either case, you want to build a string out of your file path in such a way that you get maximum flexibility out of the whole string. You do that by breaking up the file path into things that change and things that stay the same.\n",
    "\n",
    "In the variables tutorial, you saw the sophisticated way to do this. I am going to show you a more brute force approach.\n",
    "\n",
    "See how we break the string down so it is three component parts? In the real world, you will frequently write processes where the file name will change as you loop through a directory. I have simulated that here by reassigning the variable file_name to a new value.\n",
    "\n",
    "Also notice how I have written the double backslashes. That is because the backslash has special meaning in Python. The backslash is used to denote that a special character is coming like \\n which represents the ASCII linefeed value. The backslash escapes the n so the Python interpreter knows that \\n means LF and not just the literal string '\\n'.\n",
    "\n",
    "Since backslash is the escape character, putting another backslash in front of a backslash “escapes” the first backslash and now the Python interpreter will know to treat the initial backslash like any other string."
   ]
  },
  {
   "cell_type": "code",
   "execution_count": 13,
   "metadata": {},
   "outputs": [
    {
     "name": "stdout",
     "output_type": "stream",
     "text": [
      "\\User\\Directory\\Projects\\Website\\Copy\\Academics\\Tutorials\\images\\sql.jpg\n",
      "\\User\\Directory\\Projects\\Website\\Copy\\Academics\\Tutorials\\images\\python.jpg\n"
     ]
    }
   ],
   "source": [
    "website_projects_dir = '\\\\User\\\\Directory\\\\Projects\\\\Website'\n",
    "tutorial_images_dir = '\\\\Copy\\\\Academics\\\\Tutorials\\\\images'\n",
    "file_name = '\\\\sql.jpg'\n",
    "abs_file_path = website_projects_dir + tutorial_images_dir + file_name\n",
    "\n",
    "print(abs_file_path)\n",
    "\n",
    "file_name = '\\\\python.jpg'\n",
    "abs_file_path = website_projects_dir + tutorial_images_dir + file_name\n",
    "\n",
    "print(abs_file_path)"
   ]
  },
  {
   "cell_type": "markdown",
   "metadata": {},
   "source": [
    "Copyright © 2020, Mass Street Analytics, LLC. All Rights Reserved."
   ]
  }
 ],
 "metadata": {
  "kernelspec": {
   "display_name": "Python 3",
   "language": "python",
   "name": "python3"
  },
  "language_info": {
   "codemirror_mode": {
    "name": "ipython",
    "version": 3
   },
   "file_extension": ".py",
   "mimetype": "text/x-python",
   "name": "python",
   "nbconvert_exporter": "python",
   "pygments_lexer": "ipython3",
   "version": "3.7.3"
  }
 },
 "nbformat": 4,
 "nbformat_minor": 2
}
