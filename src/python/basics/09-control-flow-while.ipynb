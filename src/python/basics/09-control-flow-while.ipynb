{
 "cells": [
  {
   "cell_type": "markdown",
   "metadata": {},
   "source": [
    "<a href=\"https://massstreetuniversity.com/\"><img src=\"https://tutorials.massstreetuniversity.com/images/logo.png\" alt=\"School Logo\"></a><br><br><br>\n",
    "<a href=\"https://tutorials.massstreetuniversity.com/python/\">Tutorial Home</a> | <a href=\"https://tutorials.massstreetuniversity.com/python/basics/08-control-flow-if-else.html\">Previous</a> | <a href=\"https://tutorials.massstreetuniversity.com/python/basics/10-list.html\">Next</a>"
   ]
  },
  {
   "cell_type": "markdown",
   "metadata": {},
   "source": [
    "<h1>Lesson 9. Control Flow With while</h1>"
   ]
  },
  {
   "cell_type": "markdown",
   "metadata": {},
   "source": [
    "In your software engineering career, you will have occasion to repeatedly execute a block of code based on some condition. In every programming language, there are a couple of constructs that allow you to do this. In this lesson, I am going to introduce one of the Python looping methods.\n",
    "\n",
    "The while loop is not the best way to create loops in Python. However, it is a construct that exist that is fundamental to the language, so I am going to explain how it works now. In later lessons, we will learn a more efficient looping tool.\n",
    "\n",
    "The while loop is aptly named. Do something while some condition exists. The key thing to remember is that the condition is checked at the top of the loop. Not understanding that is how you wind up with code executing outside of the range that you intended. \n",
    "\n",
    "While loops are a huge source of bugs in your code. If you do not construct your loop properly you can wind up with code that performs outside of the bounds defined by your condition, or, you can wind up with the dreaded infinite loop. \n",
    "\n",
    "An infinite loop is exactly like it sounds. Your loop will go on forever until you either stop the interpreter, or you eat all the resources on your machine. Neither of these events are desirable. Put another way, you want to avoid those things happening at all cost.\n",
    "\n",
    "<strong>break AND continue</strong> \n",
    "\n",
    "While works with two other constructs: break and continue. You use these constructs when you need to get out of your loop or skip some code in your loop.\n",
    "\n",
    "<ul>\n",
    "    <li><strong>break</strong>: Breaks you out of the loop. Control returns to the code block after the loop.</li><br>\n",
    "    <li><strong>continue</strong>: Skips the rest of the code in your loop and sends control back to the top of the loop for a condition check. </li><br>\n",
    "</ul>\n",
    "That continue statement is clearly another opportunity for you to mess up and get fired. Make sure that, wherever you put your continue statement, it does not prevent any incrementors from executing, or, at the least, code for that scenario."
   ]
  },
  {
   "cell_type": "markdown",
   "metadata": {},
   "source": [
    "<h1>while Syntax</h1>"
   ]
  },
  {
   "cell_type": "code",
   "execution_count": null,
   "metadata": {},
   "outputs": [],
   "source": [
    "while condition:\n",
    "    #do something"
   ]
  },
  {
   "cell_type": "markdown",
   "metadata": {},
   "source": [
    "<h1>Examples</h1>"
   ]
  },
  {
   "cell_type": "markdown",
   "metadata": {},
   "source": [
    "<strong>Example #1 Incrementing An Index Value</strong>\n",
    "\n",
    "In other languages, you frequently have to loop through a data structure called an array. Array values are referenced by some index value. While loops are usually the construct that you use to increment the index value as you move through the array.\n",
    "\n",
    "In this example, I am going to introduce the concept of increment and decrement by one. Python does not have an increment/decrement operator, so we have to MacGyver a solution with what we have laying around. Here is how you increment and decrement in Python.\n",
    "\n",
    "Step 1. Find a paperclip.<br>\n",
    "Step 2. Find some chewing gum.<br>\n",
    "Step 3. Throw the paperclip away.<br>\n",
    "Step 4. Put the chewing gum in your mouth.<br>\n",
    "Step 5. Use the following syntax to increment and decrement values.<br>"
   ]
  },
  {
   "cell_type": "code",
   "execution_count": 4,
   "metadata": {},
   "outputs": [
    {
     "name": "stdout",
     "output_type": "stream",
     "text": [
      "6\n",
      "4\n"
     ]
    }
   ],
   "source": [
    "x = 5\n",
    "y = 5\n",
    "\n",
    "#If you are sharp, you will notice that you are not limited to incrementing or decrementing by just 1 as is the case in other languages.\n",
    "x += 1\n",
    "y -= 1\n",
    "\n",
    "print(x)\n",
    "print(y)"
   ]
  },
  {
   "cell_type": "code",
   "execution_count": 7,
   "metadata": {},
   "outputs": [
    {
     "name": "stdout",
     "output_type": "stream",
     "text": [
      "0\n",
      "1\n",
      "2\n",
      "3\n",
      "4\n",
      "5\n",
      "6\n",
      "7\n",
      "8\n",
      "9\n"
     ]
    }
   ],
   "source": [
    "i = 0\n",
    "\n",
    "while i < 10:\n",
    "    print(i)\n",
    "    i += 1"
   ]
  },
  {
   "cell_type": "markdown",
   "metadata": {},
   "source": [
    "Watch what happens when we put the incrementor above the print statement. As you can see, i winds up being a value outside of the condition specified in i < 10. Having your incrementor above your code block is not necessarily wrong or a bad thing. It is merely something to be aware of. The condition defines where you put the incrementor, but the reverse can also be true; the incrementor can help defined your condition."
   ]
  },
  {
   "cell_type": "code",
   "execution_count": 8,
   "metadata": {},
   "outputs": [
    {
     "name": "stdout",
     "output_type": "stream",
     "text": [
      "1\n",
      "2\n",
      "3\n",
      "4\n",
      "5\n",
      "6\n",
      "7\n",
      "8\n",
      "9\n",
      "10\n"
     ]
    }
   ],
   "source": [
    "i = 0\n",
    "\n",
    "while i < 10:\n",
    "    i += 1\n",
    "    print(i)"
   ]
  },
  {
   "cell_type": "markdown",
   "metadata": {},
   "source": [
    "Since we do not want to process integer values greater than 9, we need to change our condition. This is technically correct, however, as you can see, it does not make a whole lot of sense. That is to say, it is not “readable”. You cannot look at the code and understand what is going on right away.\n",
    "\n",
    "Readability is a hallmark of Python code. In a later lesson, we are going to get into how to write things so they are considered “Pythonic”. For now, I’m not gonna lie. In the real world, I’ve written complex code blocks where I couldn’t understand why it was processing outside of the bounds of the condition. Instead of doing the hard work and correcting it, I’ll just find a value that for the condition, so the code won’t run out of bounds and leave that garbage for the next guy to deal with. Whatever bro. I get phat paid for code that WORKS, not code that looks pretty.\n",
    "\n",
    "(Ok, I’m just kidding. I’ll go back and fix it when I have time.)"
   ]
  },
  {
   "cell_type": "code",
   "execution_count": 11,
   "metadata": {},
   "outputs": [
    {
     "name": "stdout",
     "output_type": "stream",
     "text": [
      "1\n",
      "2\n",
      "3\n",
      "4\n",
      "5\n",
      "6\n",
      "7\n",
      "8\n",
      "9\n"
     ]
    }
   ],
   "source": [
    "i = 0\n",
    "\n",
    "while i <= 8:\n",
    "    i += 1\n",
    "    print(i)"
   ]
  },
  {
   "cell_type": "markdown",
   "metadata": {},
   "source": [
    "Most people think in integer terms, but it is possible to increment by other values including real numbers. Obviously, incrementing by irrational numbers would be, uh, irrational and incrementing by imaginary numbers should only happen in your head. Otherwise, you are free to increment however you want."
   ]
  },
  {
   "cell_type": "code",
   "execution_count": 13,
   "metadata": {},
   "outputs": [
    {
     "name": "stdout",
     "output_type": "stream",
     "text": [
      "0\n",
      "0.5\n",
      "1.0\n",
      "1.5\n",
      "2.0\n",
      "2.5\n",
      "3.0\n",
      "3.5\n",
      "4.0\n",
      "4.5\n",
      "5.0\n",
      "5.5\n",
      "6.0\n",
      "6.5\n",
      "7.0\n",
      "7.5\n",
      "8.0\n",
      "8.5\n",
      "9.0\n",
      "9.5\n"
     ]
    }
   ],
   "source": [
    "i = 0\n",
    "\n",
    "while i < 10:\n",
    "   print(i)\n",
    "   i += .5"
   ]
  },
  {
   "cell_type": "markdown",
   "metadata": {},
   "source": [
    "<strong>Example #2 Using break And continue To Find Prime Numbers</strong>\n",
    "\n",
    "Below is a horribly inefficient algorithm* to find all the prime numbers between 2** and 50. I wrote this garbage for illustration purposes only. Never write anything like this in the real world.\n",
    "\n",
    "I have set the variable upward_bound to 50. Find a chart of prime numbers and play with the value of upward bound. See what the code produces and see if it matches your prime number chart.\n",
    "\n",
    "*For those new to computer science, an algorithm is a set of instructions that perform the same task over and over. In data science, you will hear the word algorithm a lot. When I create the course CSCI200 Fundamentals In Computer Science, we will talk more about algorithms. For now, all you need to know is that, contrary to what some folks in the c-suite think, algorithms do <strong>not</strong> cure cancer.\n",
    "\n",
    "**Fun math fact. I learned in grade school that a prime number is a number that is only divisible by itself and 1. Despite the fact that 1 seems to fit both of those conditions, 1 is <strong>not</strong> a prime number. I was today years old when I learned that."
   ]
  },
  {
   "cell_type": "code",
   "execution_count": 25,
   "metadata": {},
   "outputs": [
    {
     "name": "stdout",
     "output_type": "stream",
     "text": [
      "Here are all prime numbers between 2 and 50\n",
      "2\n",
      "3\n",
      "5\n",
      "7\n",
      "11\n",
      "13\n",
      "17\n",
      "19\n",
      "23\n",
      "29\n",
      "31\n",
      "37\n",
      "41\n",
      "43\n",
      "47\n"
     ]
    }
   ],
   "source": [
    "i = 2\n",
    "upward_bound = 50\n",
    "\n",
    "print('Here are all prime numbers between 2 and ' + str(upward_bound))\n",
    "\n",
    "while i <= upward_bound:\n",
    "    x = i - 1\n",
    "    if i == 2:\n",
    "        print(i)\n",
    "        i += 1\n",
    "        continue\n",
    "    else:\n",
    "        while i > x > 1:\n",
    "            #print('x = ' + str(x))\n",
    "            if i % x == 0:\n",
    "                break\n",
    "            elif x == 2:\n",
    "                print(i)\n",
    "                break\n",
    "            else:\n",
    "                x -= 1\n",
    "    i += 1"
   ]
  },
  {
   "cell_type": "markdown",
   "metadata": {},
   "source": [
    "Copyright © 2020, Mass Street Analytics, LLC. All Rights Reserved."
   ]
  }
 ],
 "metadata": {
  "kernelspec": {
   "display_name": "Python 3",
   "language": "python",
   "name": "python3"
  },
  "language_info": {
   "codemirror_mode": {
    "name": "ipython",
    "version": 3
   },
   "file_extension": ".py",
   "mimetype": "text/x-python",
   "name": "python",
   "nbconvert_exporter": "python",
   "pygments_lexer": "ipython3",
   "version": "3.7.3"
  }
 },
 "nbformat": 4,
 "nbformat_minor": 2
}
