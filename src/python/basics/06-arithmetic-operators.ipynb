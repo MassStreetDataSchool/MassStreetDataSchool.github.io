{
 "cells": [
  {
   "cell_type": "markdown",
   "metadata": {},
   "source": [
    "<a href=\"https://massstreetuniversity.com/\"><img src=\"https://tutorials.massstreetuniversity.com/images/logo.png\" alt=\"School Logo\"></a><br><br><br>\n",
    "<a href=\"https://tutorials.massstreetuniversity.com/python/\">Tutorial Home</a> | <a href=\"https://tutorials.massstreetuniversity.com/python/basics/05-string-concatenation.html\">Previous</a> | <a href=\"https://tutorials.massstreetuniversity.com/python/basics/07-making-decisions.html\">Next</a>"
   ]
  },
  {
   "cell_type": "markdown",
   "metadata": {},
   "source": [
    "<h1>Lesson 6. Arithmetic Operators</h1>"
   ]
  },
  {
   "cell_type": "markdown",
   "metadata": {},
   "source": [
    "The arithmetic operators in Python should be just as familiar to you as they were in grade school. However, there are three unusual operators that we need to talk about real quick.\n",
    "\n",
    "The first strange operator is integer division which is performed by a double forward slash between the numerator and denominator. Integer division rounds down to the nearest integer value.\n",
    "\n",
    "Modulo, which is performed by the percent sign between the numerator and denominator, returns the remainder value from a division operation.\n",
    "\n",
    "Exponent you should be familiar with. The only odd thing about it is exponent operations are usually performed by ^ in other languages. In this case, it is performed with two asterisks."
   ]
  },
  {
   "cell_type": "markdown",
   "metadata": {},
   "source": [
    "<h1>Examples</h1>"
   ]
  },
  {
   "cell_type": "markdown",
   "metadata": {},
   "source": [
    "<strong>Example #1 Basic Math Operations</strong> \n",
    "\n",
    "I want to point out two things. The first is the print statements.\n",
    "\n",
    "Do you see how each variable is preceded by str? That is because those variables are either integers or floats. If we want to smoosh a number together with a string, we have to cast the number as a string and that is what the str method does.\n",
    "\n",
    "The second thing is the value of the division operation. If you are sharp you will see that we divided two integer values. Despite the fact that the result was an integer, the data type of division resulted in a float."
   ]
  },
  {
   "cell_type": "code",
   "execution_count": 14,
   "metadata": {},
   "outputs": [
    {
     "name": "stdout",
     "output_type": "stream",
     "text": [
      "The result of addition was 15\n",
      "The result of subtraction was 5\n",
      "The result of multiplication was 50\n",
      "The result of division was 2.0\n",
      "The result of integer_division was 2\n",
      "The result of modulo was 0\n",
      "The result of exponent was 100000\n"
     ]
    }
   ],
   "source": [
    "x = 10\n",
    "y = 5\n",
    "\n",
    "addition = x + y\n",
    "subtraction = x - y\n",
    "multiplication = x * y\n",
    "division = x / y\n",
    "integer_division = x // y  \n",
    "modulo = x % y\n",
    "exponent = x ** y\n",
    "\n",
    "print('The result of addition was ' + str(addition))\n",
    "print('The result of subtraction was ' + str(subtraction))\n",
    "print('The result of multiplication was ' + str(multiplication))\n",
    "print('The result of division was ' + str(division))\n",
    "print('The result of integer_division was ' + str(integer_division))\n",
    "print('The result of modulo was ' + str(modulo))\n",
    "print('The result of exponent was ' + str(exponent))"
   ]
  },
  {
   "cell_type": "markdown",
   "metadata": {},
   "source": [
    "Copyright © 2020, Mass Street Analytics, LLC. All Rights Reserved."
   ]
  }
 ],
 "metadata": {
  "kernelspec": {
   "display_name": "Python 3",
   "language": "python",
   "name": "python3"
  },
  "language_info": {
   "codemirror_mode": {
    "name": "ipython",
    "version": 3
   },
   "file_extension": ".py",
   "mimetype": "text/x-python",
   "name": "python",
   "nbconvert_exporter": "python",
   "pygments_lexer": "ipython3",
   "version": "3.7.3"
  }
 },
 "nbformat": 4,
 "nbformat_minor": 2
}
