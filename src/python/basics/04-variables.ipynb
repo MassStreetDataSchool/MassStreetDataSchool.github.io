{
 "cells": [
  {
   "cell_type": "markdown",
   "metadata": {},
   "source": [
    "<a href=\"https://massstreetuniversity.com/\"><img src=\"https://tutorials.massstreetuniversity.com/images/logo.png\" alt=\"School Logo\"></a><br><br><br>\n",
    "<a href=\"https://tutorials.massstreetuniversity.com/python/\">Tutorial Home</a> | <a href=\"https://tutorials.massstreetuniversity.com/python/basics/03-data-types.html\">Previous</a> | <a href=\"https://tutorials.massstreetuniversity.com/python/basics/05-string-concatenation.html\">Next</a>"
   ]
  },
  {
   "cell_type": "markdown",
   "metadata": {},
   "source": [
    "<h1>Lesson 4. Variables</h1>"
   ]
  },
  {
   "cell_type": "markdown",
   "metadata": {},
   "source": [
    "Variables in Python are fun.\n",
    "\n",
    "Variables are data in programs that either change on the fly or are used to represent some value that you set once, and then use the variable in your code in place of that value. \n",
    "\n",
    "Clearly variables are what make your program work. \n",
    "\n",
    "Python is a strong and dynamically typed language. That is computer science talk for a language where the data types of variables do not change without explicit conversion (strongly typed), and that data type is decided at runtime (dynamically typed).\n",
    "\n",
    "That is all well and good, but what all that really means is that you do not have to specify a data type for a variable when you declare it. \n",
    "\n",
    "However, you do have to assign a variable a value when you create one. That initial variable definition is what decides the data type of the variable."
   ]
  },
  {
   "cell_type": "markdown",
   "metadata": {},
   "source": [
    "<h1>Examples</h1>"
   ]
  },
  {
   "cell_type": "markdown",
   "metadata": {},
   "source": [
    "<strong>Example #1 Simple Variable Declaration</strong>"
   ]
  },
  {
   "cell_type": "code",
   "execution_count": 12,
   "metadata": {},
   "outputs": [
    {
     "name": "stdout",
     "output_type": "stream",
     "text": [
      "nom nom nom\n"
     ]
    }
   ],
   "source": [
    "cookies = 'nom nom nom'\n",
    "\n",
    "print(cookies)"
   ]
  },
  {
   "cell_type": "markdown",
   "metadata": {},
   "source": [
    "<strong>Example #2 Using A Variable To Simplify Code</strong>\n",
    "\n",
    "It is often the case that variables hold values that can be a bit unwieldy like file paths or URLs. In this case, we create a variable and assign it the unwieldy value so later in our code, we can use the simpler representation of the value."
   ]
  },
  {
   "cell_type": "code",
   "execution_count": null,
   "metadata": {},
   "outputs": [],
   "source": [
    "import os\n",
    "\n",
    "script_dir = os.getcwd()\n",
    "rel_path = \"data\\\\Eurostat.zip\"\n",
    "abs_file_path = os.path.join(script_dir, rel_path)\n",
    "\n",
    "print(abs_file_path)"
   ]
  },
  {
   "cell_type": "markdown",
   "metadata": {},
   "source": [
    "<strong>Example #3 Changing The Value Of A Variable</strong>\n",
    "\n",
    "Here is an example of changing the value of a variable."
   ]
  },
  {
   "cell_type": "code",
   "execution_count": 14,
   "metadata": {},
   "outputs": [
    {
     "name": "stdout",
     "output_type": "stream",
     "text": [
      "2\n"
     ]
    }
   ],
   "source": [
    "i = 1\n",
    "\n",
    "i = i + 1\n",
    "\n",
    "print(i)"
   ]
  },
  {
   "cell_type": "markdown",
   "metadata": {},
   "source": [
    "Copyright © 2020, Mass Street Analytics, LLC. All Rights Reserved."
   ]
  }
 ],
 "metadata": {
  "kernelspec": {
   "display_name": "Python 3",
   "language": "python",
   "name": "python3"
  },
  "language_info": {
   "codemirror_mode": {
    "name": "ipython",
    "version": 3
   },
   "file_extension": ".py",
   "mimetype": "text/x-python",
   "name": "python",
   "nbconvert_exporter": "python",
   "pygments_lexer": "ipython3",
   "version": "3.7.3"
  }
 },
 "nbformat": 4,
 "nbformat_minor": 2
}
