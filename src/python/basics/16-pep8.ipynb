{
 "cells": [
  {
   "cell_type": "markdown",
   "metadata": {},
   "source": [
    "<a href=\"https://massstreetuniversity.com/\"><img src=\"https://tutorials.massstreetuniversity.com/images/logo.png\" alt=\"School Logo\"></a><br><br><br>\n",
    "<a href=\"https://tutorials.massstreetuniversity.com/python/\">Tutorial Home</a> | <a href=\"https://tutorials.massstreetuniversity.com/python/basics/15-importing-modules.html\">Previous</a> | <a href=\"https://tutorials.massstreetuniversity.com/python/advanced/17-map.html\">Next</a>"
   ]
  },
  {
   "cell_type": "markdown",
   "metadata": {},
   "source": [
    "<h1>Lesson 16. Python Programming Standards</h1>"
   ]
  },
  {
   "cell_type": "markdown",
   "metadata": {},
   "source": [
    "<strong>Formatting Basics</strong>\n",
    "\n",
    "I’m a pretty chill person. It’s hard to harsh my mellow. One thing that does send me into a blinding rage is poorly formatted hard to read code.\n",
    "\n",
    "Software engineers don’t just work in teams simultaneously. They also work as a relay team. Engineers come and go, but the code base of an organization may be around for decades. \n",
    "\n",
    "When an engineer moves on, somebody will be brought in to replace that person. That person is going to have to pick up where the last engineer left off. Once you start working as a software engineer, you will discover very quickly that trying to read other people’s code is a special kind of hell rivaled only by you trying to read your own code from a few days ago.\n",
    "\n",
    "Getting everybody on the same page in terms of how to write code helps with this problem. If you work at a large enough organization, they might have a coding style guide that you will be expected to adhere to. The style guide will tell you how to name things and how your code should look. It may seem trivial but having a document and code review processes that demand things like having x number of spaces between lines of code can be the difference between being appropriately productive and mad chaos.\n",
    "\n",
    "Corporate style guides are great, but they are specific to that organization. Python has a style guide built into its interpreter that ensures there is something of a universal standard in how your code looks.\n",
    "\n",
    "As a new person, the main things you need to be concerned about is spaces between code blocks and indenting.\n",
    "\n",
    "If you are using JuypterLab, space between code blocks will not be that big a deal. If you are using PyCharm to develop with, PyCharm will bark at you if you have more than 2 lines of white space between code blocks.\n",
    "\n",
    "Indenting is another matter. The number of lines of space between code isn’t a deal breaker. Improperly indented code will blow your script.\n",
    "\n",
    "Indenting is how the interpreter figures out what belongs to what. For example, take a look at this while code."
   ]
  },
  {
   "cell_type": "code",
   "execution_count": null,
   "metadata": {},
   "outputs": [],
   "source": [
    "while i < 10:\n",
    "    print(i)\n",
    "    i += 1"
   ]
  },
  {
   "cell_type": "markdown",
   "metadata": {},
   "source": [
    "See how line 2 and 3 are tabbed over? That tells the interpreter that line 2 and 3 belong to that while loop. Let’s look at an example of something that is nested for more clarity."
   ]
  },
  {
   "cell_type": "code",
   "execution_count": null,
   "metadata": {},
   "outputs": [],
   "source": [
    "i = 2\n",
    "upward_bound = 50\n",
    "\n",
    "print('Here are all prime numbers between 2 and ' + str(upward_bound))\n",
    "\n",
    "while i <= upward_bound:\n",
    "    x = i - 1\n",
    "    if i == 2:\n",
    "        print(i)\n",
    "        i += 1\n",
    "        continue\n",
    "    else:\n",
    "        while i > x > 1:\n",
    "            #print('x = ' + str(x))\n",
    "            if i % x == 0:\n",
    "                break\n",
    "            elif x == 2:\n",
    "                print(i)\n",
    "                break\n",
    "            else:\n",
    "                x -= 1\n",
    "    i += 1"
   ]
  },
  {
   "cell_type": "markdown",
   "metadata": {},
   "source": [
    "Here is our old friend the prime number finder again. This is a good example that illustrates how indenting defines what executes when.\n",
    "\n",
    "Lines 7 – 22 all belong to the while loop defined at line 6.\n",
    "\n",
    "Lines 13 – 21 all belong to the else portion of the if else statement.\n",
    "\n",
    "Lines 14 – 21 are what get looped over defined by the while at line 13 while the else portion of the if else statement is executing.\n",
    "\n",
    "If you took line 22 and tabbed it over one more, it would break the script. It would still run, but it would not work properly because i would not get incremented when it was supposed to. Go ahead and move line 22 over one and run it to see what happens."
   ]
  },
  {
   "cell_type": "markdown",
   "metadata": {},
   "source": [
    "<strong>Universal Style Guide</strong>\n",
    "\n",
    "The universal style guide for Python is this document called PEP8 which can be found <a href=\"https://www.python.org/dev/peps/pep-0008/\">here</a>\n",
    "\n",
    "PEP8 is basically the bible on how to write good Python code. You should spend a few hours studying this document so you can get the basic techniques memorized so you will not have to constantly reference it as you’re jamming out writing code. If you’re in the flow, you certainly don’t want to have to stop to look something up.\n"
   ]
  },
  {
   "cell_type": "markdown",
   "metadata": {},
   "source": [
    "<strong>On Being Pythonic</strong>\n",
    "\n",
    "Python isn’t just a programming language. It’s a way of life bro. I’m not even going to TRY to explain what being Pythonic is all about. Imma just let my boy Tim Peters explain it."
   ]
  },
  {
   "cell_type": "code",
   "execution_count": 2,
   "metadata": {},
   "outputs": [
    {
     "name": "stdout",
     "output_type": "stream",
     "text": [
      "The Zen of Python, by Tim Peters\n",
      "\n",
      "Beautiful is better than ugly.\n",
      "Explicit is better than implicit.\n",
      "Simple is better than complex.\n",
      "Complex is better than complicated.\n",
      "Flat is better than nested.\n",
      "Sparse is better than dense.\n",
      "Readability counts.\n",
      "Special cases aren't special enough to break the rules.\n",
      "Although practicality beats purity.\n",
      "Errors should never pass silently.\n",
      "Unless explicitly silenced.\n",
      "In the face of ambiguity, refuse the temptation to guess.\n",
      "There should be one-- and preferably only one --obvious way to do it.\n",
      "Although that way may not be obvious at first unless you're Dutch.\n",
      "Now is better than never.\n",
      "Although never is often better than *right* now.\n",
      "If the implementation is hard to explain, it's a bad idea.\n",
      "If the implementation is easy to explain, it may be a good idea.\n",
      "Namespaces are one honking great idea -- let's do more of those!\n"
     ]
    }
   ],
   "source": [
    " import this"
   ]
  },
  {
   "cell_type": "markdown",
   "metadata": {},
   "source": [
    "Copyright © 2020, Mass Street Analytics, LLC. All Rights Reserved."
   ]
  }
 ],
 "metadata": {
  "kernelspec": {
   "display_name": "Python 3",
   "language": "python",
   "name": "python3"
  },
  "language_info": {
   "codemirror_mode": {
    "name": "ipython",
    "version": 3
   },
   "file_extension": ".py",
   "mimetype": "text/x-python",
   "name": "python",
   "nbconvert_exporter": "python",
   "pygments_lexer": "ipython3",
   "version": "3.7.3"
  }
 },
 "nbformat": 4,
 "nbformat_minor": 2
}
