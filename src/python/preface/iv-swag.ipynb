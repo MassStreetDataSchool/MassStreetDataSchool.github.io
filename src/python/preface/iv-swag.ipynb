{
 "cells": [
  {
   "cell_type": "markdown",
   "metadata": {},
   "source": [
    "<a href=\"https://massstreetuniversity.com/\"><img src=\"https://tutorials.massstreetuniversity.com/images/logo.png\" alt=\"School Logo\"></a><br><br><br>\n",
    "<a href=\"https://tutorials.massstreetuniversity.com/python/\">Tutorial Home</a> | <a href=\"https://tutorials.massstreetuniversity.com/python/preface/iii-what-is-the-checklist.html\">Previous</a> | <a href=\"https://tutorials.massstreetuniversity.com/python/preflight/v-anconda.html\">Next</a>"
   ]
  },
  {
   "cell_type": "markdown",
   "metadata": {},
   "source": [
    "<h1>Section IV. Supplimentery Material</h1>"
   ]
  },
  {
   "cell_type": "markdown",
   "metadata": {},
   "source": [
    "Here are some other resources you can use to learn the material in this tutorial."
   ]
  },
  {
   "cell_type": "markdown",
   "metadata": {},
   "source": [
    "<strong>Free Seminars</strong>\n",
    "\n",
    "The free seminar Survival Python pairs well with this tutorial. It is a three-hour commitment. If you take the seminar, you can skip the basics section of this tutorial. Click the image to learn more."
   ]
  },
  {
   "cell_type": "markdown",
   "metadata": {},
   "source": [
    "<div class=\"course\">                \n",
    "        <a href=\"https://massstreetuniversity.com/course/survival-python/\" target=\"_blank\"><img width=\"678\" height=\"485\" src=\"https://massstreetuniversity.com/wp-content/uploads/2019/11/CSCI130BannerImage-678x485.jpg\" class=\"img-fluid wp-post-image\" alt=\"Survival Python\"></a>\n",
    "        <div class=\"post-content\">\n",
    "            <h4>SMNR004</h4>\n",
    "            <h3 class=\"post-title\"><a href=\"https://massstreetuniversity.com/course/survival-python/\" target=\"_blank\">Survival Python</a></h3>\n",
    "            <h4><a href=\"https://massstreetuniversity.com/course/survival-python/\" target=\"_blank\">Learn the bare essentials to start mastering Python.</a></h4>\n",
    "        </div>                                                              \n",
    "    </div>"
   ]
  },
  {
   "cell_type": "markdown",
   "metadata": {},
   "source": [
    "<strong>Blog Post</strong>\n",
    "\n",
    "Below are some blog posts that will be relevant in this tutorial and later.\n",
    "\n",
    "<a href=\"https://massstreetuniversity.com/2020/06/16/the-job-market-for-medium-data-skills/\">The Job Market for Medium Data® Skills</a>\n",
    "\n",
    "<a href=\"https://massstreetuniversity.com/2020/06/22/data-as-a-competitive-necessity/\">Data as a Competitive Necessity</a>\n",
    "\n",
    "<a href=\"https://datadrivenperspectives.com/the-benefits-of-using-python-and-t-sql-over-ssis-for-etl-ca50c6e11819\">The Benefits Of Using Python And T-SQL Over SSIS For ETL</a>\n",
    "\n",
    "<a href=\"https://massstreetuniversity.com/2020/07/14/why-do-you-need-an-etl-framework/\">Why Do You Need An ETL Framework?</a>"
   ]
  },
  {
   "cell_type": "markdown",
   "metadata": {},
   "source": [
    "<strong>Daily Python Knowledge Bowl</strong>\n",
    "\n",
    "As of this writing, Daily Python Knowledge Bowl is still in its infancy. \n",
    "\n",
    "Daily Python Knowledge Bowl is a competition on Twitter to see who can answer a question about Python. It is a great way to learn the language.\n",
    "\n",
    "The plan is to make the daily questions available for download so you can put together a deck of study cards to use to prepare for Python job interviews. Content is made on the fly so, as of 13Oct20, there is not a complete set of cards yet. I am still deciding how often I want to release content.\n",
    "\n",
    "If you want to participate, follow me on Twitter: <a href=\"https://twitter.com/BobLovesData\">@BobLovesData</a>\n",
    "\n",
    "Questions are posted at 0330 GMT.\n",
    "\n",
    "Answers are posted at 0930 GMT."
   ]
  },
  {
   "cell_type": "markdown",
   "metadata": {},
   "source": [
    "Copyright © 2020, Mass Street Analytics, LLC. All Rights Reserved."
   ]
  }
 ],
 "metadata": {
  "kernelspec": {
   "display_name": "Python 3",
   "language": "python",
   "name": "python3"
  },
  "language_info": {
   "codemirror_mode": {
    "name": "ipython",
    "version": 3
   },
   "file_extension": ".py",
   "mimetype": "text/x-python",
   "name": "python",
   "nbconvert_exporter": "python",
   "pygments_lexer": "ipython3",
   "version": "3.7.3"
  }
 },
 "nbformat": 4,
 "nbformat_minor": 2
}
