{
 "cells": [
  {
   "cell_type": "markdown",
   "metadata": {},
   "source": [
    "<a href=\"https://massstreetuniversity.com/\"><img src=\"https://tutorials.massstreetuniversity.com/images/logo.png\" alt=\"School Logo\"></a><br><br><br>\n",
    "<a href=\"https://tutorials.massstreetuniversity.com/python/\">Tutorial Home</a> | <a href=\"https://tutorials.massstreetuniversity.com/python/preface/i-authors-note.html\">Previous</a> | <a href=\"https://tutorials.massstreetuniversity.com/python/preface/iii-what-is-the-checklist.html\">Next</a>"
   ]
  },
  {
   "cell_type": "markdown",
   "metadata": {},
   "source": [
    "<h1>Section II. Tutorial Overview</h1>"
   ]
  },
  {
   "cell_type": "markdown",
   "metadata": {},
   "source": [
    "Like all MSU tutorials, this tutorial is not generic content. Yes, we need to learn syntax and all the other things you will find in every programming language. Once that is done, you are going to start learning how to use Python in a business analytics context. \n",
    "\n",
    "This tutorial is very focused on a specific use case and takes an opinionated appproch to teaching. It is for people wanting to work in business analytics doing data engineering, data science, or data visualization work. There will be no discussion of the web development frameworks Django or Flask.\n",
    "\n",
    "This tutorial is organized in four parts.\n",
    "\n",
    "<strong>Language Basics</strong>\n",
    "\n",
    "This section takes you through foundational Python\n",
    "\n",
    "<strong>Advanced Topics</strong>\n",
    "\n",
    "This section takes you into the heavier programming aspects of Python. Here you will start to learn how to perform real world task.\n",
    "\n",
    "<strong>Solutions To Real World Problems</strong>\n",
    "\n",
    "This is a highly opinionated section where I share my solutions to recurring problems that I have tackled over the past 20 years. Fortunately, all this stuff was kept in various forums, emails, and Stack Overflow in addition to the stuff I keep at the top of my head.\n",
    "\n",
    "If you are brand new to Python, much of this section may go over your head. That is ok. File it away for later.\n",
    "\n",
    "This section is basically me uploading two decades of coding experience to the internet. I am not saying the way I do things is the correct way. I am saying that this is what I did and feel free to steal and adapt to your use case.\n",
    "\n",
    "<strong>Final Project</strong>\n",
    "\n",
    "Just like universities everywhere, this tutorial has a final project. You will be given a set of business requirements. You will use the skills you have learned in this course to develop a solution. There are no answers provided. You will need to use your knowledge and creativity to tackle the problem.\n",
    "\n",
    "<strong>What We Gon Learn</strong>\n",
    "\n",
    "I am going to teach you enough Python that you can start doing basic task, with the language. Additionally, this tutorial will set you up for more advanced tutorials, and, ultimately, allow you to follow along in classes that are taught using Python.\n",
    "\n",
    "The focus of this tutorial is learning basic extract, transform, load (ETL) task with Python. It does not matter what data analytics track you go down. At some point, you are going to have to download a file, move a file, suck in a file, drag out a file, or manipulate a file. The list goes on. In business analytics, sooner or later, there is a file involved.\n",
    "\n",
    "I want to make clear that, unlike the <a href=\"https://tutorials.massstreetuniversity.com/transact-sql\">Practical T-SQL Pocket Guide For Beginners</a>, this tutorial will not give you job ready skills. Python is a huge language and you should settle in for months of study before you would be considered minimally qualified for an entry level position. This tutorial is a good start but it is not any more than that.\n",
    "\n",
    "<strong>What We Not Gon Learn</strong>\n",
    "\n",
    "I am not going to teach you how to write software with Python. Not in this tutorial. I am going to teach you how to write scripts. Scripts are a series of instructions that execute top to bottom and require only one file of source code to do its job.\n",
    "\n",
    "Learning how to write software is for people on the data engineering track. People that are on the data science track may want to learn how to write software as part of literate statistical programming training. Those on the data visualization track have the shortest path to their career. All you need is this tutorial and one more, and you’re done.\n",
    "\n",
    "<strong>A Word Of Caution About This Tutorial</strong>\n",
    "\n",
    "I do NOT take myself seriously. If you’re looking for a stuffy wishy-washy generic tutorial that is about as exciting as oatmeal, you are taking the WRONG tutorial my friend.\n",
    "\n",
    "Fun fact. In the winter months of grade school, grandma fed me oatmeal EVERYDAY for breakfast. I don’t ever want to see another bowl of oatmeal again."
   ]
  },
  {
   "cell_type": "markdown",
   "metadata": {},
   "source": [
    "Copyright © 2020, Mass Street Analytics, LLC. All Rights Reserved."
   ]
  }
 ],
 "metadata": {
  "kernelspec": {
   "display_name": "Python 3",
   "language": "python",
   "name": "python3"
  },
  "language_info": {
   "codemirror_mode": {
    "name": "ipython",
    "version": 3
   },
   "file_extension": ".py",
   "mimetype": "text/x-python",
   "name": "python",
   "nbconvert_exporter": "python",
   "pygments_lexer": "ipython3",
   "version": "3.7.3"
  }
 },
 "nbformat": 4,
 "nbformat_minor": 2
}
