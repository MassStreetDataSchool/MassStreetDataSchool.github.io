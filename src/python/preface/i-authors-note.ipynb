{
 "cells": [
  {
   "cell_type": "markdown",
   "metadata": {},
   "source": [
    "<a href=\"https://massstreetuniversity.com/\"><img src=\"https://tutorials.massstreetuniversity.com/images/logo.png\" alt=\"School Logo\"></a><br><br><br>\n",
    "<a href=\"https://tutorials.massstreetuniversity.com/python/\">Tutorial Home</a> | <a href=\"https://tutorials.massstreetuniversity.com/python/preface/ii-overview.html\">Next</a>"
   ]
  },
  {
   "cell_type": "markdown",
   "metadata": {},
   "source": [
    "<h1>Section I. A Note From The Author</h1>"
   ]
  },
  {
   "cell_type": "markdown",
   "metadata": {},
   "source": [
    "There are two main programming languages in the business analytics world: R and Python. People often ask which they should learn. People ask me that question so often that I actually wrote a blog post titled <a href=\"https://massstreetuniversity.com/2020/05/23/should-i-learn-r-or-python\"> Should I Learn R or Python?</a>\n",
    "\n",
    "The R versus Python argument might be as old as Betty White. Ok, well not that old. To be frank, it is not even about the age of the argument. It is old as in it is tiresome.\n",
    "\n",
    "My career has always been about learning the most valuable skills in the marketplace. Back when dinosaurs roamed the earth (2014), employers were pretty agnostic about rather their data people knew R or Python. However, after a few years, I started to notice the market tipping towards Python. Then I noticed that employers started going hard in the paint on Python. Then came the last straw. I tell people this all the time. I was not losing work because I did not know R. I was definitely losing work because I did not know Python.\n",
    "\n",
    "Whenever people argue about the virtues of R versus Python, they always make technical arguments about various features of the two languages. \n",
    "\n",
    "I never care about the technical reasons for learning a language. I want to know what the business case is for learning a programming language. What’s my investment? What's my risk? What's my forecasted ROI? If I am going to spend months of my life learning a new language and years mastering it, I want to make sure I am not wasting my time. I want to know I can get a job at the end of the initial learning journey. From that perspective, there is no argument.\n",
    "\n",
    "Since I have statistics in my background, I actually started using R first. When the market tilted all the way over towards Python, I put R down and have not touched it since.\n",
    "\n",
    "Now, should you at some point learn R also? Maybe? For data science, probably. Python, for all its awesomeness is a general programing language with modules that let you do data science. Some of the data science modules are poorly implemented. I would not even know that if I did not follow data scientist with PhDs on Twitter. For some things R is superior because it is what is known as a domain specific language. It is written specifically to do statistics work.\n",
    "\n",
    "My advice? Learn Python. Get a job. Learn R on your employer’s dime.\n",
    "\n",
    "-Bob"
   ]
  },
  {
   "cell_type": "markdown",
   "metadata": {},
   "source": [
    "Copyright © 2020, Mass Street Analytics, LLC. All Rights Reserved."
   ]
  }
 ],
 "metadata": {
  "kernelspec": {
   "display_name": "Python 3",
   "language": "python",
   "name": "python3"
  },
  "language_info": {
   "codemirror_mode": {
    "name": "ipython",
    "version": 3
   },
   "file_extension": ".py",
   "mimetype": "text/x-python",
   "name": "python",
   "nbconvert_exporter": "python",
   "pygments_lexer": "ipython3",
   "version": "3.7.3"
  }
 },
 "nbformat": 4,
 "nbformat_minor": 2
}
