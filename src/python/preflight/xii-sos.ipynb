{
 "cells": [
  {
   "cell_type": "markdown",
   "metadata": {},
   "source": [
    "<a href=\"https://massstreetuniversity.com/\"><img src=\"https://tutorials.massstreetuniversity.com/images/logo.png\" alt=\"School Logo\"></a><br><br><br>\n",
    "<a href=\"https://tutorials.massstreetuniversity.com/python/\">Tutorial Home</a> | <a href=\"https://tutorials.massstreetuniversity.com/python/preflight/xi-code-wars.html\">Previous</a> | <a href=\"https://tutorials.massstreetuniversity.com/python/basics/01-hello-world.html\">Next</a>"
   ]
  },
  {
   "cell_type": "markdown",
   "metadata": {},
   "source": [
    "<h1>Section XII. How To Get Help With This Tutorial</h1>"
   ]
  },
  {
   "cell_type": "markdown",
   "metadata": {},
   "source": [
    "To report an issue with an example, email support at <a href=\"mailto:Support@MassStreetUniversity.com\">Support@MassStreetUniversity.com</a>.\n",
    "\n",
    "You can also get help from the community on the school Discord server which can be found <a href=\"https://discord.gg/enfDGUH\">here</a>.\n",
    "\n",
    "The Discord server isn't just for tech support. You can come and hang out with other like minded people. Network, show off your work or whatever. The Discord server is the MSU student lounge and everybody is welcome."
   ]
  },
  {
   "cell_type": "markdown",
   "metadata": {},
   "source": [
    "Copyright © 2020, Mass Street Analytics, LLC. All Rights Reserved."
   ]
  }
 ],
 "metadata": {
  "kernelspec": {
   "display_name": "Python 3",
   "language": "python",
   "name": "python3"
  },
  "language_info": {
   "codemirror_mode": {
    "name": "ipython",
    "version": 3
   },
   "file_extension": ".py",
   "mimetype": "text/x-python",
   "name": "python",
   "nbconvert_exporter": "python",
   "pygments_lexer": "ipython3",
   "version": "3.7.3"
  }
 },
 "nbformat": 4,
 "nbformat_minor": 2
}
