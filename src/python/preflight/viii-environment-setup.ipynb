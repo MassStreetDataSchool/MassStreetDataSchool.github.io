{
 "cells": [
  {
   "cell_type": "markdown",
   "metadata": {},
   "source": [
    "<a href=\"https://massstreetuniversity.com/\"><img src=\"https://tutorials.massstreetuniversity.com/images/logo.png\" alt=\"School Logo\"></a><br><br><br>\n",
    "<a href=\"https://tutorials.massstreetuniversity.com/python/\">Tutorial Home</a> | <a href=\"https://tutorials.massstreetuniversity.com/python/preflight/vii-sql-server.html\">Previous</a> | <a href=\"https://tutorials.massstreetuniversity.com/python/preflight/ix-source-code.html\">Next</a>"
   ]
  },
  {
   "cell_type": "markdown",
   "metadata": {},
   "source": [
    "<h1>Section VIII. Configure Database Environment</h1>"
   ]
  },
  {
   "cell_type": "markdown",
   "metadata": {},
   "source": [
    "In order to run the database examples, you need to do some set up. There are three tasks.\n",
    "\n",
    "<ol>\n",
    "<li>Create A Data Source Name (DSN)</li><br>\n",
    "<li>Create The EDW Database</li><br>\n",
    "<li>Create The ODS Database</li><br>\n",
    "</ol>\n",
    "\n",
    "<strong>Create DSN</strong>\n",
    "\n",
    "Create a System DSN using the “ODBC Driver 13 For SQL Server” driver. If you do not know how to do this, follow one of the links below for your system.\n",
    "\n",
    "<a href=\" https://www.firehousesoftware.com/webhelp/FHCADMonitor/Content/InstallationGuide/03_Create64-bitODBCDataSource.htm\" target=\"_blank\">Create A DSN On Windows</a>\n",
    "\n",
    "<a href=\" http://www.actualtech.com/readme.php\" target=\"_blank\">Create A DSN On Mac</a>\n",
    "\n",
    "<strong>Create Databases</strong>\n",
    "\n",
    "In the next section, you will download the source code for the tutorial. In the source code folder, go to the following directory.\n",
    "\n",
    "tutorial-python\\SQL\\01 Preflght Checklist\\01 Configure Database Environment\n",
    "\n",
    "In that folder will be a file that creates the necessary databases. Run that file."
   ]
  },
  {
   "cell_type": "markdown",
   "metadata": {},
   "source": [
    "Copyright © 2020, Mass Street Analytics, LLC. All Rights Reserved."
   ]
  }
 ],
 "metadata": {
  "kernelspec": {
   "display_name": "Python 3",
   "language": "python",
   "name": "python3"
  },
  "language_info": {
   "codemirror_mode": {
    "name": "ipython",
    "version": 3
   },
   "file_extension": ".py",
   "mimetype": "text/x-python",
   "name": "python",
   "nbconvert_exporter": "python",
   "pygments_lexer": "ipython3",
   "version": "3.7.3"
  }
 },
 "nbformat": 4,
 "nbformat_minor": 2
}
