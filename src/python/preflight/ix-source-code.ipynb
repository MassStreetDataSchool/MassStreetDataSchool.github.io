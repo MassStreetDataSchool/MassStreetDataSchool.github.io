{
 "cells": [
  {
   "cell_type": "markdown",
   "metadata": {},
   "source": [
    "<a href=\"https://massstreetuniversity.com/\"><img src=\"https://tutorials.massstreetuniversity.com/images/logo.png\" alt=\"School Logo\"></a><br><br><br>\n",
    "<a href=\"https://tutorials.massstreetuniversity.com/python/\">Tutorial Home</a> | <a href=\"https://tutorials.massstreetuniversity.com/python/preflight/viii-environment-setup.html\">Previous</a> | <a href=\"https://tutorials.massstreetuniversity.com/python/preflight/x-starting-jupyterlab.html\">Next</a>"
   ]
  },
  {
   "cell_type": "markdown",
   "metadata": {},
   "source": [
    "<h1>Section IX. Download The Source Code</h1>"
   ]
  },
  {
   "cell_type": "markdown",
   "metadata": {},
   "source": [
    "At MSU, we train with live ammo! No silly toy datasets here! When you download the source code, make sure you put it on a disk with plenty of drive space. \n",
    "\n",
    "Put the file as close to root as possible so you do not have to type a bunch of stuff when you have to change directories. If you put it right on the root of your folder, watch out for permissions issues. \n",
    "\n",
    "Do a find and remove any foo.txt files. These files are necessary for storing the file structure in Git because Git will not pick up an empty directory. Once you have the source code, you can blow the foo.txt files away.\n",
    "\n",
    "Python source code is available in two formats: notebooks (.ipynb), and scripts (.py). \n",
    "\n",
    "The script source code is set up as a project in PyCharm so all you have to do is open the Python Scripts Folder.\n",
    "\n",
    "SQL Scripts are just text files so you can open them with any text reader, or they can be dragged and dropped onto SQL Server Management Studio.\n",
    "\n",
    "Opening the notebook files will be discussed in the next lesson.\n",
    "\n",
    "The link below will take you to the repo on GitHub. Click the green “code” button that will give you the option download a zip file.\n",
    "\n",
    "<a href=\"https://github.com/BobLovesData/tutorial-python\">Download The Source Code</a>"
   ]
  },
  {
   "cell_type": "markdown",
   "metadata": {},
   "source": [
    "Copyright © 2020, Mass Street Analytics, LLC. All Rights Reserved."
   ]
  }
 ],
 "metadata": {
  "kernelspec": {
   "display_name": "Python 3",
   "language": "python",
   "name": "python3"
  },
  "language_info": {
   "codemirror_mode": {
    "name": "ipython",
    "version": 3
   },
   "file_extension": ".py",
   "mimetype": "text/x-python",
   "name": "python",
   "nbconvert_exporter": "python",
   "pygments_lexer": "ipython3",
   "version": "3.7.3"
  }
 },
 "nbformat": 4,
 "nbformat_minor": 2
}
