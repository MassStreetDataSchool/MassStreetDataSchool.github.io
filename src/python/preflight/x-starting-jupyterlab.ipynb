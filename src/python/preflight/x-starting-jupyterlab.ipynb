{
 "cells": [
  {
   "cell_type": "markdown",
   "metadata": {},
   "source": [
    "<a href=\"https://massstreetuniversity.com/\"><img src=\"https://tutorials.massstreetuniversity.com/images/logo.png\" alt=\"School Logo\"></a><br><br><br>\n",
    "<a href=\"https://tutorials.massstreetuniversity.com/python/\">Tutorial Home</a> | <a href=\"https://tutorials.massstreetuniversity.com/python/preflight/ix-source-code.html\">Previous</a> | <a href=\"https://tutorials.massstreetuniversity.com/python/preflight/xi-code-wars.html\">Next</a>"
   ]
  },
  {
   "cell_type": "markdown",
   "metadata": {},
   "source": [
    "<h1>Section X. Starting JupyterLab</h1>"
   ]
  },
  {
   "cell_type": "markdown",
   "metadata": {},
   "source": [
    "JupyterLab is started from the command line.\n",
    "\n",
    "<ol>\n",
    "<li>Search for and open the program Anaconda Prompt.</li><br>\n",
    "<li>Change directories to wherever you placed the source code folder then change directories to tutorial-python\\Notebooks.</li><br>\n",
    "<li>Type <strong>jupyter lab</strong></li><br>\n",
    "</ol>\n",
    "\n",
    "Jupyter Lab will open in a browser window. You will also notice that the Anaconda Prompt window did not close. That is your kernel, and you need to keep that bad boy open. If you close Anaconda Prompt, your JupyterLab instance will become unresponsive and die. \n",
    "\n",
    "It is possible to bring it back to life without closing your browser window. Just follow the previous steps for starting JupyterLab and your instance will pull a Ra's al Ghul and you can keep truckin’.\n",
    "\n",
    "A security feature of JupyterLab is you cannot navigate outside of the directory you opened the program in. So whenever you start JupyterLab, make sure you are in a directory low enough that you will have access to all the assets you need to perform your work."
   ]
  },
  {
   "cell_type": "markdown",
   "metadata": {},
   "source": [
    "Copyright © 2020, Mass Street Analytics, LLC. All Rights Reserved."
   ]
  }
 ],
 "metadata": {
  "kernelspec": {
   "display_name": "Python 3",
   "language": "python",
   "name": "python3"
  },
  "language_info": {
   "codemirror_mode": {
    "name": "ipython",
    "version": 3
   },
   "file_extension": ".py",
   "mimetype": "text/x-python",
   "name": "python",
   "nbconvert_exporter": "python",
   "pygments_lexer": "ipython3",
   "version": "3.7.3"
  }
 },
 "nbformat": 4,
 "nbformat_minor": 2
}
