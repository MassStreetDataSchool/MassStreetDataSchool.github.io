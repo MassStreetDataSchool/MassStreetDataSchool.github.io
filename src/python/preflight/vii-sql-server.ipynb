{
 "cells": [
  {
   "cell_type": "markdown",
   "metadata": {},
   "source": [
    "<a href=\"https://massstreetuniversity.com/\"><img src=\"https://tutorials.massstreetuniversity.com/images/logo.png\" alt=\"School Logo\"></a><br><br><br>\n",
    "<a href=\"https://tutorials.massstreetuniversity.com/python/\">Tutorial Home</a> | <a href=\"https://tutorials.massstreetuniversity.com/python/preflight/vi-pycharm.html\">Previous</a> | <a href=\"https://tutorials.massstreetuniversity.com/python/preflight/viii-environment-setup.html\">Next</a>"
   ]
  },
  {
   "cell_type": "markdown",
   "metadata": {},
   "source": [
    "<h1>Section VII. Download SQL Server Developer Edition</h1>"
   ]
  },
  {
   "cell_type": "markdown",
   "metadata": {},
   "source": [
    "You need to download the free version of SQL Server.\n",
    "\n",
    "Why am I using SQL Server instead of PostgreSQL or MySQL for this tutorial? Cause I ain't here to waste your time. I mean, I'm assuming you're reading this for reasons. I'm the one sitting here writing this bloody thing and I'd much rather be logging hours on my A-10 simulator.\n",
    "\n",
    "Nah! You took time out of your busy life to come here to learn how to make that bread and I got your back!\n",
    "\n",
    "SQL Server is a nice mid-market database that, because of its power and price point, can be found in organizations across the spectrum of revenue and headcount. That means your skills are more portable and you have more places to apply to where you might be qualified. \n",
    "\n",
    "When it comes time to hand out them resumes, you wanna be thinking more carpet bomb and less precision guided.\n",
    "\n",
    "But you're on a Mac you say? All good. There are a couple more steps for you, but it's not that big a deal.*\n",
    "\n",
    "\n",
    "\n",
    "*Well it's KIND of a big deal. At this time there is not full support for database related lessons on non-Windows machines. If you manage to find solutions to problems I have not addressed yet, give me a shout. DMs are open."
   ]
  },
  {
   "cell_type": "markdown",
   "metadata": {},
   "source": [
    "<strong>Windows</strong>\n",
    "\n",
    "<a href=\"https://www.microsoft.com/en-us/sql-server/sql-server-downloads\">Download SQL Server Developer Edition</a>"
   ]
  },
  {
   "cell_type": "markdown",
   "metadata": {},
   "source": [
    "<strong>Non-Windows Machines</strong>\n",
    "\n",
    "You can run SQL Server on non-Windows machines using Docker. Follow the links below for resources on getting SQL Server on your machine.\n",
    "\n",
    "<a href=\"https://database.guide/how-to-install-sql-server-on-a-mac\">How to Install SQL Server on a Mac</a>\n",
    "\n",
    "<a href=\"https://www.youtube.com/watch?v=R37X3SfOLXo\">Installing SQL Server In Mac Using Docker [Video]</a>"
   ]
  },
  {
   "cell_type": "markdown",
   "metadata": {},
   "source": [
    "Copyright © 2020, Mass Street Analytics, LLC. All Rights Reserved."
   ]
  }
 ],
 "metadata": {
  "kernelspec": {
   "display_name": "Python 3",
   "language": "python",
   "name": "python3"
  },
  "language_info": {
   "codemirror_mode": {
    "name": "ipython",
    "version": 3
   },
   "file_extension": ".py",
   "mimetype": "text/x-python",
   "name": "python",
   "nbconvert_exporter": "python",
   "pygments_lexer": "ipython3",
   "version": "3.7.3"
  }
 },
 "nbformat": 4,
 "nbformat_minor": 2
}
