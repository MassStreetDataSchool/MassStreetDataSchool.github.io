{
 "cells": [
  {
   "cell_type": "markdown",
   "metadata": {},
   "source": [
    "<a href=\"https://massstreetuniversity.com/\"><img src=\"https://tutorials.massstreetuniversity.com/images/logo.png\" alt=\"School Logo\"></a><br><br><br>\n",
    "<a href=\"https://tutorials.massstreetuniversity.com/python/\">Tutorial Home</a> | <a href=\"https://tutorials.massstreetuniversity.com/python/preface/iv-swag.html\">Previous</a> | <a href=\"https://tutorials.massstreetuniversity.com/python/preflight/vi-pycharm.html\">Next</a>"
   ]
  },
  {
   "cell_type": "markdown",
   "metadata": {},
   "source": [
    "<h1>Section V. Download Anaconda</h1>"
   ]
  },
  {
   "cell_type": "markdown",
   "metadata": {},
   "source": [
    "We need more than base Python to do our jobs. There is an entire ecosystem of Python modules built to work with data. Thankfully, somebody said, “This is a lot of stuff to install. We should just make something that packages all the data analysis stuff with Python and make it a single install.” And thus, Anaconda was born.\n",
    "\n",
    "Anaconda is a distribution of Python that packages all the data science goodies that we will need into a single installer. Well, most the goodies anyway. It has a nice point and click installer so there is no real work here.\n",
    "\n",
    "<a href=\"https://www.anaconda.com/products/individual\">Install Anaconda</a>"
   ]
  },
  {
   "cell_type": "markdown",
   "metadata": {},
   "source": [
    "Copyright © 2020, Mass Street Analytics, LLC. All Rights Reserved."
   ]
  }
 ],
 "metadata": {
  "kernelspec": {
   "display_name": "Python 3",
   "language": "python",
   "name": "python3"
  },
  "language_info": {
   "codemirror_mode": {
    "name": "ipython",
    "version": 3
   },
   "file_extension": ".py",
   "mimetype": "text/x-python",
   "name": "python",
   "nbconvert_exporter": "python",
   "pygments_lexer": "ipython3",
   "version": "3.7.3"
  }
 },
 "nbformat": 4,
 "nbformat_minor": 2
}
