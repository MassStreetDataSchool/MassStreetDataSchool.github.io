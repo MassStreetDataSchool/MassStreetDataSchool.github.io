{
 "cells": [
  {
   "cell_type": "markdown",
   "metadata": {},
   "source": [
    "<a href=\"https://massstreetuniversity.com/\"><img src=\"https://tutorials.massstreetuniversity.com/images/logo.png\" alt=\"School Logo\"></a><br><br><br>\n",
    "<a href=\"https://tutorials.massstreetuniversity.com/python/\">Tutorial Home</a> | <a href=\"https://tutorials.massstreetuniversity.com/python/preflight/v-anconda.html\">Previous</a> | <a href=\"https://tutorials.massstreetuniversity.com/python/preflight/vii-sql-server.html\">Next</a>"
   ]
  },
  {
   "cell_type": "markdown",
   "metadata": {},
   "source": [
    "<h1>Section VI. Download PyCharm (Optional)</h1>"
   ]
  },
  {
   "cell_type": "markdown",
   "metadata": {},
   "source": [
    "If you are going to run the examples, you will need a development environment. Python source code will be made available in two formats: notebooks and scripts. Notebooks are ran in JupyterLab which we will learn about later. Scripts can be ran in a tool called PyCharm.\n",
    "\n",
    "PyCharm is a popular IDE for writing Python. There is a free version. \n",
    "\n",
    "Your education track should guide which tool you should learn.\n",
    "\n",
    "<table width=\"100%\" border=\"1\" align=\"center\">\n",
    "  <tbody>\n",
    "    <tr>\n",
    "      <th scope=\"col\">&nbsp;</th>\n",
    "      <th scope=\"col\">Use JupyterLab</th>\n",
    "\t  <th scope=\"col\">Use PyCharm</th>\n",
    "    </tr>\n",
    "    <tr>\n",
    "      <td valign=\"top\">Data Science</td>\n",
    "      <td valign=\"top\" align=\"center\">X</td>\n",
    "\t  <td valign=\"top\">&nbsp;</td>\n",
    "    </tr>\n",
    "\t  <tr>\n",
    "      <td valign=\"top\">Data Engineering</td>\n",
    "      <td valign=\"top\">&nbsp;</td>\n",
    "\t  <td valign=\"top\" align=\"center\">X</td>\n",
    "    </tr>\n",
    "\t  <tr>\n",
    "      <td valign=\"top\">Data Visualization</td>\n",
    "      <td valign=\"top\" align=\"center\">X</td>\n",
    "\t  <td valign=\"top\">&nbsp;</td>\n",
    "    </tr>\n",
    "    </tbody>\n",
    "</table>"
   ]
  },
  {
   "cell_type": "markdown",
   "metadata": {},
   "source": [
    "PyCharm also has a nice installer so there is no real work here either.\n",
    "\n",
    "<a href=\"https://www.jetbrains.com/pycharm/download\">Download PyCharm Community Edition</a>"
   ]
  },
  {
   "cell_type": "markdown",
   "metadata": {},
   "source": [
    "Copyright © 2020, Mass Street Analytics, LLC. All Rights Reserved."
   ]
  }
 ],
 "metadata": {
  "kernelspec": {
   "display_name": "Python 3",
   "language": "python",
   "name": "python3"
  },
  "language_info": {
   "codemirror_mode": {
    "name": "ipython",
    "version": 3
   },
   "file_extension": ".py",
   "mimetype": "text/x-python",
   "name": "python",
   "nbconvert_exporter": "python",
   "pygments_lexer": "ipython3",
   "version": "3.7.3"
  }
 },
 "nbformat": 4,
 "nbformat_minor": 2
}
