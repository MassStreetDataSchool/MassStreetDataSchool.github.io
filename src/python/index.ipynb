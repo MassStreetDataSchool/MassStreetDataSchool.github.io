{
 "cells": [
  {
   "cell_type": "markdown",
   "metadata": {},
   "source": [
    "<a href=\"https://massstreetuniversity.com/\"><img src=\"https://tutorials.massstreetuniversity.com/images/logo.png\" alt=\"School Logo\"></a>"
   ]
  },
  {
   "cell_type": "markdown",
   "metadata": {},
   "source": [
    "<h1>Hands-On Python Tutorial For Real-World Business Analytics Problems</h1>\n",
    "<strong>Foundational skills for data science, data engineering, and data visualization.</strong><br><br>\n",
    "\n",
    "<strong>Author: Bob Wakefield</strong>\n",
    "<hr>"
   ]
  },
  {
   "cell_type": "markdown",
   "metadata": {},
   "source": [
    "<strong>This tutorial is currently in beta release. All lessons are completed. All code works. Some lessons may have typos.</strong>"
   ]
  },
  {
   "cell_type": "markdown",
   "metadata": {},
   "source": [
    "<h1>Preface<h1>\n",
    "<table width=\"100%\" border=\"1\" align=\"center\">\n",
    "  <tbody>\n",
    "    <tr>\n",
    "      <td valign=\"top\">I. <a href=\"preface/i-authors-note.html\">A Note From The Author</a></td>\n",
    "      <td valign=\"top\">II. <a href=\"preface/ii-overview.html\">Tutorial Overview</a></td>\n",
    "    </tr>\n",
    "    <tr>\n",
    "       <td valign=\"top\">III. <a href=\"preface/iii-what-is-the-checklist.html\">What Is The Preflight Checklist?</a></td>\n",
    "      <td valign=\"top\">IV. <a href=\"preface/iv-swag.html\">Supplimentery Material</a></td>\n",
    "    </tr>\n",
    "    </tbody>\n",
    "</table>"
   ]
  },
  {
   "cell_type": "markdown",
   "metadata": {},
   "source": [
    "<h1>Preflight Checklist<h1>\n",
    "<table width=\"100%\" border=\"1\" align=\"center\">\n",
    "  <tbody>\n",
    "    <tr>\n",
    "      <td valign=\"top\">V. <a href=\"preflight/v-anconda.html\">Download Anaconda</a></td>\n",
    "      <td valign=\"top\">VI. <a href=\"preflight/vi-pycharm.html\">Download PyCharm (Optional)</a></td>\n",
    "    </tr>\n",
    "    <tr>\n",
    "       <td valign=\"top\">VII. <a href=\"preflight/vii-sql-server.html\">Download SQL Server Developer Edition</a></td>\n",
    "      <td valign=\"top\">VIII. <a href=\"preflight/viii-environment-setup.html\">Configure Database Environment</a></td>\n",
    "    </tr>\n",
    "    <tr>\n",
    "      <td valign=\"top\">IX. <a href=\"preflight/ix-source-code.html\">Download The Source Code</a></td>\n",
    "      <td valign=\"top\">X. <a href=\"preflight/x-starting-jupyterlab.html\">Starting JupyterLab</a></td>\n",
    "    </tr>\n",
    "     <tr>\n",
    "      <td valign=\"top\">XI. <a href=\"preflight/xi-code-wars.html\">Sign Up For Code Wars</a></td>\n",
    "      <td valign=\"top\">XII. <a href=\"preflight/xii-sos.html\">How To Get Help With This Tutorial</a></td>\n",
    "    </tr>\n",
    "    </tbody>\n",
    "</table>"
   ]
  },
  {
   "cell_type": "markdown",
   "metadata": {},
   "source": [
    "<h1>Language Basics<h1>\n",
    "<table width=\"100%\" border=\"1\" align=\"center\">\n",
    "  <tbody>\n",
    "    <tr>\n",
    "      <td valign=\"top\">1. <a href=\"basics/01-hello-world.html\">Obligatory Hello World</a></td>\n",
    "      <td valign=\"top\">2. <a href=\"basics/02-code-comments.html\">Code Comments</a></td>\n",
    "    </tr>\n",
    "    <tr>\n",
    "       <td valign=\"top\">3. <a href=\"basics/03-data-types.html\">Data Types</a></td>\n",
    "      <td valign=\"top\">4. <a href=\"basics/04-variables.html\">Variables</a></td>\n",
    "    </tr>\n",
    "    <tr>\n",
    "      <td valign=\"top\">5. <a href=\"basics/05-string-concatenation.html\">String Concatenation</a></td>\n",
    "      <td valign=\"top\">6. <a href=\"basics/06-arithmetic-operators.html\">Arithmetic Operators</a></td>\n",
    "    </tr>\n",
    "     <tr>\n",
    "      <td valign=\"top\">7. <a href=\"basics/07-making-decisions.html\">Making Decisions</a></td>\n",
    "      <td valign=\"top\">8. <a href=\"basics/08-control-flow-if-else.html\">Control Flow With if-elif-else</a></td>\n",
    "    </tr>\n",
    "    <tr>\n",
    "      <td valign=\"top\">9. <a href=\"basics/09-control-flow-while.html\">Control Flow With While</a></td>\n",
    "      <td valign=\"top\">10. <a href=\"basics/10-list.html\">Data Structures Part I: List</a></td>\n",
    "    </tr>\n",
    "     <tr>\n",
    "      <td valign=\"top\">11. <a href=\"basics/11-tuples.html\">Data Structures Part II: Tuples</a></td>\n",
    "      <td valign=\"top\">12. <a href=\"basics/12-dictionaries.html\">Data Structures Part III: Dictionaries</a></td>\n",
    "    </tr>\n",
    "    <tr>\n",
    "      <td valign=\"top\">13. <a href=\"basics/13-looping-with-for.html\">Looping With for</a></td>\n",
    "      <td valign=\"top\">14. <a href=\"basics/14-functions.html\">Functions</a></td>\n",
    "    </tr>\n",
    "    <tr>\n",
    "      <td valign=\"top\">15. <a href=\"basics/15-importing-modules.html\">Importing Modules</a></td>\n",
    "      <td valign=\"top\">16. <a href=\"basics/16-pep8.html\">Python Programming Standards</a></td>\n",
    "    </tr>\n",
    "    </tbody>\n",
    "</table>"
   ]
  },
  {
   "cell_type": "markdown",
   "metadata": {},
   "source": [
    "<h1>Advanced Topics<h1>\n",
    "<table width=\"100%\" border=\"1\" align=\"center\">\n",
    "  <tbody>\n",
    "    <tr>\n",
    "      <td valign=\"top\">17. <a href=\"advanced/17-map.html\">Functional Programing With map</a></td>\n",
    "      <td valign=\"top\">18. <a href=\"advanced/18-generators.html\">Generators</a></td>\n",
    "    </tr>\n",
    "    <tr>\n",
    "      <td valign=\"top\">19. <a href=\"advanced/19-comprehensions.html\">Comprehensions</a></td>\n",
    "      <td valign=\"top\">20. <a href=\"advanced/20-basic-file-operations.html\">Basic File Operations</a></td>\n",
    "    </tr>\n",
    "    <tr>\n",
    "      <td valign=\"top\">21. <a href=\"advanced/21-numpy.html\">Working With Data In NumPy</a></td>\n",
    "      <td valign=\"top\">22. <a href=\"advanced/22-pandas.html\">Working With Data In Pandas</a></td>\n",
    "    </tr>\n",
    "    <tr>\n",
    "      <td valign=\"top\">23. <a href=\"advanced/23-json.html\">Working With JSON</a></td>\n",
    "      <td valign=\"top\">24. <a href=\"advanced/24-requesting-files-with-http-ftp.html\">Making File Request Over HTTP And FTP</a></td>\n",
    "    </tr>\n",
    "    <tr>\n",
    "      <td valign=\"top\">25. <a href=\"advanced/25-databases.html\">Interacting With Databases</a></td>\n",
    "      <td valign=\"top\">26. <a href=\"advanced/26-saving-objects-with-pickle.html\">Saving Objects With Pickle</a></td>\n",
    "    </tr>\n",
    "    <tr>\n",
    "      <td valign=\"top\">27. <a href=\"advanced/27-error-handling.html\">Error Handling</a></td>\n",
    "      <td valign=\"top\">28. <a href=\"advanced/28-bringing-it-all-together.html\">Bringing It All Together</a></td>\n",
    "    </tr>\n",
    "    </tbody>\n",
    "</table>"
   ]
  },
  {
   "cell_type": "markdown",
   "metadata": {},
   "source": [
    "<h1>Solutions To Real World Problems<h1>\n",
    "<table width=\"100%\" border=\"1\" align=\"center\">\n",
    "  <tbody>\n",
    "    <tr>\n",
    "      <td valign=\"top\">29. <a href=\"solutions/29-download-a-zip-file.html\">Download A Zip File Over HTTP</a></td>\n",
    "      <td valign=\"top\">30. <a href=\"solutions/30-looping-over-files-in-a-directory.html\">Looping Over Files In A Directory</a></td>\n",
    "    </tr>\n",
    "    <tr>\n",
    "      <td valign=\"top\">31. <a href=\"solutions/31-convert-file-to-pipe-delimited.html\">Convert Comma Delmited Files To Pipe Delimited</a></td>\n",
    "      <td valign=\"top\">32. <a href=\"solutions/32-combine-csvs-into-one-file.html\">Combining Multiple CSVs Into One File</a></td>\n",
    "    </tr>\n",
    "    <tr>\n",
    "      <td valign=\"top\">33. <a href=\"solutions/33-load-large-csvs-into-data-warehouse.html\">Load Large CSVs Into Data Warehouse Staging Tables</a></td>\n",
    "      <td valign=\"top\">34. <a href=\"solutions/34-efficient-disk-write.html\">Efficiently Write Large Database Query Results To Disk</a></td>\n",
    "    </tr>\n",
    "     <tr>\n",
    "      <td valign=\"top\">35. <a href=\"solutions/35-sftp-in-the-real-world.html\">Working With SFTP In The Real World</a></td>\n",
    "      <td valign=\"top\">36. <a href=\"solutions/36-run-python-from-sql-server.html\">Executing Python From SQL Server Agent</a></td>\n",
    "    </tr>\n",
    "    </tbody>\n",
    "</table>"
   ]
  },
  {
   "cell_type": "markdown",
   "metadata": {},
   "source": [
    "<h1>Final Project<h1>\n",
    "<table width=\"100%\" border=\"1\" align=\"center\">\n",
    "  <tbody>\n",
    "    <tr>\n",
    "      <td valign=\"top\">37. <a href=\"project/37-final-project.html\">Final Project</a></td>\n",
    "      <td valign=\"top\">38. <a href=\"project/38-further-training.html\">Further Training</a></td>\n",
    "    </tr>\n",
    "    </tbody>\n",
    "</table>"
   ]
  },
  {
   "cell_type": "markdown",
   "metadata": {},
   "source": [
    "Copyright © 2020, Mass Street Analytics, LLC. All Rights Reserved."
   ]
  }
 ],
 "metadata": {
  "kernelspec": {
   "display_name": "Python 3",
   "language": "python",
   "name": "python3"
  },
  "language_info": {
   "codemirror_mode": {
    "name": "ipython",
    "version": 3
   },
   "file_extension": ".py",
   "mimetype": "text/x-python",
   "name": "python",
   "nbconvert_exporter": "python",
   "pygments_lexer": "ipython3",
   "version": "3.7.3"
  }
 },
 "nbformat": 4,
 "nbformat_minor": 2
}
