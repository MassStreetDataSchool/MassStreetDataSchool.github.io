{
 "cells": [
  {
   "cell_type": "markdown",
   "metadata": {},
   "source": [
    "<a href=\"https://massstreetuniversity.com/\"><img src=\"https://tutorials.massstreetuniversity.com/images/logo.png\" alt=\"School Logo\"></a>"
   ]
  },
  {
   "cell_type": "markdown",
   "metadata": {},
   "source": [
    "<h1>Python Tutorial</h1>\n",
    "\n",
    "<strong>Primary Author: Bob Wakefield</strong>"
   ]
  },
  {
   "cell_type": "markdown",
   "metadata": {},
   "source": [
    "<strong>This tutorial is currently an alpha release. New content is released daily.</strong><br>\n",
    "\n",
    "<strong>Release Number: 2</strong><br>\n",
    "\n",
    "<a href=\"release-history.html\"><strong>Release History</strong></a><br><br>\n",
    "\n",
    "\n",
    "To report an issue with an example you can:\n",
    "\n",
    "1. Report the issue at Support@MassStreetUniversity.com.\n",
    "2. Get help from the community on the school Discord server which can be found [here](https://discord.gg/enfDGUH).\n",
    "\n",
    "\n",
    "\n",
    "\n",
    "\n",
    "\n",
    "<hr>"
   ]
  },
  {
   "cell_type": "markdown",
   "metadata": {},
   "source": [
    "<h1>Language Basics<h1><br>\n",
    "<table width=\"100%\" border=\"1\" align=\"center\">\n",
    "  <tbody>\n",
    "    <tr>\n",
    "      <td valign=\"top\">1. <a href=\"basics/01-hello-world.html\">Obligatory Hello World</a></td>\n",
    "      <td valign=\"top\">2. <a href=\"basics/02-code-comments.html\">Code Comments</a></td>\n",
    "    </tr>\n",
    "    <tr>\n",
    "      <td valign=\"top\">3. <a href=\"basics/03-variables.html\">Variables</a></td>\n",
    "      <td valign=\"top\">4. <a href=\"basics/04-data-types.html\">Data Types</a></td>\n",
    "    </tr>\n",
    "    <tr>\n",
    "      <td valign=\"top\">5. <a href=\"basics/05-string-concatenation.html\">String Concatenation</a></td>\n",
    "      <td valign=\"top\">6. <a href=\"basics/06-arithmetic-operators.html\">Arithmetic Operators</a></td>\n",
    "    </tr>\n",
    "     <tr>\n",
    "      <td valign=\"top\">5. <a href=\"basics/07-making-decisions.html\n",
    "\">Making Decisions\n",
    "</a></td>\n",
    "      <td valign=\"top\">&nbsp;</td>\n",
    "    </tr>\n",
    "    </tbody>\n",
    "</table>"
   ]
  },
  {
   "cell_type": "markdown",
   "metadata": {},
   "source": [
    "Copyright © 2020, Mass Street Analytics, LLC. All Rights Reserved."
   ]
  }
 ],
 "metadata": {
  "kernelspec": {
   "display_name": "Python 3",
   "language": "python",
   "name": "python3"
  },
  "language_info": {
   "codemirror_mode": {
    "name": "ipython",
    "version": 3
   },
   "file_extension": ".py",
   "mimetype": "text/x-python",
   "name": "python",
   "nbconvert_exporter": "python",
   "pygments_lexer": "ipython3",
   "version": "3.7.3"
  }
 },
 "nbformat": 4,
 "nbformat_minor": 2
}
