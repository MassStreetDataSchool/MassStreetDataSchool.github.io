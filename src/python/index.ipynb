{
 "cells": [
  {
   "cell_type": "markdown",
   "metadata": {},
   "source": [
    "<a href=\"https://massstreetuniversity.com/\"><img src=\"https://tutorials.massstreetuniversity.com/images/logo.png\" alt=\"School Logo\"></a>"
   ]
  },
  {
   "cell_type": "markdown",
   "metadata": {},
   "source": [
    "<h1>Hands-On Python Tutorial For Real-World Business Analytics Problems</h1>\n",
    "\n",
    "<strong>Primary Author: Bob Wakefield</strong>"
   ]
  },
  {
   "cell_type": "markdown",
   "metadata": {},
   "source": [
    "<strong>This tutorial is currently an alpha release. New content is released frequently.</strong><br>\n",
    "\n",
    "<strong>Release Number: 6</strong><br>\n",
    "\n",
    "<a href=\"release-history.html\"><strong>Release History</strong></a><br><br>\n",
    "\n",
    "\n",
    "To report an issue with an example you can:\n",
    "\n",
    "1. Report the issue at <a href=\"mailto:Support@MassStreetUniversity.com\">Support@MassStreetUniversity.com</a>.\n",
    "2. Get help from the community on the school Discord server which can be found [here](https://discord.gg/enfDGUH).\n",
    "\n",
    "\n",
    "\n",
    "\n",
    "\n",
    "\n",
    "<hr>"
   ]
  },
  {
   "cell_type": "markdown",
   "metadata": {},
   "source": [
    "<h1>Language Basics<h1><br>\n",
    "<table width=\"100%\" border=\"1\" align=\"center\">\n",
    "  <tbody>\n",
    "    <tr>\n",
    "      <td valign=\"top\">1. <a href=\"basics/01-hello-world.html\">Obligatory Hello World</a></td>\n",
    "      <td valign=\"top\">2. <a href=\"basics/02-code-comments.html\">Code Comments</a></td>\n",
    "    </tr>\n",
    "    <tr>\n",
    "       <td valign=\"top\">3. <a href=\"basics/03-data-types.html\">Data Types</a></td>\n",
    "      <td valign=\"top\">4. <a href=\"basics/04-variables.html\">Variables</a></td>\n",
    "    </tr>\n",
    "    <tr>\n",
    "      <td valign=\"top\">5. <a href=\"basics/05-string-concatenation.html\">String Concatenation</a></td>\n",
    "      <td valign=\"top\">6. <a href=\"basics/06-arithmetic-operators.html\">Arithmetic Operators</a></td>\n",
    "    </tr>\n",
    "     <tr>\n",
    "      <td valign=\"top\">7. <a href=\"basics/07-making-decisions.html\">Making Decisions</a></td>\n",
    "      <td valign=\"top\">8. <a href=\"basics/08-control-flow-if-else.html\">Control Flow With if-elif-else</a></td>\n",
    "    </tr>\n",
    "    <tr>\n",
    "      <td valign=\"top\">9. <a href=\"basics/09-control-flow-while.html\">Control Flow With While</a></td>\n",
    "      <td valign=\"top\">10. <a href=\"basics/10-list.html\">Data Structures Part I: List</a></td>\n",
    "    </tr>\n",
    "     <tr>\n",
    "      <td valign=\"top\">11. <a href=\"basics/11-tuples.html\">Data Structures Part II: Tuples</a></td>\n",
    "      <td valign=\"top\">12. <a href=\"basics/12-dictionaries.html\">Data Structures Part III: Dictionaries</a></td>\n",
    "    </tr>\n",
    "    <tr>\n",
    "      <td valign=\"top\">13. <a href=\"basics/13-looping-with-for.html\">Looping With for</a></td>\n",
    "      <td valign=\"top\">14. <a href=\"basics/14-functions.html\">Functions</a></td>\n",
    "    </tr>\n",
    "    <tr>\n",
    "      <td valign=\"top\">15. <a href=\"basics/15-importing-modules.html\">Importing Modules</a></td>\n",
    "      <td valign=\"top\">16. <a href=\"basics/16-pep8.html\">Python Programming Standards</a></td>\n",
    "    </tr>\n",
    "    </tbody>\n",
    "</table>"
   ]
  },
  {
   "cell_type": "markdown",
   "metadata": {},
   "source": [
    "<h1>Advanced Topics<h1><br>\n",
    "<table width=\"100%\" border=\"1\" align=\"center\">\n",
    "  <tbody>\n",
    "    <tr>\n",
    "      <td valign=\"top\">17. <a href=\"advanced/17-map.html\">Functional Programing With map</a></td>\n",
    "       <td valign=\"top\">&nbsp;</td>\n",
    "      <!--<td valign=\"top\">18. <a href=\"advanced/18-generators.html\">Generators</a></td>-->\n",
    "    </tr>\n",
    "    <!--\n",
    "    <tr>\n",
    "      <td valign=\"top\">19. <a href=\"advanced/19-comprehensions.html\">Comprehensions</a></td>\n",
    "      <td valign=\"top\">&nbsp;</td>\n",
    "    </tr>\n",
    "    -->\n",
    "    <!--\n",
    "    <tr>\n",
    "      <td valign=\"top\"></td>\n",
    "      <td valign=\"top\"></td>\n",
    "    </tr>\n",
    "    -->\n",
    "    </tbody>\n",
    "</table>"
   ]
  },
  {
   "cell_type": "markdown",
   "metadata": {},
   "source": [
    "<h1>Solutions To Real World Problems<h1><br>\n",
    "<table width=\"100%\" border=\"1\" align=\"center\">\n",
    "  <tbody>\n",
    "    <tr>\n",
    "      <td valign=\"top\">29. <a href=\"solutions/29-download-a-zip-file.html\">Download A Zip File Over HTTP</a></td>\n",
    "      <td valign=\"top\">30. <a href=\"solutions/30-looping-over-files-in-a-directory.html\">Looping Over Files In A Directory</a></td>\n",
    "    </tr>\n",
    "    <!--\n",
    "    <tr>\n",
    "      <td valign=\"top\">19. <a href=\"advanced/19-comprehensions.html\">Comprehensions</a></td>\n",
    "      <td valign=\"top\">&nbsp;</td>\n",
    "    </tr>\n",
    "    -->\n",
    "    <!--\n",
    "    <tr>\n",
    "      <td valign=\"top\"></td>\n",
    "      <td valign=\"top\"></td>\n",
    "    </tr>\n",
    "    -->\n",
    "    </tbody>\n",
    "</table>"
   ]
  },
  {
   "cell_type": "markdown",
   "metadata": {},
   "source": [
    "Copyright © 2020, Mass Street Analytics, LLC. All Rights Reserved."
   ]
  }
 ],
 "metadata": {
  "kernelspec": {
   "display_name": "Python 3",
   "language": "python",
   "name": "python3"
  },
  "language_info": {
   "codemirror_mode": {
    "name": "ipython",
    "version": 3
   },
   "file_extension": ".py",
   "mimetype": "text/x-python",
   "name": "python",
   "nbconvert_exporter": "python",
   "pygments_lexer": "ipython3",
   "version": "3.7.3"
  }
 },
 "nbformat": 4,
 "nbformat_minor": 2
}
