{
 "cells": [
  {
   "cell_type": "markdown",
   "metadata": {},
   "source": [
    "<a href=\"https://massstreetuniversity.com/\"><img src=\"http://tutorials.massstreetuniversity.com/images/logo.png\" alt=\"School Logo\"/><br><br><br>\n",
    "<a href=\"http://tutorials.massstreetuniversity.com/transact-sql/\">Tutorial Home</a>"
   ]
  },
  {
   "cell_type": "markdown",
   "metadata": {},
   "source": [
    "# Listing All Columns in A SQL Server Database #"
   ]
  },
  {
   "cell_type": "markdown",
   "metadata": {},
   "source": [
    "The primary use of this script is to help in the creation of a data dictionary. It can be used to find a specific column by utilizing the where clause."
   ]
  },
  {
   "cell_type": "code",
   "execution_count": null,
   "metadata": {},
   "outputs": [],
   "source": [
    "USE [AdventureWorks2016]\n",
    "GO\n",
    "\n",
    "SELECT \n",
    "SCHEMA_NAME(t.schema_id) AS [Schema],\n",
    "t.name AS [Table Name],\n",
    "c.name AS [Column Name],\n",
    "CASE\n",
    "WHEN ty.name = 'char' OR ty.name = 'nvarchar' THEN CONCAT(ty.name,'(',ty.max_length,')')\n",
    "WHEN ty.name = 'numeric' THEN CONCAT(ty.name,'(',ty.precision,',',ty.scale,')')\n",
    "ELSE ty.name\n",
    "END AS [Data Type]\n",
    "FROM sys.tables AS t\n",
    "JOIN sys.columns c \n",
    "ON t.OBJECT_ID = c.OBJECT_ID\n",
    "JOIN sys.types ty \n",
    "ON c.user_type_id = ty.user_type_id\n",
    "LEFT OUTER JOIN sys.index_columns ic \n",
    "ON ic.object_id = c.object_id \n",
    "AND ic.column_id = c.column_id\n",
    "LEFT OUTER JOIN sys.indexes i \n",
    "ON ic.object_id = i.object_id \n",
    "AND ic.index_id = i.index_id\n",
    "WHERE 1 = 1\n",
    "--AND c.name LIKE '%YourColumnName%'\n",
    "ORDER BY [Table Name], [Column Name]"
   ]
  }
 ],
 "metadata": {
  "kernelspec": {
   "display_name": "Python 3",
   "language": "python",
   "name": "python3"
  },
  "language_info": {
   "codemirror_mode": {
    "name": "ipython",
    "version": 3
   },
   "file_extension": ".py",
   "mimetype": "text/x-python",
   "name": "python",
   "nbconvert_exporter": "python",
   "pygments_lexer": "ipython3",
   "version": "3.7.3"
  }
 },
 "nbformat": 4,
 "nbformat_minor": 2
}
