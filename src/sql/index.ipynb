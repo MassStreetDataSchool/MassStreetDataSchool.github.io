{
 "cells": [
  {
   "cell_type": "markdown",
   "metadata": {},
   "source": [
    "<a href=\"https://massstreetuniversity.com/\"><img src=\"http://tutorials.massstreetuniversity.com/images/logo.png\" alt=\"School Logo\"></a>"
   ]
  },
  {
   "cell_type": "markdown",
   "metadata": {},
   "source": [
    "<h1>Transact SQL Tutorial</h1>\n",
    "\n",
    "**Primary Author: Bob Wakefield**"
   ]
  },
  {
   "cell_type": "markdown",
   "metadata": {},
   "source": [
    "Transact SQL, often shortened to T-SQL, is Microsoft’s proprietary implementation of ANSI standard SQL. Transact SQL adds more power and programming functionality to ANSI SQL and is used exclusively with the SQL Server database management system.\n",
    "\n",
    "Basic T-SQL shares many elements with ANSI SQL and we do not make a distinction in this tutorial.\n",
    "\n",
    "One thing you need to understand is that SQL, especially Transact SQL, is a legit programming language. It is relatively simplistic compared to the likes of Python, but it is fairly powerful non the less, and you cannot afford to be a lazy programmer. Most of the concepts from computer science 101 will apply to white SQL with the notable exception that SQL is a procedural programming language unlike most popular languages which are object oriented.\n",
    "\n",
    "This tutorial is organized in three parts.\n",
    "\n",
    "**Language Basics**\n",
    "\n",
    "This section is takes you through foundational T-SQL and it is recommended that you go through the tutorial in the order of the lessons given. The next two sections are in no particular order.\n",
    "\n",
    "**Advanced Topics**\n",
    "\n",
    "This section takes you into the heavier programming aspects of T-SQL. Here you will start to dive into issues of writing high performance code.\n",
    "\n",
    "**Solutions To Real World Problems**\n",
    "\n",
    "This is a highly opinionated section where I share my solutions to recurring problems that I have tackled over the past 20 years. Fortunately, all this stuff was kept in various forums, emails, and Stack Overflow in addition to the stuff I keep at the top of my head.\n",
    " \n",
    "This section is basically me uploading two decades of coding experience to the internet. I am not saying the way I do things is the correct way. I am saying that this is what I did and feel free to steal and adapt to your use case.\n",
    "\n",
    "**Running The Examples**\n",
    "\n",
    "All code examples have been run on SQL Server 2016 against the 2016 backup of the AdventureWorks database. Instructions on how to download and install the database can be found [here](https://github.com/MassStreetUniversity/sql-server-samples/tree/master/samples/databases/adventure-works).\n",
    "\n",
    "To report an issue with an example you can:\n",
    "\n",
    "1. Report the issue at Support@MassStreetUniversity.com.\n",
    "2. Get help from the community on the school Discord server which can be found [here](https://discord.gg/enfDGUH).\n",
    "<hr>"
   ]
  },
  {
   "cell_type": "markdown",
   "metadata": {},
   "source": [
    "<h1>Solutions To Real World Problems<h1><br>\n",
    "<table width=\"100%\" border=\"1\" align=\"center\">\n",
    "  <tbody>\n",
    "    <tr>\n",
    "      <td valign=\"top\" align=\"left\"><ul><li>Listing All Tables In A SQL Server Database</li></ul></td>\n",
    "      <td valign=\"top\" align=\"left\"><ul><li>Listing All Columns In A SQL Server Database</li></ul></td>\n",
    "    </tr>\n",
    "    <tr>\n",
    "      <td valign=\"top\" align=\"left\"><ul><li>Pull Records From A Table At Random</li></ul></td>\n",
    "      <td valign=\"top\" align=\"left\"><ul><li>A Better Alternative To WITH (NOLOCK)</li></ul></td>\n",
    "    </tr>\n",
    "    <tr>\n",
    "      <td valign=\"top\" align=\"left\"><ul><li>Boost Performance When Calling A Stored Proc From SSIS</li></ul></td>\n",
    "      <td valign=\"top\" align=\"left\"><ul><li>Setting Up Queries For Ablation Testing</li></ul> </td>\n",
    "    </tr>\n",
    "    <tr>\n",
    "      <td valign=\"top\" align=\"left\"><ul><li>Reduce Code And Save Time With Default Column Values</li></ul></td>\n",
    "      <td valign=\"top\" align=\"left\"><ul><li>Finding Duplicate Records In A Table</li></ul></td>\n",
    "    </tr>\n",
    "    <tr>\n",
    "      <td valign=\"top\" align=\"left\"><ul><li>Why You Cannot Have More Than One Clustered Index On A Table</li></ul></td>\n",
    "      <td valign=\"top\" align=\"left\"><ul><li>Converting Dates To YYYYMMDD</li></ul></td>\n",
    "    </tr>\n",
    "    <tr>\n",
    "      <td valign=\"top\" align=\"left\"><ul><li>Sending Notification Emails With T-SQL Without Using Hardcoded Email Addresses</li></ul></td>\n",
    "      <td valign=\"top\" align=\"left\"><ul><li>Troubleshooting Long Running Queries</li></ul></td>\n",
    "    </tr>\n",
    "    <tr>\n",
    "      <td valign=\"top\" align=\"left\"><ul><li>Loading Large CSVs Into Data Warehouse Staging Tables</li></ul></td>\n",
    "      <td valign=\"top\" align=\"left\"><ul><li>The Only Bloody Good Reason To Use Cursors (AKA Moving Large Amounts Of Data Between Tables)</li></ul></td>\n",
    "    </tr>\n",
    "    <tr>\n",
    "      <td valign=\"top\" align=\"left\"><ul><li>Loading A Type II Slowly Changing Dimension With SQL Merge</li></ul></td>\n",
    "      <td valign=\"top\" align=\"left\"><ul><li>A Clearer Explanation Of The Parameters Of The Numeric Data Type</li></ul></td>\n",
    "    </tr>\n",
    "    <tr>\n",
    "      <td valign=\"top\" align=\"left\"><ul><li>Why You Cannot Join On Null Values</li></ul></td>\n",
    "      <td valign=\"top\" align=\"left\"><ul><li>A Deep Dive On How The Where Clause Functions</li></ul></td>\n",
    "    </tr>\n",
    "    <tr>\n",
    "      <td valign=\"top\" align=\"left\"><ul><li>Using HASHBYTES() To Compare Character Strings</li></ul></td>\n",
    "      <td valign=\"top\" align=\"left\"><ul><li>Using Pipe To Hash Multiple Columns For Matching</li></ul></td>\n",
    "    </tr>\n",
    "    <tr>\n",
    "      <td valign=\"top\" align=\"left\"><ul><li>Why People That Indent Code Drive Me Nuts (AKA A Recommended SQL Style Guide)</li></ul></td>\n",
    "      <td valign=\"top\" align=\"left\"><ul><li>How To Rapidly Stand Up A Data Warehouse From Scratch</li></ul></td>\n",
    "    </tr>\n",
    "  </tbody>\n",
    "</table>"
   ]
  },
  {
   "cell_type": "markdown",
   "metadata": {},
   "source": [
    "Copyright © 2020, Mass Street Analytics, LLC. All Rights Reserved."
   ]
  }
 ],
 "metadata": {
  "kernelspec": {
   "display_name": "Python 3",
   "language": "python",
   "name": "python3"
  },
  "language_info": {
   "codemirror_mode": {
    "name": "ipython",
    "version": 3
   },
   "file_extension": ".py",
   "mimetype": "text/x-python",
   "name": "python",
   "nbconvert_exporter": "python",
   "pygments_lexer": "ipython3",
   "version": "3.7.3"
  }
 },
 "nbformat": 4,
 "nbformat_minor": 2
}
